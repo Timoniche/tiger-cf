{
 "cells": [
  {
   "cell_type": "code",
   "execution_count": 3,
   "id": "b36c2656-fa95-4c1c-91c9-492b13fb9f33",
   "metadata": {
    "execution": {
     "iopub.execute_input": "2025-10-26T20:46:18.034069Z",
     "iopub.status.busy": "2025-10-26T20:46:18.033742Z",
     "iopub.status.idle": "2025-10-26T20:46:18.043330Z",
     "shell.execute_reply": "2025-10-26T20:46:18.042749Z",
     "shell.execute_reply.started": "2025-10-26T20:46:18.034041Z"
    },
    "tags": []
   },
   "outputs": [],
   "source": [
    "from collections import defaultdict\n",
    "\n",
    "import numpy as np\n",
    "import json\n",
    "import pickle"
   ]
  },
  {
   "cell_type": "code",
   "execution_count": 4,
   "id": "6e7f0ae9-8deb-40f5-8661-81d9c619ead5",
   "metadata": {
    "execution": {
     "iopub.execute_input": "2025-10-26T20:46:29.508655Z",
     "iopub.status.busy": "2025-10-26T20:46:29.508201Z",
     "iopub.status.idle": "2025-10-26T20:46:29.539673Z",
     "shell.execute_reply": "2025-10-26T20:46:29.539077Z",
     "shell.execute_reply.started": "2025-10-26T20:46:29.508637Z"
    },
    "tags": []
   },
   "outputs": [],
   "source": [
    "embeddings_input_path = '../data/Beauty/content_embeddings.pkl'"
   ]
  },
  {
   "cell_type": "code",
   "execution_count": 5,
   "id": "1bc69354-0503-42a2-b494-a8fd98c92d0d",
   "metadata": {
    "execution": {
     "iopub.execute_input": "2025-10-26T20:46:33.954653Z",
     "iopub.status.busy": "2025-10-26T20:46:33.954171Z",
     "iopub.status.idle": "2025-10-26T20:46:42.666143Z",
     "shell.execute_reply": "2025-10-26T20:46:42.665531Z",
     "shell.execute_reply.started": "2025-10-26T20:46:33.954628Z"
    },
    "tags": []
   },
   "outputs": [],
   "source": [
    "with open(embeddings_input_path, 'rb') as f:\n",
    "    data = pickle.load(f)\n",
    "\n",
    "item_ids = np.array(data['item_id'], dtype=np.int64)\n",
    "X = np.array(data['embedding'], dtype=np.float32)"
   ]
  },
  {
   "cell_type": "code",
   "execution_count": 6,
   "id": "d1b8dd3c-75b2-4b3f-8286-0c0350f8c610",
   "metadata": {
    "execution": {
     "iopub.execute_input": "2025-10-26T20:46:42.667663Z",
     "iopub.status.busy": "2025-10-26T20:46:42.667043Z",
     "iopub.status.idle": "2025-10-26T20:46:42.678437Z",
     "shell.execute_reply": "2025-10-26T20:46:42.677847Z",
     "shell.execute_reply.started": "2025-10-26T20:46:42.667645Z"
    },
    "tags": []
   },
   "outputs": [
    {
     "data": {
      "text/plain": [
       "(12101, 4096)"
      ]
     },
     "execution_count": 6,
     "metadata": {},
     "output_type": "execute_result"
    }
   ],
   "source": [
    "X.shape"
   ]
  },
  {
   "cell_type": "code",
   "execution_count": 7,
   "id": "2e2a685c-ea15-467a-81a7-20d128a083c4",
   "metadata": {
    "execution": {
     "iopub.execute_input": "2025-10-26T20:46:56.085526Z",
     "iopub.status.busy": "2025-10-26T20:46:56.085127Z",
     "iopub.status.idle": "2025-10-26T20:46:56.105576Z",
     "shell.execute_reply": "2025-10-26T20:46:56.104893Z",
     "shell.execute_reply.started": "2025-10-26T20:46:56.085505Z"
    },
    "tags": []
   },
   "outputs": [
    {
     "data": {
      "text/plain": [
       "array([-0.04701373,  0.26094416, -0.32016486, ..., -0.32683063,\n",
       "        0.16486016,  0.2398256 ], shape=(4096,), dtype=float32)"
      ]
     },
     "execution_count": 7,
     "metadata": {},
     "output_type": "execute_result"
    }
   ],
   "source": [
    "X[0]"
   ]
  },
  {
   "cell_type": "code",
   "execution_count": 8,
   "id": "32fabd49-2e0d-45e3-bdac-13aa9237d6db",
   "metadata": {
    "execution": {
     "iopub.execute_input": "2025-10-26T20:47:03.154188Z",
     "iopub.status.busy": "2025-10-26T20:47:03.153110Z",
     "iopub.status.idle": "2025-10-26T20:47:03.172285Z",
     "shell.execute_reply": "2025-10-26T20:47:03.171712Z",
     "shell.execute_reply.started": "2025-10-26T20:47:03.154167Z"
    },
    "tags": []
   },
   "outputs": [],
   "source": [
    "pairs_path = '../data/Beauty/positive_pairs.txt'"
   ]
  },
  {
   "cell_type": "code",
   "execution_count": 9,
   "id": "e838c4cc-707e-4b31-86e3-6ab783584bbd",
   "metadata": {
    "execution": {
     "iopub.execute_input": "2025-10-26T20:47:05.250178Z",
     "iopub.status.busy": "2025-10-26T20:47:05.249815Z",
     "iopub.status.idle": "2025-10-26T20:47:05.570354Z",
     "shell.execute_reply": "2025-10-26T20:47:05.569687Z",
     "shell.execute_reply.started": "2025-10-26T20:47:05.250161Z"
    },
    "tags": []
   },
   "outputs": [],
   "source": [
    "pairs = []\n",
    "with open(pairs_path, 'r', encoding='utf-8') as f:\n",
    "    for line in f:\n",
    "        two_ints = line.strip().split()\n",
    "        if len(two_ints) != 2:\n",
    "            raise ValueError(f\"not two ints, {two_ints_ints}\")\n",
    "        anchor, positive = map(int, two_ints)\n",
    "        pairs.append((anchor, positive))"
   ]
  },
  {
   "cell_type": "code",
   "execution_count": 11,
   "id": "1e373d71-d7af-46fc-a764-64ee553b8ca5",
   "metadata": {
    "execution": {
     "iopub.execute_input": "2025-10-26T20:47:19.623629Z",
     "iopub.status.busy": "2025-10-26T20:47:19.623271Z",
     "iopub.status.idle": "2025-10-26T20:47:19.638735Z",
     "shell.execute_reply": "2025-10-26T20:47:19.638029Z",
     "shell.execute_reply.started": "2025-10-26T20:47:19.623611Z"
    },
    "tags": []
   },
   "outputs": [
    {
     "data": {
      "text/plain": [
       "131413"
      ]
     },
     "execution_count": 11,
     "metadata": {},
     "output_type": "execute_result"
    }
   ],
   "source": [
    "len(pairs)"
   ]
  },
  {
   "cell_type": "code",
   "execution_count": 12,
   "id": "773596a5-a514-4007-a9f6-833a7e8a12e9",
   "metadata": {
    "execution": {
     "iopub.execute_input": "2025-10-26T20:47:23.528400Z",
     "iopub.status.busy": "2025-10-26T20:47:23.527511Z",
     "iopub.status.idle": "2025-10-26T20:47:23.546358Z",
     "shell.execute_reply": "2025-10-26T20:47:23.545670Z",
     "shell.execute_reply.started": "2025-10-26T20:47:23.528375Z"
    },
    "tags": []
   },
   "outputs": [
    {
     "data": {
      "text/plain": [
       "[(9839, 11863),\n",
       " (11863, 11752),\n",
       " (11752, 9449),\n",
       " (3309, 4572),\n",
       " (4572, 9079),\n",
       " (9079, 4136),\n",
       " (4386, 6362),\n",
       " (6362, 4208),\n",
       " (4208, 5665),\n",
       " (5665, 453)]"
      ]
     },
     "execution_count": 12,
     "metadata": {},
     "output_type": "execute_result"
    }
   ],
   "source": [
    "pairs[:10]"
   ]
  },
  {
   "cell_type": "markdown",
   "id": "b0ebb0e0-6db6-4b8b-8972-14d819ff3e68",
   "metadata": {},
   "source": [
    "чек что в наших парах нет дубликатов"
   ]
  },
  {
   "cell_type": "code",
   "execution_count": 13,
   "id": "0f26e090-a44c-4264-a1d5-6339ec44a03f",
   "metadata": {
    "execution": {
     "iopub.execute_input": "2025-10-26T20:47:30.171484Z",
     "iopub.status.busy": "2025-10-26T20:47:30.170932Z",
     "iopub.status.idle": "2025-10-26T20:47:30.199236Z",
     "shell.execute_reply": "2025-10-26T20:47:30.198455Z",
     "shell.execute_reply.started": "2025-10-26T20:47:30.171464Z"
    },
    "tags": []
   },
   "outputs": [
    {
     "data": {
      "text/plain": [
       "0"
      ]
     },
     "execution_count": 13,
     "metadata": {},
     "output_type": "execute_result"
    }
   ],
   "source": [
    "cnt = 0\n",
    "for (a, b) in pairs:\n",
    "    if a == b:\n",
    "        cnt += 1\n",
    "cnt"
   ]
  },
  {
   "cell_type": "code",
   "execution_count": 14,
   "id": "1207eb9d-5b5f-4134-bc44-4698044c49f9",
   "metadata": {
    "execution": {
     "iopub.execute_input": "2025-10-26T20:47:37.487684Z",
     "iopub.status.busy": "2025-10-26T20:47:37.487335Z",
     "iopub.status.idle": "2025-10-26T20:47:37.520232Z",
     "shell.execute_reply": "2025-10-26T20:47:37.519464Z",
     "shell.execute_reply.started": "2025-10-26T20:47:37.487667Z"
    },
    "tags": []
   },
   "outputs": [
    {
     "data": {
      "text/plain": [
       "(12101, 4096)"
      ]
     },
     "execution_count": 14,
     "metadata": {},
     "output_type": "execute_result"
    }
   ],
   "source": [
    "num_items, D = X.shape\n",
    "num_items, D"
   ]
  },
  {
   "cell_type": "code",
   "execution_count": 15,
   "id": "c5d87478-448b-4fa8-a777-a6701c9d257e",
   "metadata": {
    "execution": {
     "iopub.execute_input": "2025-10-26T20:47:38.127815Z",
     "iopub.status.busy": "2025-10-26T20:47:38.127162Z",
     "iopub.status.idle": "2025-10-26T20:47:38.155905Z",
     "shell.execute_reply": "2025-10-26T20:47:38.155301Z",
     "shell.execute_reply.started": "2025-10-26T20:47:38.127796Z"
    },
    "tags": []
   },
   "outputs": [
    {
     "data": {
      "text/plain": [
       "12100"
      ]
     },
     "execution_count": 15,
     "metadata": {},
     "output_type": "execute_result"
    }
   ],
   "source": [
    "max_id = int(item_ids.max())\n",
    "max_id"
   ]
  },
  {
   "cell_type": "code",
   "execution_count": 16,
   "id": "a303ced2-7212-4ce9-a515-3fd851e5fb0a",
   "metadata": {
    "execution": {
     "iopub.execute_input": "2025-10-26T20:47:44.378322Z",
     "iopub.status.busy": "2025-10-26T20:47:44.377919Z",
     "iopub.status.idle": "2025-10-26T20:47:56.292169Z",
     "shell.execute_reply": "2025-10-26T20:47:56.291415Z",
     "shell.execute_reply.started": "2025-10-26T20:47:44.378298Z"
    },
    "tags": []
   },
   "outputs": [],
   "source": [
    "import torch\n",
    "import torch.nn as nn\n",
    "import torch.nn.functional as F\n",
    "from dataclasses import dataclass\n",
    "from typing import List, Tuple\n",
    "import numpy as np\n",
    "import pickle"
   ]
  },
  {
   "cell_type": "code",
   "execution_count": 17,
   "id": "e9f6552e-1d8e-4239-8f96-f9bce0980591",
   "metadata": {
    "execution": {
     "iopub.execute_input": "2025-10-26T20:47:56.293505Z",
     "iopub.status.busy": "2025-10-26T20:47:56.293126Z",
     "iopub.status.idle": "2025-10-26T20:47:56.723907Z",
     "shell.execute_reply": "2025-10-26T20:47:56.723172Z",
     "shell.execute_reply.started": "2025-10-26T20:47:56.293488Z"
    },
    "tags": []
   },
   "outputs": [],
   "source": [
    "base_emb = nn.Embedding(max_id + 1, D)"
   ]
  },
  {
   "cell_type": "code",
   "execution_count": 18,
   "id": "b4d46012-995e-4837-9202-93c0aaaa2d07",
   "metadata": {
    "execution": {
     "iopub.execute_input": "2025-10-26T20:47:56.724956Z",
     "iopub.status.busy": "2025-10-26T20:47:56.724623Z",
     "iopub.status.idle": "2025-10-26T20:47:57.013946Z",
     "shell.execute_reply": "2025-10-26T20:47:57.013176Z",
     "shell.execute_reply.started": "2025-10-26T20:47:56.724934Z"
    },
    "tags": []
   },
   "outputs": [],
   "source": [
    "with torch.no_grad():\n",
    "    base_emb.weight.zero_()\n",
    "    base_emb.weight[item_ids] = F.normalize(torch.tensor(X), dim=1)\n",
    "\n",
    "for p in base_emb.parameters():\n",
    "    p.requires_grad_(False)"
   ]
  },
  {
   "cell_type": "code",
   "execution_count": 19,
   "id": "b87c97ca-6fb8-4375-8ad1-74d7332559e7",
   "metadata": {
    "execution": {
     "iopub.execute_input": "2025-10-26T20:48:37.156571Z",
     "iopub.status.busy": "2025-10-26T20:48:37.156187Z",
     "iopub.status.idle": "2025-10-26T20:48:37.177351Z",
     "shell.execute_reply": "2025-10-26T20:48:37.176765Z",
     "shell.execute_reply.started": "2025-10-26T20:48:37.156553Z"
    },
    "tags": []
   },
   "outputs": [],
   "source": [
    "class TowerMLP(nn.Module):\n",
    "    def __init__(self, d_in, d_hidden, d_out, num_layers=2, p_drop=0.0):\n",
    "        super().__init__()\n",
    "        layers = []\n",
    "        last = d_in\n",
    "        for _ in range(num_layers - 1):\n",
    "            layers += [nn.Linear(last, d_hidden), nn.ReLU(), nn.Dropout(p_drop)]\n",
    "            last = d_hidden\n",
    "        layers += [nn.Linear(last, d_out)]\n",
    "        self.net = nn.Sequential(*layers)\n",
    "\n",
    "    def forward(self, x):\n",
    "        return F.normalize(self.net(x), dim=1)"
   ]
  },
  {
   "cell_type": "code",
   "execution_count": 20,
   "id": "6886fbd0-8488-4a95-ade5-7543fd1db1b6",
   "metadata": {
    "execution": {
     "iopub.execute_input": "2025-10-26T20:48:37.825902Z",
     "iopub.status.busy": "2025-10-26T20:48:37.825593Z",
     "iopub.status.idle": "2025-10-26T20:48:38.019663Z",
     "shell.execute_reply": "2025-10-26T20:48:38.019016Z",
     "shell.execute_reply.started": "2025-10-26T20:48:37.825885Z"
    },
    "tags": []
   },
   "outputs": [],
   "source": [
    "tower = TowerMLP(D, D, D, num_layers=2, p_drop=0.0)"
   ]
  },
  {
   "cell_type": "code",
   "execution_count": 21,
   "id": "631cc2e1-958d-4abb-9f47-0e881806a5a0",
   "metadata": {
    "execution": {
     "iopub.execute_input": "2025-10-26T20:49:01.943842Z",
     "iopub.status.busy": "2025-10-26T20:49:01.943474Z",
     "iopub.status.idle": "2025-10-26T20:49:01.956834Z",
     "shell.execute_reply": "2025-10-26T20:49:01.956260Z",
     "shell.execute_reply.started": "2025-10-26T20:49:01.943824Z"
    },
    "tags": []
   },
   "outputs": [],
   "source": [
    "@dataclass\n",
    "class PairDataset(torch.utils.data.Dataset):\n",
    "    pairs: List[Tuple[int, int]]\n",
    "    def __len__(self): return len(self.pairs)\n",
    "    def __getitem__(self, idx):\n",
    "        a, p = self.pairs[idx]\n",
    "        return torch.tensor(a), torch.tensor(p)"
   ]
  },
  {
   "cell_type": "code",
   "execution_count": 22,
   "id": "f52cd660-b285-48e9-bd30-053e3b2d8f62",
   "metadata": {
    "execution": {
     "iopub.execute_input": "2025-10-26T20:49:07.555475Z",
     "iopub.status.busy": "2025-10-26T20:49:07.555047Z",
     "iopub.status.idle": "2025-10-26T20:49:07.564930Z",
     "shell.execute_reply": "2025-10-26T20:49:07.564330Z",
     "shell.execute_reply.started": "2025-10-26T20:49:07.555458Z"
    },
    "tags": []
   },
   "outputs": [],
   "source": [
    "B = 32"
   ]
  },
  {
   "cell_type": "code",
   "execution_count": 23,
   "id": "1a126beb-0a1f-4091-becd-e01383efb601",
   "metadata": {
    "execution": {
     "iopub.execute_input": "2025-10-26T20:49:26.707881Z",
     "iopub.status.busy": "2025-10-26T20:49:26.707502Z",
     "iopub.status.idle": "2025-10-26T20:49:26.719493Z",
     "shell.execute_reply": "2025-10-26T20:49:26.718895Z",
     "shell.execute_reply.started": "2025-10-26T20:49:26.707863Z"
    },
    "tags": []
   },
   "outputs": [],
   "source": [
    "ds = PairDataset(pairs)\n",
    "loader = torch.utils.data.DataLoader(ds, batch_size=B, shuffle=True, drop_last=True)"
   ]
  },
  {
   "cell_type": "code",
   "execution_count": 24,
   "id": "963031fb-3479-4106-bc2b-9dc3afe15e36",
   "metadata": {
    "execution": {
     "iopub.execute_input": "2025-10-26T20:49:33.123027Z",
     "iopub.status.busy": "2025-10-26T20:49:33.122514Z",
     "iopub.status.idle": "2025-10-26T20:49:33.135089Z",
     "shell.execute_reply": "2025-10-26T20:49:33.134486Z",
     "shell.execute_reply.started": "2025-10-26T20:49:33.123008Z"
    },
    "tags": []
   },
   "outputs": [],
   "source": [
    "def nt_xent_loss(z1, z2, tau=0.07):\n",
    "    \"\"\"\n",
    "    с 0.07 вопросы, конечно, смотрел статью SimCLR, а в либе lightly.loss.ntx_ent_loss.NTXentLoss стоит 0.5 дефолт\n",
    "    \"\"\"\n",
    "    logits12 = (z1 @ z2.T) / tau\n",
    "    logits21 = (z2 @ z1.T) / tau\n",
    "    labels = torch.arange(z1.size(0), device=z1.device)\n",
    "    return 0.5 * (F.cross_entropy(logits12, labels) + F.cross_entropy(logits21, labels))"
   ]
  },
  {
   "cell_type": "code",
   "execution_count": 25,
   "id": "7b0658d4-5de0-423a-abfd-b1c31f36d047",
   "metadata": {
    "execution": {
     "iopub.execute_input": "2025-10-26T20:49:36.218308Z",
     "iopub.status.busy": "2025-10-26T20:49:36.217751Z",
     "iopub.status.idle": "2025-10-26T20:49:46.655826Z",
     "shell.execute_reply": "2025-10-26T20:49:46.654881Z",
     "shell.execute_reply.started": "2025-10-26T20:49:36.218279Z"
    },
    "tags": []
   },
   "outputs": [
    {
     "name": "stderr",
     "output_type": "stream",
     "text": [
      "/kernel/lib/python3.11/site-packages/_distutils_hack/__init__.py:18: UserWarning: Distutils was imported before Setuptools, but importing Setuptools also replaces the `distutils` module in `sys.modules`. This may lead to undesirable behaviors or errors. To avoid these issues, avoid using distutils directly, ensure that setuptools is installed in the traditional way (e.g. not an editable install), and/or make sure that setuptools is always imported before distutils.\n",
      "  warnings.warn(\n",
      "/kernel/lib/python3.11/site-packages/_distutils_hack/__init__.py:33: UserWarning: Setuptools is replacing distutils.\n",
      "  warnings.warn(\"Setuptools is replacing distutils.\")\n"
     ]
    }
   ],
   "source": [
    "opt = torch.optim.AdamW(tower.parameters(), lr=3e-4, weight_decay=1e-4)\n",
    "device = torch.device('cuda' if torch.cuda.is_available() else 'cpu')\n",
    "tower = tower.to(device)\n",
    "base_emb = base_emb.to(device)"
   ]
  },
  {
   "cell_type": "code",
   "execution_count": 26,
   "id": "0b5d07cd-d398-4ffb-92b4-8476ce6759d4",
   "metadata": {
    "execution": {
     "iopub.execute_input": "2025-10-26T20:49:46.656945Z",
     "iopub.status.busy": "2025-10-26T20:49:46.656554Z",
     "iopub.status.idle": "2025-10-26T20:49:46.668586Z",
     "shell.execute_reply": "2025-10-26T20:49:46.668015Z",
     "shell.execute_reply.started": "2025-10-26T20:49:46.656928Z"
    },
    "tags": []
   },
   "outputs": [
    {
     "data": {
      "text/plain": [
       "device(type='cuda')"
      ]
     },
     "execution_count": 26,
     "metadata": {},
     "output_type": "execute_result"
    }
   ],
   "source": [
    "device"
   ]
  },
  {
   "cell_type": "code",
   "execution_count": 27,
   "id": "1c92dcb9-1455-4c40-bf83-7c7038ecf3f6",
   "metadata": {
    "execution": {
     "iopub.execute_input": "2025-10-26T20:50:00.643669Z",
     "iopub.status.busy": "2025-10-26T20:50:00.643215Z",
     "iopub.status.idle": "2025-10-26T20:50:00.653707Z",
     "shell.execute_reply": "2025-10-26T20:50:00.653100Z",
     "shell.execute_reply.started": "2025-10-26T20:50:00.643646Z"
    },
    "tags": []
   },
   "outputs": [
    {
     "data": {
      "text/plain": [
       "Embedding(12101, 4096)"
      ]
     },
     "execution_count": 27,
     "metadata": {},
     "output_type": "execute_result"
    }
   ],
   "source": [
    "base_emb"
   ]
  },
  {
   "cell_type": "code",
   "execution_count": 29,
   "id": "c877c2a5-2da7-482d-8a5e-918568b9e46a",
   "metadata": {
    "execution": {
     "iopub.execute_input": "2025-10-26T20:50:23.410483Z",
     "iopub.status.busy": "2025-10-26T20:50:23.410013Z",
     "iopub.status.idle": "2025-10-26T20:50:24.325445Z",
     "shell.execute_reply": "2025-10-26T20:50:24.324837Z",
     "shell.execute_reply.started": "2025-10-26T20:50:23.410463Z"
    },
    "tags": []
   },
   "outputs": [
    {
     "data": {
      "text/plain": [
       "tensor([ 0.0093,  0.0063, -0.0002,  ..., -0.0030, -0.0096,  0.0041],\n",
       "       device='cuda:0')"
      ]
     },
     "execution_count": 29,
     "metadata": {},
     "output_type": "execute_result"
    }
   ],
   "source": [
    "base_emb(torch.tensor(9839).to(device))"
   ]
  },
  {
   "cell_type": "code",
   "execution_count": 30,
   "id": "41bcd809-c54f-4c31-abd4-ba7aadfffcfa",
   "metadata": {
    "execution": {
     "iopub.execute_input": "2025-10-26T20:50:30.247574Z",
     "iopub.status.busy": "2025-10-26T20:50:30.247186Z",
     "iopub.status.idle": "2025-10-26T20:50:30.315700Z",
     "shell.execute_reply": "2025-10-26T20:50:30.315072Z",
     "shell.execute_reply.started": "2025-10-26T20:50:30.247556Z"
    },
    "tags": []
   },
   "outputs": [],
   "source": [
    "from tqdm.auto import tqdm "
   ]
  },
  {
   "cell_type": "code",
   "execution_count": 33,
   "id": "767959d5-97b3-44b2-83ce-d69fcd1798cd",
   "metadata": {
    "execution": {
     "iopub.execute_input": "2025-10-26T20:52:03.329034Z",
     "iopub.status.busy": "2025-10-26T20:52:03.328506Z",
     "iopub.status.idle": "2025-10-26T20:52:59.945042Z",
     "shell.execute_reply": "2025-10-26T20:52:59.944410Z",
     "shell.execute_reply.started": "2025-10-26T20:52:03.329016Z"
    },
    "tags": []
   },
   "outputs": [
    {
     "name": "stdout",
     "output_type": "stream",
     "text": [
      "len(loader) is 4106\n"
     ]
    },
    {
     "name": "stderr",
     "output_type": "stream",
     "text": [
      "                                                             \r"
     ]
    },
    {
     "name": "stdout",
     "output_type": "stream",
     "text": [
      "epoch 1: loss=2.7126\n",
      "len(loader) is 4106\n"
     ]
    },
    {
     "name": "stderr",
     "output_type": "stream",
     "text": [
      "                                                             \r"
     ]
    },
    {
     "name": "stdout",
     "output_type": "stream",
     "text": [
      "epoch 2: loss=2.6199\n",
      "len(loader) is 4106\n"
     ]
    },
    {
     "name": "stderr",
     "output_type": "stream",
     "text": [
      "                                                             "
     ]
    },
    {
     "name": "stdout",
     "output_type": "stream",
     "text": [
      "epoch 3: loss=2.5577\n"
     ]
    },
    {
     "name": "stderr",
     "output_type": "stream",
     "text": [
      "\r"
     ]
    }
   ],
   "source": [
    "for epoch in range(3):\n",
    "    running = 0.0\n",
    "    print(f\"len(loader) is {len(loader)}\")\n",
    "    for a_ids, p_ids in tqdm(loader, desc=f\"epoch {epoch+1}\", leave=False):\n",
    "        a_ids, p_ids = a_ids.to(device), p_ids.to(device)\n",
    "        with torch.no_grad():\n",
    "            a_base = base_emb(a_ids)\n",
    "            p_base = base_emb(p_ids)\n",
    "        zA = tower(a_base)\n",
    "        zP = tower(p_base)\n",
    "        loss = nt_xent_loss(zA, zP, tau=0.07)\n",
    "        opt.zero_grad(set_to_none=True)\n",
    "        loss.backward()\n",
    "        torch.nn.utils.clip_grad_norm_(tower.parameters(), 1.0)\n",
    "        opt.step()\n",
    "        running += loss.item()\n",
    "        # break # временно прогоняю только один батч\n",
    "    print(f\"epoch {epoch+1}: loss={running/len(loader):.4f}\")"
   ]
  },
  {
   "cell_type": "code",
   "execution_count": 34,
   "id": "f2281617-3b54-4766-ba3f-542bbd90e1a1",
   "metadata": {
    "execution": {
     "iopub.execute_input": "2025-10-26T20:53:11.621283Z",
     "iopub.status.busy": "2025-10-26T20:53:11.620829Z",
     "iopub.status.idle": "2025-10-26T20:53:11.641583Z",
     "shell.execute_reply": "2025-10-26T20:53:11.640974Z",
     "shell.execute_reply.started": "2025-10-26T20:53:11.621264Z"
    }
   },
   "outputs": [
    {
     "data": {
      "text/plain": [
       "tensor([ 0.0093,  0.0063, -0.0002,  ..., -0.0030, -0.0096,  0.0041],\n",
       "       device='cuda:0')"
      ]
     },
     "execution_count": 34,
     "metadata": {},
     "output_type": "execute_result"
    }
   ],
   "source": [
    "base_emb(torch.tensor(9839).to(device))"
   ]
  },
  {
   "cell_type": "code",
   "execution_count": 38,
   "id": "be562d50-b964-4cdb-a8a6-3b4120360f40",
   "metadata": {
    "execution": {
     "iopub.execute_input": "2025-10-26T20:57:26.495659Z",
     "iopub.status.busy": "2025-10-26T20:57:26.495127Z",
     "iopub.status.idle": "2025-10-26T20:57:26.511430Z",
     "shell.execute_reply": "2025-10-26T20:57:26.510735Z",
     "shell.execute_reply.started": "2025-10-26T20:57:26.495641Z"
    },
    "tags": []
   },
   "outputs": [
    {
     "data": {
      "text/plain": [
       "tensor([[-0.0082, -0.0239, -0.0034,  ...,  0.0116, -0.0077,  0.0035]],\n",
       "       device='cuda:0', grad_fn=<DivBackward0>)"
      ]
     },
     "execution_count": 38,
     "metadata": {},
     "output_type": "execute_result"
    }
   ],
   "source": [
    "with torch.no_grad():\n",
    "    item = 9839\n",
    "    idx = torch.tensor([item], dtype=torch.long, device=device)\n",
    "    base = base_emb(idx)\n",
    "tower(base)"
   ]
  },
  {
   "cell_type": "code",
   "execution_count": 40,
   "id": "cd7a39b0-3f80-4cbb-a39e-267350375e22",
   "metadata": {
    "execution": {
     "iopub.execute_input": "2025-10-26T20:58:30.546171Z",
     "iopub.status.busy": "2025-10-26T20:58:30.545646Z",
     "iopub.status.idle": "2025-10-26T20:58:30.562042Z",
     "shell.execute_reply": "2025-10-26T20:58:30.561246Z",
     "shell.execute_reply.started": "2025-10-26T20:58:30.546139Z"
    },
    "tags": []
   },
   "outputs": [],
   "source": [
    "new_df = {\n",
    "    'item_id': [],\n",
    "    'embedding': []\n",
    "}"
   ]
  },
  {
   "cell_type": "code",
   "execution_count": 41,
   "id": "6775ab16-2176-4e2c-83fb-7d8a7db2989c",
   "metadata": {
    "execution": {
     "iopub.execute_input": "2025-10-26T20:58:38.896322Z",
     "iopub.status.busy": "2025-10-26T20:58:38.895180Z",
     "iopub.status.idle": "2025-10-26T20:58:40.294321Z",
     "shell.execute_reply": "2025-10-26T20:58:40.293709Z",
     "shell.execute_reply.started": "2025-10-26T20:58:38.896303Z"
    },
    "tags": []
   },
   "outputs": [
    {
     "name": "stderr",
     "output_type": "stream",
     "text": [
      "100%|██████████| 24/24 [00:01<00:00, 17.54it/s]\n"
     ]
    }
   ],
   "source": [
    "tower.eval()\n",
    "with torch.no_grad():\n",
    "    for batch_ids in tqdm(torch.split(torch.tensor(item_ids), 512)):\n",
    "        batch_ids = batch_ids.to(device)\n",
    "        base_vecs = base_emb(batch_ids)\n",
    "        tuned_vecs = tower(base_vecs)  # (bs, D)\n",
    "        new_df['item_id'] += batch_ids.cpu().tolist()\n",
    "        # вот тут надо хорошо подумать, хорошо бы, чтобы тюненые эмбеды далеко не убегали от исходного\n",
    "        # какой-то лосс или мягкая сумма (1 - alpha) * ... + alpha * ... \n",
    "        # или сделать, как в той статье, где обучали вектор смещения дельта\n",
    "        # или почитать, как сделали в PLUM\n",
    "        new_df['embedding'] += tuned_vecs.cpu().tolist()"
   ]
  },
  {
   "cell_type": "code",
   "execution_count": 42,
   "id": "043f5e11-fb95-4ecc-92a2-e12d58fafced",
   "metadata": {
    "execution": {
     "iopub.execute_input": "2025-10-26T20:58:44.141574Z",
     "iopub.status.busy": "2025-10-26T20:58:44.141042Z",
     "iopub.status.idle": "2025-10-26T20:58:44.156575Z",
     "shell.execute_reply": "2025-10-26T20:58:44.155970Z",
     "shell.execute_reply.started": "2025-10-26T20:58:44.141541Z"
    },
    "tags": []
   },
   "outputs": [],
   "source": [
    "tuned_embeddings_output_path = '../data/Beauty/tuned_content_embeddings.pkl'"
   ]
  },
  {
   "cell_type": "code",
   "execution_count": 43,
   "id": "14175c93-0d84-44ef-87d4-945814863f1a",
   "metadata": {
    "execution": {
     "iopub.execute_input": "2025-10-26T20:58:48.124065Z",
     "iopub.status.busy": "2025-10-26T20:58:48.123667Z",
     "iopub.status.idle": "2025-10-26T20:59:23.344022Z",
     "shell.execute_reply": "2025-10-26T20:59:23.343360Z",
     "shell.execute_reply.started": "2025-10-26T20:58:48.124045Z"
    },
    "tags": []
   },
   "outputs": [],
   "source": [
    "with open(tuned_embeddings_output_path, 'wb') as f:\n",
    "    pickle.dump(new_df, f, protocol=pickle.HIGHEST_PROTOCOL)"
   ]
  },
  {
   "cell_type": "code",
   "execution_count": null,
   "id": "5b6450c9-f12a-4e8a-a4bd-4540840f577d",
   "metadata": {},
   "outputs": [],
   "source": []
  }
 ],
 "metadata": {
  "kernelspec": {
   "display_name": "DataSphere Kernel",
   "language": "python",
   "name": "python3"
  },
  "language_info": {
   "codemirror_mode": {
    "name": "ipython",
    "version": 3
   },
   "file_extension": ".py",
   "mimetype": "text/x-python",
   "name": "python",
   "nbconvert_exporter": "python",
   "pygments_lexer": "ipython3",
   "version": "3.10.12"
  }
 },
 "nbformat": 4,
 "nbformat_minor": 5
}
