{
 "cells": [
  {
   "cell_type": "markdown",
   "id": "b9745f20-eab1-446b-b732-8e5daa113c71",
   "metadata": {},
   "source": [
    "Loading embeddings from Llama"
   ]
  },
  {
   "cell_type": "code",
   "execution_count": 1,
   "id": "aeae0ae4-194d-43d3-800a-0ba866f2e6c3",
   "metadata": {
    "execution": {
     "iopub.execute_input": "2025-10-26T12:02:04.698479Z",
     "iopub.status.busy": "2025-10-26T12:02:04.697311Z",
     "iopub.status.idle": "2025-10-26T12:02:04.726228Z",
     "shell.execute_reply": "2025-10-26T12:02:04.725276Z",
     "shell.execute_reply.started": "2025-10-26T12:02:04.698436Z"
    }
   },
   "outputs": [],
   "source": [
    "from collections import defaultdict\n",
    "\n",
    "import numpy as np\n",
    "import json\n",
    "import pickle"
   ]
  },
  {
   "cell_type": "code",
   "execution_count": 2,
   "id": "107edf7f-0f12-4bd2-82f6-d2ecc5ae914e",
   "metadata": {
    "execution": {
     "iopub.execute_input": "2025-10-26T12:02:39.473857Z",
     "iopub.status.busy": "2025-10-26T12:02:39.472807Z",
     "iopub.status.idle": "2025-10-26T12:02:39.489426Z",
     "shell.execute_reply": "2025-10-26T12:02:39.488612Z",
     "shell.execute_reply.started": "2025-10-26T12:02:39.473816Z"
    }
   },
   "outputs": [],
   "source": [
    "embeddings_input_path = '../data/Beauty/content_embeddings.pkl'"
   ]
  },
  {
   "cell_type": "code",
   "execution_count": 3,
   "id": "0c78d3d6-897b-4c87-9435-f7cfd6212100",
   "metadata": {
    "execution": {
     "iopub.execute_input": "2025-10-26T12:02:40.220786Z",
     "iopub.status.busy": "2025-10-26T12:02:40.219858Z",
     "iopub.status.idle": "2025-10-26T12:02:40.236799Z",
     "shell.execute_reply": "2025-10-26T12:02:40.235990Z",
     "shell.execute_reply.started": "2025-10-26T12:02:40.220753Z"
    }
   },
   "outputs": [
    {
     "name": "stdout",
     "output_type": "stream",
     "text": [
      "446333898\n"
     ]
    }
   ],
   "source": [
    "import os\n",
    "print(os.path.getsize(embeddings_input_path))"
   ]
  },
  {
   "cell_type": "code",
   "execution_count": 4,
   "id": "14a4d3ba-2eff-42a4-8da8-491f2cd4f8f2",
   "metadata": {
    "execution": {
     "iopub.execute_input": "2025-10-26T12:02:41.128757Z",
     "iopub.status.busy": "2025-10-26T12:02:41.127628Z",
     "iopub.status.idle": "2025-10-26T12:02:54.653531Z",
     "shell.execute_reply": "2025-10-26T12:02:54.652694Z",
     "shell.execute_reply.started": "2025-10-26T12:02:41.128715Z"
    }
   },
   "outputs": [],
   "source": [
    "with open(embeddings_input_path, 'rb') as f:\n",
    "    data = pickle.load(f)\n",
    "\n",
    "item_ids = np.array(data['item_id'], dtype=np.int64)\n",
    "X = np.array(data['embedding'], dtype=np.float32)"
   ]
  },
  {
   "cell_type": "markdown",
   "id": "0e2fc6f7-92d6-4043-b58b-7e16e319708d",
   "metadata": {
    "execution": {
     "iopub.status.busy": "2025-10-26T11:32:54.200964545Z",
     "iopub.status.idle": "2025-10-26T11:32:54.211511295Z",
     "shell.execute_reply": "2025-10-26T11:32:54.200938950Z"
    }
   },
   "source": [
    "Loading interactions"
   ]
  },
  {
   "cell_type": "code",
   "execution_count": 5,
   "id": "dd21bc69-bd89-4012-afbf-c6773475336e",
   "metadata": {
    "execution": {
     "iopub.execute_input": "2025-10-26T12:03:19.083967Z",
     "iopub.status.busy": "2025-10-26T12:03:19.082848Z",
     "iopub.status.idle": "2025-10-26T12:03:19.095425Z",
     "shell.execute_reply": "2025-10-26T12:03:19.094576Z",
     "shell.execute_reply.started": "2025-10-26T12:03:19.083929Z"
    }
   },
   "outputs": [],
   "source": [
    "inter_json_path = \"../data/Beauty/inter.json\""
   ]
  },
  {
   "cell_type": "code",
   "execution_count": 6,
   "id": "ad8b1450-a55b-455e-9fe2-51f44b6678c1",
   "metadata": {
    "execution": {
     "iopub.execute_input": "2025-10-26T12:03:20.110812Z",
     "iopub.status.busy": "2025-10-26T12:03:20.109767Z",
     "iopub.status.idle": "2025-10-26T12:03:20.394144Z",
     "shell.execute_reply": "2025-10-26T12:03:20.393311Z",
     "shell.execute_reply.started": "2025-10-26T12:03:20.110772Z"
    }
   },
   "outputs": [],
   "source": [
    "with open(inter_json_path, 'r') as f:\n",
    "    user_interactions = json.load(f)"
   ]
  },
  {
   "cell_type": "code",
   "execution_count": 9,
   "id": "1282bbfe-dea0-4083-aad5-66228899725d",
   "metadata": {
    "execution": {
     "iopub.execute_input": "2025-10-26T12:03:56.091860Z",
     "iopub.status.busy": "2025-10-26T12:03:56.091064Z",
     "iopub.status.idle": "2025-10-26T12:03:56.127180Z",
     "shell.execute_reply": "2025-10-26T12:03:56.126298Z",
     "shell.execute_reply.started": "2025-10-26T12:03:56.091819Z"
    },
    "tags": []
   },
   "outputs": [],
   "source": [
    "max_item_id = 0\n",
    "for user_id_str, item_ids in user_interactions.items():\n",
    "    user_id = int(user_id_str)\n",
    "\n",
    "    if item_ids:\n",
    "        max_item_id = max(max_item_id, max(item_ids))\n",
    "\n",
    "    assert len(item_ids) >= 5, f'Core-5 dataset is used, user {user_id} has only {len(item_ids)} items'   "
   ]
  },
  {
   "cell_type": "code",
   "execution_count": 10,
   "id": "565d0fbc-6d25-4a97-89d6-45711da7bc42",
   "metadata": {
    "execution": {
     "iopub.execute_input": "2025-10-26T12:04:02.988167Z",
     "iopub.status.busy": "2025-10-26T12:04:02.986953Z",
     "iopub.status.idle": "2025-10-26T12:04:03.006448Z",
     "shell.execute_reply": "2025-10-26T12:04:03.005610Z",
     "shell.execute_reply.started": "2025-10-26T12:04:02.988128Z"
    }
   },
   "outputs": [
    {
     "data": {
      "text/plain": [
       "12100"
      ]
     },
     "execution_count": 10,
     "metadata": {},
     "output_type": "execute_result"
    }
   ],
   "source": [
    "max_item_id"
   ]
  },
  {
   "cell_type": "markdown",
   "id": "79069786-df51-4bcb-a3fe-5426541ca9e4",
   "metadata": {},
   "source": [
    "Building cf dataset"
   ]
  },
  {
   "cell_type": "code",
   "execution_count": 14,
   "id": "a799c81a-4f54-4970-aa68-4983e955547c",
   "metadata": {
    "execution": {
     "iopub.execute_input": "2025-10-26T12:54:18.591397Z",
     "iopub.status.busy": "2025-10-26T12:54:18.590323Z",
     "iopub.status.idle": "2025-10-26T12:54:18.611480Z",
     "shell.execute_reply": "2025-10-26T12:54:18.610570Z",
     "shell.execute_reply.started": "2025-10-26T12:54:18.591354Z"
    },
    "tags": []
   },
   "outputs": [],
   "source": [
    "from typing import Iterator, Tuple"
   ]
  },
  {
   "cell_type": "code",
   "execution_count": 22,
   "id": "c15f62d6-7e9a-42a6-9064-97732b98ac4f",
   "metadata": {
    "execution": {
     "iopub.execute_input": "2025-10-26T13:22:04.152007Z",
     "iopub.status.busy": "2025-10-26T13:22:04.150872Z",
     "iopub.status.idle": "2025-10-26T13:22:04.176693Z",
     "shell.execute_reply": "2025-10-26T13:22:04.175746Z",
     "shell.execute_reply.started": "2025-10-26T13:22:04.151964Z"
    },
    "tags": []
   },
   "outputs": [],
   "source": [
    "def calc_pairs(history, drop_last_cnt=2) -> Iterator[Tuple[int, int]]:\n",
    "    \"\"\"\n",
    "    in the modeling/dataset we drop last elements for leave one out\n",
    "    e.g. sequence = [1, 2, 3, 4, 5, 6, 7, 8, 9, 10] (leave one out scheme, 8 - train, 9 - valid, 10 - test)\n",
    "    so I decided to drop 2 last item_ids too\n",
    "    \"\"\"\n",
    "    window_size = 2\n",
    "    # we want start + window_size <= len(history), so\n",
    "    # start < len(history) - window_size + 1\n",
    "    start_till = len(history) - window_size + 1 - drop_last_cnt\n",
    "    start_till = max(0, start_till)\n",
    "    for start in range(start_till):\n",
    "        window = history[start : start + window_size]\n",
    "        yield window[0], window[-1]"
   ]
  },
  {
   "cell_type": "code",
   "execution_count": 23,
   "id": "314a5a07-e1e4-4361-81f4-cf51e3699473",
   "metadata": {
    "execution": {
     "iopub.execute_input": "2025-10-26T13:22:04.644970Z",
     "iopub.status.busy": "2025-10-26T13:22:04.643888Z",
     "iopub.status.idle": "2025-10-26T13:22:04.664975Z",
     "shell.execute_reply": "2025-10-26T13:22:04.664216Z",
     "shell.execute_reply.started": "2025-10-26T13:22:04.644930Z"
    },
    "tags": []
   },
   "outputs": [],
   "source": [
    "def build_dataset(user_interactions):\n",
    "    positive_pairs = []\n",
    "    for history in user_interactions.values():\n",
    "        positive_pairs.extend(calc_pairs(history))\n",
    "        \n",
    "    return positive_pairs    "
   ]
  },
  {
   "cell_type": "code",
   "execution_count": 24,
   "id": "65401a75-3f4d-4329-8274-56919042c8a5",
   "metadata": {
    "execution": {
     "iopub.execute_input": "2025-10-26T13:22:05.294695Z",
     "iopub.status.busy": "2025-10-26T13:22:05.293488Z",
     "iopub.status.idle": "2025-10-26T13:22:05.350691Z",
     "shell.execute_reply": "2025-10-26T13:22:05.349762Z",
     "shell.execute_reply.started": "2025-10-26T13:22:05.294653Z"
    },
    "tags": []
   },
   "outputs": [],
   "source": [
    "pairs = build_dataset(user_interactions)"
   ]
  },
  {
   "cell_type": "code",
   "execution_count": 25,
   "id": "dba4e3f7-1f36-4d3a-8986-d9291378e130",
   "metadata": {
    "execution": {
     "iopub.execute_input": "2025-10-26T13:22:05.960509Z",
     "iopub.status.busy": "2025-10-26T13:22:05.959499Z",
     "iopub.status.idle": "2025-10-26T13:22:05.986379Z",
     "shell.execute_reply": "2025-10-26T13:22:05.985480Z",
     "shell.execute_reply.started": "2025-10-26T13:22:05.960472Z"
    },
    "tags": []
   },
   "outputs": [
    {
     "data": {
      "text/plain": [
       "131413"
      ]
     },
     "execution_count": 25,
     "metadata": {},
     "output_type": "execute_result"
    }
   ],
   "source": [
    "len(pairs)"
   ]
  },
  {
   "cell_type": "markdown",
   "id": "304e1ccf-3ae7-4c5e-ae1d-9dea773ca0be",
   "metadata": {
    "execution": {
     "iopub.status.busy": "2025-10-26T19:20:59.142899661Z",
     "iopub.status.idle": "2025-10-26T19:20:59.144016206Z",
     "shell.execute_reply": "2025-10-26T19:20:59.142876402Z"
    }
   },
   "source": [
    "чек что в наших парах нет дубликатов"
   ]
  },
  {
   "cell_type": "code",
   "execution_count": null,
   "id": "b6c8a113-9169-4285-aa77-0cecf9585f5d",
   "metadata": {
    "execution": {
     "iopub.status.busy": "2025-10-26T19:20:45.822691888Z",
     "iopub.status.idle": "2025-10-26T19:20:45.835548177Z",
     "shell.execute_reply": "2025-10-26T19:20:45.822662804Z"
    }
   },
   "outputs": [
    {
     "ename": "Unknown instance spec",
     "evalue": "Please select VM configuration",
     "output_type": "error",
     "traceback": []
    }
   ],
   "source": [
    "cnt = 0\n",
    "for (a, b) in pairs:\n",
    "    if a == b:\n",
    "        cnt += 1\n",
    "cnt"
   ]
  },
  {
   "cell_type": "code",
   "execution_count": 28,
   "id": "c9a7bf69-ab1d-45b1-8f0b-8bb3898a4529",
   "metadata": {
    "execution": {
     "iopub.execute_input": "2025-10-26T13:25:05.723933Z",
     "iopub.status.busy": "2025-10-26T13:25:05.722927Z",
     "iopub.status.idle": "2025-10-26T13:25:05.738410Z",
     "shell.execute_reply": "2025-10-26T13:25:05.737529Z",
     "shell.execute_reply.started": "2025-10-26T13:25:05.723903Z"
    }
   },
   "outputs": [],
   "source": [
    "positive_pairs_path = \"../data/Beauty/positive_pairs.txt\""
   ]
  },
  {
   "cell_type": "code",
   "execution_count": 29,
   "id": "dc3f9dc2-ce10-4b6c-85aa-6d8b4a385278",
   "metadata": {
    "execution": {
     "iopub.execute_input": "2025-10-26T13:25:06.488433Z",
     "iopub.status.busy": "2025-10-26T13:25:06.487336Z",
     "iopub.status.idle": "2025-10-26T13:25:06.623687Z",
     "shell.execute_reply": "2025-10-26T13:25:06.622852Z",
     "shell.execute_reply.started": "2025-10-26T13:25:06.488393Z"
    },
    "tags": []
   },
   "outputs": [],
   "source": [
    "with open(positive_pairs_path, \"w\", encoding=\"utf-8\") as f:\n",
    "    for first, second in pairs:\n",
    "        f.write(f\"{first} {second}\\n\")"
   ]
  },
  {
   "cell_type": "code",
   "execution_count": null,
   "id": "f857128e-17e9-49f7-8c7c-99f4b93fe66d",
   "metadata": {},
   "outputs": [],
   "source": []
  }
 ],
 "metadata": {
  "kernelspec": {
   "display_name": "DataSphere Kernel",
   "language": "python",
   "name": "python3"
  },
  "language_info": {
   "codemirror_mode": {
    "name": "ipython",
    "version": 3
   },
   "file_extension": ".py",
   "mimetype": "text/x-python",
   "name": "python",
   "nbconvert_exporter": "python",
   "pygments_lexer": "ipython3",
   "version": "3.10.12"
  }
 },
 "nbformat": 4,
 "nbformat_minor": 5
}
