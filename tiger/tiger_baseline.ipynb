{
 "cells": [
  {
   "cell_type": "markdown",
   "id": "8313a2f9-f154-49df-9aba-d51d41aef83b",
   "metadata": {},
   "source": [
    "Docker pure python 3.11 build (DataSphere 1 GPU A100 • 28 vCPUs • 119 ГБ RAM1 GPU A100 • 28 vCPUs • 119 ГБ RAM)\n",
    "```\n",
    "FROM ubuntu:22.04\n",
    "ENV DEBIAN_FRONTEND=noninteractive\n",
    "\n",
    "RUN apt-get update && apt-get install -y --no-install-recommends \\\n",
    "      ca-certificates \\\n",
    "      python3.11 python3.11-venv python3.11-distutils \\\n",
    "      python3-pip \\\n",
    "    && ln -sf /usr/bin/python3.11 /usr/bin/python3 \\\n",
    "    && ln -sf /usr/bin/pip3 /usr/bin/pip \\\n",
    "    && python3 -m pip install -U pip \\\n",
    "    && rm -rf /var/lib/apt/lists/*\n",
    "\n",
    "RUN useradd -ms /bin/bash --uid 1000 jupyter\n",
    "USER jupyter\n",
    "WORKDIR /home/jupyter\n",
    "```"
   ]
  },
  {
   "cell_type": "code",
   "execution_count": null,
   "id": "a40f6376-b87d-4283-bd2d-fb661ce5a37a",
   "metadata": {
    "execution": {
     "iopub.status.busy": "2025-10-24T17:24:37.924193633Z",
     "iopub.status.idle": "2025-10-24T17:24:37.934142563Z",
     "shell.execute_reply": "2025-10-24T17:24:37.924167057Z"
    },
    "tags": []
   },
   "outputs": [
    {
     "ename": "Unknown instance spec",
     "evalue": "Please select VM configuration",
     "output_type": "error",
     "traceback": []
    }
   ],
   "source": [
    "!python3 --version"
   ]
  },
  {
   "cell_type": "code",
   "execution_count": 2,
   "id": "9560e73b-1d69-4fd0-a5ff-8c97e96b19ac",
   "metadata": {
    "execution": {
     "iopub.execute_input": "2025-10-22T19:08:30.987672Z",
     "iopub.status.busy": "2025-10-22T19:08:30.987177Z",
     "iopub.status.idle": "2025-10-22T19:08:37.534224Z",
     "shell.execute_reply": "2025-10-22T19:08:37.533568Z",
     "shell.execute_reply.started": "2025-10-22T19:08:30.987654Z"
    },
    "tags": []
   },
   "outputs": [
    {
     "name": "stdout",
     "output_type": "stream",
     "text": [
      "Defaulting to user installation because normal site-packages is not writeable\n",
      "Requirement already satisfied: murmurhash==1.0.13 in /home/jupyter/.local/lib/python3.11/site-packages (1.0.13)\n",
      "\n",
      "\u001b[1m[\u001b[0m\u001b[34;49mnotice\u001b[0m\u001b[1;39;49m]\u001b[0m\u001b[39;49m A new release of pip is available: \u001b[0m\u001b[31;49m24.0\u001b[0m\u001b[39;49m -> \u001b[0m\u001b[32;49m25.2\u001b[0m\n",
      "\u001b[1m[\u001b[0m\u001b[34;49mnotice\u001b[0m\u001b[1;39;49m]\u001b[0m\u001b[39;49m To update, run: \u001b[0m\u001b[32;49mpython3 -m pip install --upgrade pip\u001b[0m\n",
      "Defaulting to user installation because normal site-packages is not writeable\n",
      "Requirement already satisfied: numpy==2.1.2 in /home/jupyter/.local/lib/python3.11/site-packages (2.1.2)\n",
      "\n",
      "\u001b[1m[\u001b[0m\u001b[34;49mnotice\u001b[0m\u001b[1;39;49m]\u001b[0m\u001b[39;49m A new release of pip is available: \u001b[0m\u001b[31;49m24.0\u001b[0m\u001b[39;49m -> \u001b[0m\u001b[32;49m25.2\u001b[0m\n",
      "\u001b[1m[\u001b[0m\u001b[34;49mnotice\u001b[0m\u001b[1;39;49m]\u001b[0m\u001b[39;49m To update, run: \u001b[0m\u001b[32;49mpython3 -m pip install --upgrade pip\u001b[0m\n",
      "Defaulting to user installation because normal site-packages is not writeable\n",
      "Requirement already satisfied: tensorboard==2.20.0 in /home/jupyter/.local/lib/python3.11/site-packages (2.20.0)\n",
      "Requirement already satisfied: absl-py>=0.4 in /home/jupyter/.local/lib/python3.11/site-packages (from tensorboard==2.20.0) (2.3.1)\n",
      "Requirement already satisfied: grpcio>=1.48.2 in /home/jupyter/.local/lib/python3.11/site-packages (from tensorboard==2.20.0) (1.75.1)\n",
      "Requirement already satisfied: markdown>=2.6.8 in /home/jupyter/.local/lib/python3.11/site-packages (from tensorboard==2.20.0) (3.9)\n",
      "Requirement already satisfied: numpy>=1.12.0 in /home/jupyter/.local/lib/python3.11/site-packages (from tensorboard==2.20.0) (2.1.2)\n",
      "Requirement already satisfied: packaging in /home/jupyter/.local/lib/python3.11/site-packages (from tensorboard==2.20.0) (25.0)\n",
      "Requirement already satisfied: pillow in /home/jupyter/.local/lib/python3.11/site-packages (from tensorboard==2.20.0) (12.0.0)\n",
      "Requirement already satisfied: protobuf!=4.24.0,>=3.19.6 in /home/jupyter/.local/lib/python3.11/site-packages (from tensorboard==2.20.0) (6.33.0)\n",
      "Requirement already satisfied: setuptools>=41.0.0 in /kernel/lib/python3.11/site-packages (from tensorboard==2.20.0) (65.5.0)\n",
      "Requirement already satisfied: tensorboard-data-server<0.8.0,>=0.7.0 in /home/jupyter/.local/lib/python3.11/site-packages (from tensorboard==2.20.0) (0.7.2)\n",
      "Requirement already satisfied: werkzeug>=1.0.1 in /home/jupyter/.local/lib/python3.11/site-packages (from tensorboard==2.20.0) (3.1.3)\n",
      "Requirement already satisfied: typing-extensions~=4.12 in /home/jupyter/.local/lib/python3.11/site-packages (from grpcio>=1.48.2->tensorboard==2.20.0) (4.15.0)\n",
      "Requirement already satisfied: MarkupSafe>=2.1.1 in /home/jupyter/.local/lib/python3.11/site-packages (from werkzeug>=1.0.1->tensorboard==2.20.0) (3.0.3)\n",
      "\n",
      "\u001b[1m[\u001b[0m\u001b[34;49mnotice\u001b[0m\u001b[1;39;49m]\u001b[0m\u001b[39;49m A new release of pip is available: \u001b[0m\u001b[31;49m24.0\u001b[0m\u001b[39;49m -> \u001b[0m\u001b[32;49m25.2\u001b[0m\n",
      "\u001b[1m[\u001b[0m\u001b[34;49mnotice\u001b[0m\u001b[1;39;49m]\u001b[0m\u001b[39;49m To update, run: \u001b[0m\u001b[32;49mpython3 -m pip install --upgrade pip\u001b[0m\n",
      "Defaulting to user installation because normal site-packages is not writeable\n",
      "Requirement already satisfied: transformers==4.50.3 in /home/jupyter/.local/lib/python3.11/site-packages (4.50.3)\n",
      "Requirement already satisfied: filelock in /home/jupyter/.local/lib/python3.11/site-packages (from transformers==4.50.3) (3.20.0)\n",
      "Requirement already satisfied: huggingface-hub<1.0,>=0.26.0 in /home/jupyter/.local/lib/python3.11/site-packages (from transformers==4.50.3) (0.35.3)\n",
      "Requirement already satisfied: numpy>=1.17 in /home/jupyter/.local/lib/python3.11/site-packages (from transformers==4.50.3) (2.1.2)\n",
      "Requirement already satisfied: packaging>=20.0 in /home/jupyter/.local/lib/python3.11/site-packages (from transformers==4.50.3) (25.0)\n",
      "Requirement already satisfied: pyyaml>=5.1 in /home/jupyter/.local/lib/python3.11/site-packages (from transformers==4.50.3) (6.0.3)\n",
      "Requirement already satisfied: regex!=2019.12.17 in /home/jupyter/.local/lib/python3.11/site-packages (from transformers==4.50.3) (2025.9.18)\n",
      "Requirement already satisfied: requests in /kernel/fallback/lib/python3.11/site-packages (from transformers==4.50.3) (2.31.0)\n",
      "Requirement already satisfied: tokenizers<0.22,>=0.21 in /home/jupyter/.local/lib/python3.11/site-packages (from transformers==4.50.3) (0.21.4)\n",
      "Requirement already satisfied: safetensors>=0.4.3 in /home/jupyter/.local/lib/python3.11/site-packages (from transformers==4.50.3) (0.6.2)\n",
      "Requirement already satisfied: tqdm>=4.27 in /home/jupyter/.local/lib/python3.11/site-packages (from transformers==4.50.3) (4.67.1)\n",
      "Requirement already satisfied: fsspec>=2023.5.0 in /home/jupyter/.local/lib/python3.11/site-packages (from huggingface-hub<1.0,>=0.26.0->transformers==4.50.3) (2025.9.0)\n",
      "Requirement already satisfied: typing-extensions>=3.7.4.3 in /home/jupyter/.local/lib/python3.11/site-packages (from huggingface-hub<1.0,>=0.26.0->transformers==4.50.3) (4.15.0)\n",
      "Requirement already satisfied: hf-xet<2.0.0,>=1.1.3 in /home/jupyter/.local/lib/python3.11/site-packages (from huggingface-hub<1.0,>=0.26.0->transformers==4.50.3) (1.1.10)\n",
      "Requirement already satisfied: charset-normalizer<4,>=2 in /kernel/fallback/lib/python3.11/site-packages (from requests->transformers==4.50.3) (3.4.3)\n",
      "Requirement already satisfied: idna<4,>=2.5 in /kernel/fallback/lib/python3.11/site-packages (from requests->transformers==4.50.3) (3.10)\n",
      "Requirement already satisfied: urllib3<3,>=1.21.1 in /kernel/fallback/lib/python3.11/site-packages (from requests->transformers==4.50.3) (1.25.11)\n",
      "Requirement already satisfied: certifi>=2017.4.17 in /kernel/fallback/lib/python3.11/site-packages (from requests->transformers==4.50.3) (2025.8.3)\n",
      "\n",
      "\u001b[1m[\u001b[0m\u001b[34;49mnotice\u001b[0m\u001b[1;39;49m]\u001b[0m\u001b[39;49m A new release of pip is available: \u001b[0m\u001b[31;49m24.0\u001b[0m\u001b[39;49m -> \u001b[0m\u001b[32;49m25.2\u001b[0m\n",
      "\u001b[1m[\u001b[0m\u001b[34;49mnotice\u001b[0m\u001b[1;39;49m]\u001b[0m\u001b[39;49m To update, run: \u001b[0m\u001b[32;49mpython3 -m pip install --upgrade pip\u001b[0m\n"
     ]
    }
   ],
   "source": [
    "%pip install murmurhash==1.0.13\n",
    "%pip install numpy==2.1.2\n",
    "%pip install tensorboard==2.20.0\n",
    "%pip install transformers==4.50.3"
   ]
  },
  {
   "cell_type": "code",
   "execution_count": 3,
   "id": "29e4cd4b-0eee-49b3-963b-9da0163b7a12",
   "metadata": {
    "execution": {
     "iopub.execute_input": "2025-10-22T19:08:41.266494Z",
     "iopub.status.busy": "2025-10-22T19:08:41.266141Z",
     "iopub.status.idle": "2025-10-22T19:08:42.567466Z",
     "shell.execute_reply": "2025-10-22T19:08:42.566927Z",
     "shell.execute_reply.started": "2025-10-22T19:08:41.266474Z"
    },
    "tags": []
   },
   "outputs": [
    {
     "name": "stdout",
     "output_type": "stream",
     "text": [
      "Defaulting to user installation because normal site-packages is not writeable\n",
      "Looking in indexes: https://download.pytorch.org/whl/cu121\n",
      "Requirement already satisfied: torch==2.5.1+cu121 in /home/jupyter/.local/lib/python3.11/site-packages (2.5.1+cu121)\n",
      "Requirement already satisfied: filelock in /home/jupyter/.local/lib/python3.11/site-packages (from torch==2.5.1+cu121) (3.20.0)\n",
      "Requirement already satisfied: typing-extensions>=4.8.0 in /home/jupyter/.local/lib/python3.11/site-packages (from torch==2.5.1+cu121) (4.15.0)\n",
      "Requirement already satisfied: networkx in /home/jupyter/.local/lib/python3.11/site-packages (from torch==2.5.1+cu121) (3.5)\n",
      "Requirement already satisfied: jinja2 in /home/jupyter/.local/lib/python3.11/site-packages (from torch==2.5.1+cu121) (3.1.6)\n",
      "Requirement already satisfied: fsspec in /home/jupyter/.local/lib/python3.11/site-packages (from torch==2.5.1+cu121) (2025.9.0)\n",
      "Requirement already satisfied: nvidia-cuda-nvrtc-cu12==12.1.105 in /home/jupyter/.local/lib/python3.11/site-packages (from torch==2.5.1+cu121) (12.1.105)\n",
      "Requirement already satisfied: nvidia-cuda-runtime-cu12==12.1.105 in /home/jupyter/.local/lib/python3.11/site-packages (from torch==2.5.1+cu121) (12.1.105)\n",
      "Requirement already satisfied: nvidia-cuda-cupti-cu12==12.1.105 in /home/jupyter/.local/lib/python3.11/site-packages (from torch==2.5.1+cu121) (12.1.105)\n",
      "Requirement already satisfied: nvidia-cudnn-cu12==9.1.0.70 in /home/jupyter/.local/lib/python3.11/site-packages (from torch==2.5.1+cu121) (9.1.0.70)\n",
      "Requirement already satisfied: nvidia-cublas-cu12==12.1.3.1 in /home/jupyter/.local/lib/python3.11/site-packages (from torch==2.5.1+cu121) (12.1.3.1)\n",
      "Requirement already satisfied: nvidia-cufft-cu12==11.0.2.54 in /home/jupyter/.local/lib/python3.11/site-packages (from torch==2.5.1+cu121) (11.0.2.54)\n",
      "Requirement already satisfied: nvidia-curand-cu12==10.3.2.106 in /home/jupyter/.local/lib/python3.11/site-packages (from torch==2.5.1+cu121) (10.3.2.106)\n",
      "Requirement already satisfied: nvidia-cusolver-cu12==11.4.5.107 in /home/jupyter/.local/lib/python3.11/site-packages (from torch==2.5.1+cu121) (11.4.5.107)\n",
      "Requirement already satisfied: nvidia-cusparse-cu12==12.1.0.106 in /home/jupyter/.local/lib/python3.11/site-packages (from torch==2.5.1+cu121) (12.1.0.106)\n",
      "Requirement already satisfied: nvidia-nccl-cu12==2.21.5 in /home/jupyter/.local/lib/python3.11/site-packages (from torch==2.5.1+cu121) (2.21.5)\n",
      "Requirement already satisfied: nvidia-nvtx-cu12==12.1.105 in /home/jupyter/.local/lib/python3.11/site-packages (from torch==2.5.1+cu121) (12.1.105)\n",
      "Requirement already satisfied: triton==3.1.0 in /home/jupyter/.local/lib/python3.11/site-packages (from torch==2.5.1+cu121) (3.1.0)\n",
      "Requirement already satisfied: sympy==1.13.1 in /home/jupyter/.local/lib/python3.11/site-packages (from torch==2.5.1+cu121) (1.13.1)\n",
      "Requirement already satisfied: nvidia-nvjitlink-cu12 in /home/jupyter/.local/lib/python3.11/site-packages (from nvidia-cusolver-cu12==11.4.5.107->torch==2.5.1+cu121) (12.9.86)\n",
      "Requirement already satisfied: mpmath<1.4,>=1.1.0 in /home/jupyter/.local/lib/python3.11/site-packages (from sympy==1.13.1->torch==2.5.1+cu121) (1.3.0)\n",
      "Requirement already satisfied: MarkupSafe>=2.0 in /home/jupyter/.local/lib/python3.11/site-packages (from jinja2->torch==2.5.1+cu121) (3.0.3)\n",
      "\n",
      "\u001b[1m[\u001b[0m\u001b[34;49mnotice\u001b[0m\u001b[1;39;49m]\u001b[0m\u001b[39;49m A new release of pip is available: \u001b[0m\u001b[31;49m24.0\u001b[0m\u001b[39;49m -> \u001b[0m\u001b[32;49m25.2\u001b[0m\n",
      "\u001b[1m[\u001b[0m\u001b[34;49mnotice\u001b[0m\u001b[1;39;49m]\u001b[0m\u001b[39;49m To update, run: \u001b[0m\u001b[32;49mpython3 -m pip install --upgrade pip\u001b[0m\n"
     ]
    }
   ],
   "source": [
    "%pip install torch==2.5.1+cu121 --index-url https://download.pytorch.org/whl/cu121"
   ]
  },
  {
   "cell_type": "code",
   "execution_count": 6,
   "id": "11f04bfc-d908-4c04-b4a3-bcb57487f4c1",
   "metadata": {
    "execution": {
     "iopub.execute_input": "2025-10-25T10:23:33.365884Z",
     "iopub.status.busy": "2025-10-25T10:23:33.365067Z",
     "iopub.status.idle": "2025-10-25T10:24:10.733892Z",
     "shell.execute_reply": "2025-10-25T10:24:10.733106Z",
     "shell.execute_reply.started": "2025-10-25T10:23:33.365866Z"
    },
    "tags": []
   },
   "outputs": [
    {
     "name": "stderr",
     "output_type": "stream",
     "text": [
      "/home/jupyter/.local/lib/python3.11/site-packages/transformers/utils/hub.py:105: FutureWarning: Using `TRANSFORMERS_CACHE` is deprecated and will be removed in v5 of Transformers. Use `HF_HOME` instead.\n",
      "  warnings.warn(\n",
      "/kernel/lib/python3.11/site-packages/_distutils_hack/__init__.py:18: UserWarning: Distutils was imported before Setuptools, but importing Setuptools also replaces the `distutils` module in `sys.modules`. This may lead to undesirable behaviors or errors. To avoid these issues, avoid using distutils directly, ensure that setuptools is installed in the traditional way (e.g. not an editable install), and/or make sure that setuptools is always imported before distutils.\n",
      "  warnings.warn(\n",
      "/kernel/lib/python3.11/site-packages/_distutils_hack/__init__.py:33: UserWarning: Setuptools is replacing distutils.\n",
      "  warnings.warn(\"Setuptools is replacing distutils.\")\n"
     ]
    }
   ],
   "source": [
    "import json\n",
    "from functools import partial\n",
    "\n",
    "import torch\n",
    "from torch.utils.data import DataLoader\n",
    "\n",
    "from modeling import utils\n",
    "from modeling.dataloader import BatchProcessor\n",
    "from modeling.dataset import Dataset\n",
    "from modeling.loss import IdentityLoss\n",
    "from modeling.metric import NDCGSemanticMetric, RecallSemanticMetric\n",
    "from modeling.models import TigerModel, CorrectItemsLogitsProcessor\n",
    "from modeling.trainer import Trainer\n",
    "from modeling.utils import parse_args, create_logger, fix_random_seed"
   ]
  },
  {
   "cell_type": "code",
   "execution_count": 7,
   "id": "00138dcd-7b7a-4419-bd67-2ff4745b91e0",
   "metadata": {
    "execution": {
     "iopub.execute_input": "2025-10-25T10:24:14.326467Z",
     "iopub.status.busy": "2025-10-25T10:24:14.325813Z",
     "iopub.status.idle": "2025-10-25T10:24:14.359481Z",
     "shell.execute_reply": "2025-10-25T10:24:14.358606Z",
     "shell.execute_reply.started": "2025-10-25T10:24:14.326442Z"
    },
    "tags": []
   },
   "outputs": [],
   "source": [
    "def parse_config(config_path):\n",
    "    with open(config_path) as f:\n",
    "        params = json.load(f)\n",
    "    \n",
    "    return params"
   ]
  },
  {
   "cell_type": "code",
   "execution_count": 8,
   "id": "91a5a3e6-5874-4b8f-8be6-e23d0960f98e",
   "metadata": {
    "execution": {
     "iopub.execute_input": "2025-10-25T10:24:15.512693Z",
     "iopub.status.busy": "2025-10-25T10:24:15.512346Z",
     "iopub.status.idle": "2025-10-25T10:24:15.534111Z",
     "shell.execute_reply": "2025-10-25T10:24:15.533363Z",
     "shell.execute_reply.started": "2025-10-25T10:24:15.512674Z"
    },
    "tags": []
   },
   "outputs": [
    {
     "name": "stdout",
     "output_type": "stream",
     "text": [
      "Training config: \n",
      "{\n",
      "  \"experiment_name\": \"tiger_beauty\",\n",
      "  \"dataset\": {\n",
      "    \"inter_json_path\": \"../data/Beauty/inter.json\",\n",
      "    \"index_json_path\": \"../data/Beauty/index_rqvae.json\",\n",
      "    \"num_codebooks\": 4,\n",
      "    \"max_sequence_length\": 20,\n",
      "    \"sampler_type\": \"tiger\"\n",
      "  },\n",
      "  \"dataloader\": {\n",
      "    \"train_batch_size\": 256,\n",
      "    \"validation_batch_size\": 256\n",
      "  },\n",
      "  \"model\": {\n",
      "    \"embedding_dim\": 128,\n",
      "    \"codebook_size\": 256,\n",
      "    \"num_positions\": 20,\n",
      "    \"user_ids_count\": 2000,\n",
      "    \"num_heads\": 6,\n",
      "    \"num_encoder_layers\": 4,\n",
      "    \"num_decoder_layers\": 4,\n",
      "    \"dim_feedforward\": 1024,\n",
      "    \"d_kv\": 64,\n",
      "    \"dropout\": 0.1,\n",
      "    \"activation\": \"relu\",\n",
      "    \"num_beams\": 100,\n",
      "    \"top_k\": 20,\n",
      "    \"layer_norm_eps\": 1e-06,\n",
      "    \"initializer_range\": 0.02\n",
      "  },\n",
      "  \"optimizer\": {\n",
      "    \"lr\": 0.0003\n",
      "  }\n",
      "}\n"
     ]
    }
   ],
   "source": [
    "config = parse_config('configs/tiger_train_config.json')\n",
    "print('Training config: \\n{}'.format(json.dumps(config, indent=2)))"
   ]
  },
  {
   "cell_type": "code",
   "execution_count": 10,
   "id": "4aa40b20-9069-46dc-b85c-311c5d47dbe9",
   "metadata": {
    "execution": {
     "iopub.execute_input": "2025-10-25T10:24:43.031599Z",
     "iopub.status.busy": "2025-10-25T10:24:43.031195Z",
     "iopub.status.idle": "2025-10-25T10:24:43.085230Z",
     "shell.execute_reply": "2025-10-25T10:24:43.084515Z",
     "shell.execute_reply.started": "2025-10-25T10:24:43.031582Z"
    },
    "tags": []
   },
   "outputs": [],
   "source": [
    "SEED_VALUE = 42\n",
    "fix_random_seed(SEED_VALUE)"
   ]
  },
  {
   "cell_type": "code",
   "execution_count": 11,
   "id": "89bb7a2a-9001-49d9-a876-31b58cc07bda",
   "metadata": {
    "execution": {
     "iopub.execute_input": "2025-10-25T10:24:43.634524Z",
     "iopub.status.busy": "2025-10-25T10:24:43.634179Z",
     "iopub.status.idle": "2025-10-25T10:24:43.646275Z",
     "shell.execute_reply": "2025-10-25T10:24:43.645553Z",
     "shell.execute_reply.started": "2025-10-25T10:24:43.634508Z"
    },
    "tags": []
   },
   "outputs": [
    {
     "name": "stdout",
     "output_type": "stream",
     "text": [
      "Current DEVICE: cuda\n"
     ]
    }
   ],
   "source": [
    "print('Current DEVICE: {}'.format(utils.DEVICE))"
   ]
  },
  {
   "cell_type": "code",
   "execution_count": 12,
   "id": "d14f549c-ab9f-4a3b-a79a-bed33533d160",
   "metadata": {
    "execution": {
     "iopub.execute_input": "2025-10-25T10:24:44.698041Z",
     "iopub.status.busy": "2025-10-25T10:24:44.697692Z",
     "iopub.status.idle": "2025-10-25T10:24:44.822592Z",
     "shell.execute_reply": "2025-10-25T10:24:44.821792Z",
     "shell.execute_reply.started": "2025-10-25T10:24:44.698024Z"
    },
    "tags": []
   },
   "outputs": [
    {
     "name": "stderr",
     "output_type": "stream",
     "text": [
      "[2025-10-25 10:24:44] [INFO]: Train dataset size: 131413\n",
      "[2025-10-25 10:24:44] [INFO]: Validation dataset size: 22363\n",
      "[2025-10-25 10:24:44] [INFO]: Test dataset size: 22363\n",
      "[2025-10-25 10:24:44] [INFO]: Max item id: 12100\n"
     ]
    }
   ],
   "source": [
    "dataset = Dataset.create(\n",
    "    inter_json_path=config['dataset']['inter_json_path'],\n",
    "    max_sequence_length=config['dataset']['max_sequence_length'],\n",
    "    sampler_type=config['dataset']['sampler_type'],\n",
    "    is_extended=True\n",
    ")\n",
    "train_sampler, validation_sampler, test_sampler = dataset.get_samplers()\n",
    "num_codebooks = config['dataset']['num_codebooks']\n",
    "user_ids_count = config['model']['user_ids_count']"
   ]
  },
  {
   "cell_type": "code",
   "execution_count": 13,
   "id": "e3208c8c-3433-41dd-a639-a245d0772617",
   "metadata": {
    "execution": {
     "iopub.execute_input": "2025-10-25T10:24:46.218979Z",
     "iopub.status.busy": "2025-10-25T10:24:46.218573Z",
     "iopub.status.idle": "2025-10-25T10:24:46.626751Z",
     "shell.execute_reply": "2025-10-25T10:24:46.625963Z",
     "shell.execute_reply.started": "2025-10-25T10:24:46.218960Z"
    },
    "tags": []
   },
   "outputs": [],
   "source": [
    "batch_processor = BatchProcessor.create(\n",
    "    config['dataset']['index_json_path'], num_codebooks, user_ids_count\n",
    ")\n",
    "\n",
    "train_dataloader = DataLoader(\n",
    "    dataset=train_sampler,\n",
    "    batch_size=config['dataloader']['train_batch_size'],\n",
    "    drop_last=True,\n",
    "    shuffle=True,\n",
    "    collate_fn=batch_processor\n",
    ")\n",
    "\n",
    "validation_dataloader = DataLoader(\n",
    "    dataset=validation_sampler,\n",
    "    batch_size=config['dataloader']['validation_batch_size'],\n",
    "    drop_last=False,\n",
    "    shuffle=False,\n",
    "    collate_fn=batch_processor\n",
    ")\n",
    "\n",
    "eval_dataloader = DataLoader(\n",
    "    dataset=test_sampler,\n",
    "    batch_size=config['dataloader']['validation_batch_size'],\n",
    "    drop_last=False,\n",
    "    shuffle=False,\n",
    "    collate_fn=batch_processor\n",
    ")\n",
    "\n",
    "model = TigerModel(\n",
    "    embedding_dim=config['model']['embedding_dim'],\n",
    "    codebook_size=config['model']['codebook_size'],\n",
    "    sem_id_len=num_codebooks,\n",
    "    user_ids_count=user_ids_count,\n",
    "    num_positions=config['model']['num_positions'],\n",
    "    num_heads=config['model']['num_heads'],\n",
    "    num_encoder_layers=config['model']['num_encoder_layers'],\n",
    "    num_decoder_layers=config['model']['num_decoder_layers'],\n",
    "    dim_feedforward=config['model']['dim_feedforward'],\n",
    "    num_beams=config['model']['num_beams'],\n",
    "    num_return_sequences=config['model']['top_k'],\n",
    "    activation=config['model']['activation'],\n",
    "    d_kv=config['model']['d_kv'],\n",
    "    dropout=config['model']['dropout'],\n",
    "    layer_norm_eps=config['model']['layer_norm_eps'],\n",
    "    initializer_range=config['model']['initializer_range'],\n",
    "    logits_processor=partial(\n",
    "        CorrectItemsLogitsProcessor,\n",
    "        config['dataset']['num_codebooks'],\n",
    "        config['model']['codebook_size'],\n",
    "        config['dataset']['index_json_path'],\n",
    "        config['model']['num_beams']\n",
    "    )\n",
    ").to(utils.DEVICE)"
   ]
  },
  {
   "cell_type": "code",
   "execution_count": 11,
   "id": "03a99818-c192-4fa3-8442-06c90e6af859",
   "metadata": {
    "execution": {
     "iopub.execute_input": "2025-10-22T19:09:55.190568Z",
     "iopub.status.busy": "2025-10-22T19:09:55.190083Z",
     "iopub.status.idle": "2025-10-22T19:09:55.205291Z",
     "shell.execute_reply": "2025-10-22T19:09:55.204633Z",
     "shell.execute_reply.started": "2025-10-22T19:09:55.190552Z"
    },
    "tags": []
   },
   "outputs": [
    {
     "name": "stdout",
     "output_type": "stream",
     "text": [
      "Overall parameters: 5,236,352\n",
      "Trainable parameters: 5,236,352\n"
     ]
    }
   ],
   "source": [
    "total_params = sum(p.numel() for p in model.parameters())\n",
    "trainable_params = sum(p.numel() for p in model.parameters() if p.requires_grad)\n",
    "\n",
    "print(f'Overall parameters: {total_params:,}')\n",
    "print(f'Trainable parameters: {trainable_params:,}')"
   ]
  },
  {
   "cell_type": "code",
   "execution_count": 14,
   "id": "826980a0-94ff-4a83-9924-126978fd8b6e",
   "metadata": {
    "execution": {
     "iopub.execute_input": "2025-10-25T10:24:49.552005Z",
     "iopub.status.busy": "2025-10-25T10:24:49.551630Z",
     "iopub.status.idle": "2025-10-25T10:24:49.576225Z",
     "shell.execute_reply": "2025-10-25T10:24:49.575441Z",
     "shell.execute_reply.started": "2025-10-25T10:24:49.551988Z"
    },
    "tags": []
   },
   "outputs": [
    {
     "name": "stdout",
     "output_type": "stream",
     "text": [
      "Everything is ready for training process!\n"
     ]
    }
   ],
   "source": [
    "loss_function = IdentityLoss(\n",
    "    predictions_prefix='loss',\n",
    "    output_prefix='loss'\n",
    ")  # Passes through the loss computed inside the model without modification\n",
    "\n",
    "optimizer = torch.optim.AdamW(\n",
    "    model.parameters(),\n",
    "    lr=config['optimizer']['lr'],\n",
    ")\n",
    "\n",
    "codebook_size = config['model']['codebook_size']\n",
    "ranking_metrics = {\n",
    "    'ndcg@5': NDCGSemanticMetric(5, codebook_size, num_codebooks),\n",
    "    'ndcg@10': NDCGSemanticMetric(10, codebook_size, num_codebooks),\n",
    "    'ndcg@20': NDCGSemanticMetric(20, codebook_size, num_codebooks),\n",
    "    'recall@5': RecallSemanticMetric(5, codebook_size, num_codebooks),\n",
    "    'recall@10': RecallSemanticMetric(10, codebook_size, num_codebooks),\n",
    "    'recall@20': RecallSemanticMetric(20, codebook_size, num_codebooks)\n",
    "}\n",
    "\n",
    "print('Everything is ready for training process!')"
   ]
  },
  {
   "cell_type": "code",
   "execution_count": 15,
   "id": "cb325b0d-94cb-4180-aa7c-d007ebeca34e",
   "metadata": {
    "execution": {
     "iopub.execute_input": "2025-10-25T10:24:51.714867Z",
     "iopub.status.busy": "2025-10-25T10:24:51.714517Z",
     "iopub.status.idle": "2025-10-25T10:24:51.743905Z",
     "shell.execute_reply": "2025-10-25T10:24:51.743245Z",
     "shell.execute_reply.started": "2025-10-25T10:24:51.714849Z"
    },
    "tags": []
   },
   "outputs": [],
   "source": [
    "trainer = Trainer(\n",
    "    experiment_name=config['experiment_name'],\n",
    "    train_dataloader=train_dataloader,\n",
    "    validation_dataloader=validation_dataloader,\n",
    "    eval_dataloader=eval_dataloader,\n",
    "    model=model,\n",
    "    optimizer=optimizer,\n",
    "    loss_function=loss_function,\n",
    "    ranking_metrics=ranking_metrics,\n",
    "    epoch_cnt=config.get('train_epochs_num'),\n",
    "    step_cnt=config.get('train_steps_num'),\n",
    "    best_metric='ndcg@20',\n",
    "    epochs_threshold=config.get('early_stopping_threshold', 40),\n",
    "    valid_step=256,\n",
    "    eval_step=256\n",
    ")\n"
   ]
  },
  {
   "cell_type": "code",
   "execution_count": null,
   "id": "1a987e64-c7db-4a3c-8636-a9b2cb1921c3",
   "metadata": {
    "execution": {
     "iopub.execute_input": "2025-10-22T19:10:09.426106Z",
     "iopub.status.busy": "2025-10-22T19:10:09.425822Z"
    }
   },
   "outputs": [
    {
     "name": "stderr",
     "output_type": "stream",
     "text": [
      "[2025-10-22 19:10:09] [DEBUG]: Start training...\n",
      "[2025-10-22 19:10:09] [DEBUG]: Start epoch 0\n",
      "[2025-10-22 19:10:12] [DEBUG]: Running validation on step 0...\n",
      "[2025-10-22 19:11:37] [DEBUG]: Running validation on step 0 is done!\n",
      "[2025-10-22 19:11:37] [DEBUG]: Running eval on step 0...\n",
      "[2025-10-22 19:13:02] [DEBUG]: Running eval on step 0 is done!\n"
     ]
    },
    {
     "name": "stdout",
     "output_type": "stream",
     "text": [
      "0 0.000702771769276577 0 0.0007045977448956547\n"
     ]
    },
    {
     "name": "stderr",
     "output_type": "stream",
     "text": [
      "[2025-10-22 19:13:18] [DEBUG]: Running validation on step 256...\n",
      "[2025-10-22 19:14:43] [DEBUG]: Running validation on step 256 is done!\n",
      "[2025-10-22 19:14:43] [DEBUG]: Running eval on step 256...\n",
      "[2025-10-22 19:16:08] [DEBUG]: Running eval on step 256 is done!\n"
     ]
    },
    {
     "name": "stdout",
     "output_type": "stream",
     "text": [
      "256 0.0010278828161238173 0.000702771769276577 0.0007102295062689408\n"
     ]
    },
    {
     "name": "stderr",
     "output_type": "stream",
     "text": [
      "[2025-10-22 19:16:24] [DEBUG]: Running validation on step 512...\n",
      "[2025-10-22 19:17:49] [DEBUG]: Running validation on step 512 is done!\n",
      "[2025-10-22 19:17:49] [DEBUG]: Running eval on step 512...\n",
      "[2025-10-22 19:19:14] [DEBUG]: Running eval on step 512 is done!\n",
      "[2025-10-22 19:19:14] [DEBUG]: Start epoch 1\n"
     ]
    },
    {
     "name": "stdout",
     "output_type": "stream",
     "text": [
      "512 0.013372824871358295 0.0010278828161238173 0.011075759659122442\n"
     ]
    },
    {
     "name": "stderr",
     "output_type": "stream",
     "text": [
      "[2025-10-22 19:19:30] [DEBUG]: Running validation on step 768...\n",
      "[2025-10-22 19:20:55] [DEBUG]: Running validation on step 768 is done!\n",
      "[2025-10-22 19:20:55] [DEBUG]: Running eval on step 768...\n",
      "[2025-10-22 19:22:19] [DEBUG]: Running eval on step 768 is done!\n"
     ]
    },
    {
     "name": "stdout",
     "output_type": "stream",
     "text": [
      "768 0.01939411180694665 0.013372824871358295 0.016115681710260496\n"
     ]
    },
    {
     "name": "stderr",
     "output_type": "stream",
     "text": [
      "[2025-10-22 19:22:36] [DEBUG]: Running validation on step 1024...\n",
      "[2025-10-22 19:24:01] [DEBUG]: Running validation on step 1024 is done!\n",
      "[2025-10-22 19:24:01] [DEBUG]: Running eval on step 1024...\n",
      "[2025-10-22 19:25:25] [DEBUG]: Running eval on step 1024 is done!\n",
      "[2025-10-22 19:25:25] [DEBUG]: Start epoch 2\n"
     ]
    },
    {
     "name": "stdout",
     "output_type": "stream",
     "text": [
      "1024 0.02026455421124823 0.01939411180694665 0.017102544822676025\n"
     ]
    },
    {
     "name": "stderr",
     "output_type": "stream",
     "text": [
      "[2025-10-22 19:25:42] [DEBUG]: Running validation on step 1280...\n",
      "[2025-10-22 19:27:07] [DEBUG]: Running validation on step 1280 is done!\n",
      "[2025-10-22 19:27:07] [DEBUG]: Running eval on step 1280...\n",
      "[2025-10-22 19:28:31] [DEBUG]: Running eval on step 1280 is done!\n"
     ]
    },
    {
     "name": "stdout",
     "output_type": "stream",
     "text": [
      "1280 0.022451824694638686 0.02026455421124823 0.019642023321943952\n"
     ]
    },
    {
     "name": "stderr",
     "output_type": "stream",
     "text": [
      "[2025-10-22 19:28:47] [DEBUG]: Running validation on step 1536...\n",
      "[2025-10-22 19:30:12] [DEBUG]: Running validation on step 1536 is done!\n",
      "[2025-10-22 19:30:12] [DEBUG]: Running eval on step 1536...\n",
      "[2025-10-22 19:31:37] [DEBUG]: Running eval on step 1536 is done!\n"
     ]
    },
    {
     "name": "stdout",
     "output_type": "stream",
     "text": [
      "1536 0.022894207011852154 0.022451824694638686 0.019955209529805534\n"
     ]
    },
    {
     "name": "stderr",
     "output_type": "stream",
     "text": [
      "[2025-10-22 19:31:37] [DEBUG]: Start epoch 3\n",
      "[2025-10-22 19:31:53] [DEBUG]: Running validation on step 1792...\n",
      "[2025-10-22 19:33:18] [DEBUG]: Running validation on step 1792 is done!\n",
      "[2025-10-22 19:33:18] [DEBUG]: Running eval on step 1792...\n",
      "[2025-10-22 19:34:43] [DEBUG]: Running eval on step 1792 is done!\n"
     ]
    },
    {
     "name": "stdout",
     "output_type": "stream",
     "text": [
      "1792 0.02360799434676727 0.022894207011852154 0.019899733807359044\n"
     ]
    },
    {
     "name": "stderr",
     "output_type": "stream",
     "text": [
      "[2025-10-22 19:34:59] [DEBUG]: Running validation on step 2048...\n",
      "[2025-10-22 19:36:24] [DEBUG]: Running validation on step 2048 is done!\n",
      "[2025-10-22 19:36:24] [DEBUG]: Running eval on step 2048...\n",
      "[2025-10-22 19:37:48] [DEBUG]: Running eval on step 2048 is done!\n",
      "[2025-10-22 19:37:48] [DEBUG]: Start epoch 4\n",
      "[2025-10-22 19:38:05] [DEBUG]: Running validation on step 2304...\n",
      "[2025-10-22 19:39:30] [DEBUG]: Running validation on step 2304 is done!\n",
      "[2025-10-22 19:39:30] [DEBUG]: Running eval on step 2304...\n",
      "[2025-10-22 19:40:54] [DEBUG]: Running eval on step 2304 is done!\n"
     ]
    },
    {
     "name": "stdout",
     "output_type": "stream",
     "text": [
      "2304 0.024084439821588286 0.02360799434676727 0.021073665802217482\n"
     ]
    },
    {
     "name": "stderr",
     "output_type": "stream",
     "text": [
      "[2025-10-22 19:41:10] [DEBUG]: Running validation on step 2560...\n",
      "[2025-10-22 19:42:35] [DEBUG]: Running validation on step 2560 is done!\n",
      "[2025-10-22 19:42:35] [DEBUG]: Running eval on step 2560...\n",
      "[2025-10-22 19:44:00] [DEBUG]: Running eval on step 2560 is done!\n"
     ]
    },
    {
     "name": "stdout",
     "output_type": "stream",
     "text": [
      "2560 0.024652033170705745 0.024084439821588286 0.02142699722958417\n"
     ]
    },
    {
     "name": "stderr",
     "output_type": "stream",
     "text": [
      "[2025-10-22 19:44:00] [DEBUG]: Start epoch 5\n",
      "[2025-10-22 19:44:16] [DEBUG]: Running validation on step 2816...\n",
      "[2025-10-22 19:45:41] [DEBUG]: Running validation on step 2816 is done!\n",
      "[2025-10-22 19:45:41] [DEBUG]: Running eval on step 2816...\n",
      "[2025-10-22 19:47:06] [DEBUG]: Running eval on step 2816 is done!\n"
     ]
    },
    {
     "name": "stdout",
     "output_type": "stream",
     "text": [
      "2816 0.0249248930895973 0.024652033170705745 0.02130037685687558\n"
     ]
    },
    {
     "name": "stderr",
     "output_type": "stream",
     "text": [
      "[2025-10-22 19:47:22] [DEBUG]: Running validation on step 3072...\n",
      "[2025-10-22 19:48:47] [DEBUG]: Running validation on step 3072 is done!\n",
      "[2025-10-22 19:48:47] [DEBUG]: Running eval on step 3072...\n",
      "[2025-10-22 19:50:12] [DEBUG]: Running eval on step 3072 is done!\n"
     ]
    },
    {
     "name": "stdout",
     "output_type": "stream",
     "text": [
      "3072 0.026302874456768422 0.0249248930895973 0.022466777415196253\n"
     ]
    },
    {
     "name": "stderr",
     "output_type": "stream",
     "text": [
      "[2025-10-22 19:50:12] [DEBUG]: Start epoch 6\n",
      "[2025-10-22 19:50:28] [DEBUG]: Running validation on step 3328...\n",
      "[2025-10-22 19:51:53] [DEBUG]: Running validation on step 3328 is done!\n",
      "[2025-10-22 19:51:53] [DEBUG]: Running eval on step 3328...\n",
      "[2025-10-22 19:53:18] [DEBUG]: Running eval on step 3328 is done!\n",
      "[2025-10-22 19:53:34] [DEBUG]: Running validation on step 3584...\n",
      "[2025-10-22 19:54:59] [DEBUG]: Running validation on step 3584 is done!\n",
      "[2025-10-22 19:54:59] [DEBUG]: Running eval on step 3584...\n",
      "[2025-10-22 19:56:24] [DEBUG]: Running eval on step 3584 is done!\n"
     ]
    },
    {
     "name": "stdout",
     "output_type": "stream",
     "text": [
      "3584 0.027600982946610293 0.026302874456768422 0.024478355611937314\n"
     ]
    },
    {
     "name": "stderr",
     "output_type": "stream",
     "text": [
      "[2025-10-22 19:56:24] [DEBUG]: Start epoch 7\n",
      "[2025-10-22 19:56:40] [DEBUG]: Running validation on step 3840...\n",
      "[2025-10-22 19:58:05] [DEBUG]: Running validation on step 3840 is done!\n",
      "[2025-10-22 19:58:05] [DEBUG]: Running eval on step 3840...\n",
      "[2025-10-22 19:59:30] [DEBUG]: Running eval on step 3840 is done!\n"
     ]
    },
    {
     "name": "stdout",
     "output_type": "stream",
     "text": [
      "3840 0.028717666224051006 0.027600982946610293 0.024182673262999683\n"
     ]
    },
    {
     "name": "stderr",
     "output_type": "stream",
     "text": [
      "[2025-10-22 19:59:46] [DEBUG]: Running validation on step 4096...\n",
      "[2025-10-22 20:01:11] [DEBUG]: Running validation on step 4096 is done!\n",
      "[2025-10-22 20:01:11] [DEBUG]: Running eval on step 4096...\n",
      "[2025-10-22 20:02:36] [DEBUG]: Running eval on step 4096 is done!\n",
      "[2025-10-22 20:02:36] [DEBUG]: Start epoch 8\n",
      "[2025-10-22 20:02:52] [DEBUG]: Running validation on step 4352...\n",
      "[2025-10-22 20:04:17] [DEBUG]: Running validation on step 4352 is done!\n",
      "[2025-10-22 20:04:17] [DEBUG]: Running eval on step 4352...\n",
      "[2025-10-22 20:05:42] [DEBUG]: Running eval on step 4352 is done!\n",
      "[2025-10-22 20:05:58] [DEBUG]: Running validation on step 4608...\n",
      "[2025-10-22 20:07:23] [DEBUG]: Running validation on step 4608 is done!\n",
      "[2025-10-22 20:07:23] [DEBUG]: Running eval on step 4608...\n",
      "[2025-10-22 20:08:48] [DEBUG]: Running eval on step 4608 is done!\n",
      "[2025-10-22 20:08:48] [DEBUG]: Start epoch 9\n",
      "[2025-10-22 20:09:03] [DEBUG]: Running validation on step 4864...\n",
      "[2025-10-22 20:10:28] [DEBUG]: Running validation on step 4864 is done!\n",
      "[2025-10-22 20:10:28] [DEBUG]: Running eval on step 4864...\n",
      "[2025-10-22 20:11:53] [DEBUG]: Running eval on step 4864 is done!\n"
     ]
    },
    {
     "name": "stdout",
     "output_type": "stream",
     "text": [
      "4864 0.02942608987456682 0.028717666224051006 0.025524348692881615\n"
     ]
    },
    {
     "name": "stderr",
     "output_type": "stream",
     "text": [
      "[2025-10-22 20:12:09] [DEBUG]: Running validation on step 5120...\n",
      "[2025-10-22 20:13:34] [DEBUG]: Running validation on step 5120 is done!\n",
      "[2025-10-22 20:13:34] [DEBUG]: Running eval on step 5120...\n",
      "[2025-10-22 20:14:58] [DEBUG]: Running eval on step 5120 is done!\n",
      "[2025-10-22 20:14:59] [DEBUG]: Start epoch 10\n",
      "[2025-10-22 20:15:15] [DEBUG]: Running validation on step 5376...\n",
      "[2025-10-22 20:16:39] [DEBUG]: Running validation on step 5376 is done!\n",
      "[2025-10-22 20:16:39] [DEBUG]: Running eval on step 5376...\n",
      "[2025-10-22 20:18:04] [DEBUG]: Running eval on step 5376 is done!\n"
     ]
    },
    {
     "name": "stdout",
     "output_type": "stream",
     "text": [
      "5376 0.030585754005916323 0.02942608987456682 0.025111675844158174\n"
     ]
    },
    {
     "name": "stderr",
     "output_type": "stream",
     "text": [
      "[2025-10-22 20:18:20] [DEBUG]: Running validation on step 5632...\n",
      "[2025-10-22 20:19:45] [DEBUG]: Running validation on step 5632 is done!\n",
      "[2025-10-22 20:19:45] [DEBUG]: Running eval on step 5632...\n",
      "[2025-10-22 20:21:09] [DEBUG]: Running eval on step 5632 is done!\n",
      "[2025-10-22 20:21:10] [DEBUG]: Start epoch 11\n",
      "[2025-10-22 20:21:26] [DEBUG]: Running validation on step 5888...\n",
      "[2025-10-22 20:22:50] [DEBUG]: Running validation on step 5888 is done!\n",
      "[2025-10-22 20:22:50] [DEBUG]: Running eval on step 5888...\n",
      "[2025-10-22 20:24:15] [DEBUG]: Running eval on step 5888 is done!\n",
      "[2025-10-22 20:24:31] [DEBUG]: Running validation on step 6144...\n",
      "[2025-10-22 20:25:56] [DEBUG]: Running validation on step 6144 is done!\n",
      "[2025-10-22 20:25:56] [DEBUG]: Running eval on step 6144...\n",
      "[2025-10-22 20:27:21] [DEBUG]: Running eval on step 6144 is done!\n",
      "[2025-10-22 20:27:22] [DEBUG]: Start epoch 12\n",
      "[2025-10-22 20:27:37] [DEBUG]: Running validation on step 6400...\n",
      "[2025-10-22 20:29:02] [DEBUG]: Running validation on step 6400 is done!\n",
      "[2025-10-22 20:29:02] [DEBUG]: Running eval on step 6400...\n",
      "[2025-10-22 20:30:27] [DEBUG]: Running eval on step 6400 is done!\n",
      "[2025-10-22 20:30:43] [DEBUG]: Running validation on step 6656...\n",
      "[2025-10-22 20:32:08] [DEBUG]: Running validation on step 6656 is done!\n",
      "[2025-10-22 20:32:08] [DEBUG]: Running eval on step 6656...\n",
      "[2025-10-22 20:33:33] [DEBUG]: Running eval on step 6656 is done!\n"
     ]
    },
    {
     "name": "stdout",
     "output_type": "stream",
     "text": [
      "6656 0.030684931475835894 0.030585754005916323 0.025909970492112563\n"
     ]
    },
    {
     "name": "stderr",
     "output_type": "stream",
     "text": [
      "[2025-10-22 20:33:34] [DEBUG]: Start epoch 13\n",
      "[2025-10-22 20:33:49] [DEBUG]: Running validation on step 6912...\n",
      "[2025-10-22 20:35:14] [DEBUG]: Running validation on step 6912 is done!\n",
      "[2025-10-22 20:35:14] [DEBUG]: Running eval on step 6912...\n",
      "[2025-10-22 20:36:39] [DEBUG]: Running eval on step 6912 is done!\n"
     ]
    },
    {
     "name": "stdout",
     "output_type": "stream",
     "text": [
      "6912 0.030776363011923172 0.030684931475835894 0.026050387013258642\n"
     ]
    },
    {
     "name": "stderr",
     "output_type": "stream",
     "text": [
      "[2025-10-22 20:36:55] [DEBUG]: Running validation on step 7168...\n",
      "[2025-10-22 20:38:20] [DEBUG]: Running validation on step 7168 is done!\n",
      "[2025-10-22 20:38:20] [DEBUG]: Running eval on step 7168...\n",
      "[2025-10-22 20:39:44] [DEBUG]: Running eval on step 7168 is done!\n",
      "[2025-10-22 20:39:45] [DEBUG]: Start epoch 14\n",
      "[2025-10-22 20:40:00] [DEBUG]: Running validation on step 7424...\n",
      "[2025-10-22 20:41:25] [DEBUG]: Running validation on step 7424 is done!\n",
      "[2025-10-22 20:41:25] [DEBUG]: Running eval on step 7424...\n",
      "[2025-10-22 20:42:50] [DEBUG]: Running eval on step 7424 is done!\n",
      "[2025-10-22 20:43:06] [DEBUG]: Running validation on step 7680...\n",
      "[2025-10-22 20:44:31] [DEBUG]: Running validation on step 7680 is done!\n",
      "[2025-10-22 20:44:31] [DEBUG]: Running eval on step 7680...\n",
      "[2025-10-22 20:45:56] [DEBUG]: Running eval on step 7680 is done!\n",
      "[2025-10-22 20:45:57] [DEBUG]: Start epoch 15\n",
      "[2025-10-22 20:46:12] [DEBUG]: Running validation on step 7936...\n",
      "[2025-10-22 20:47:37] [DEBUG]: Running validation on step 7936 is done!\n",
      "[2025-10-22 20:47:37] [DEBUG]: Running eval on step 7936...\n",
      "[2025-10-22 20:49:02] [DEBUG]: Running eval on step 7936 is done!\n"
     ]
    },
    {
     "name": "stdout",
     "output_type": "stream",
     "text": [
      "7936 0.032396744919879775 0.030776363011923172 0.02818496659553334\n"
     ]
    },
    {
     "name": "stderr",
     "output_type": "stream",
     "text": [
      "[2025-10-22 20:49:18] [DEBUG]: Running validation on step 8192...\n",
      "[2025-10-22 20:50:43] [DEBUG]: Running validation on step 8192 is done!\n",
      "[2025-10-22 20:50:43] [DEBUG]: Running eval on step 8192...\n",
      "[2025-10-22 20:52:08] [DEBUG]: Running eval on step 8192 is done!\n",
      "[2025-10-22 20:52:09] [DEBUG]: Start epoch 16\n",
      "[2025-10-22 20:52:24] [DEBUG]: Running validation on step 8448...\n",
      "[2025-10-22 20:53:49] [DEBUG]: Running validation on step 8448 is done!\n",
      "[2025-10-22 20:53:49] [DEBUG]: Running eval on step 8448...\n",
      "[2025-10-22 20:55:14] [DEBUG]: Running eval on step 8448 is done!\n"
     ]
    },
    {
     "name": "stdout",
     "output_type": "stream",
     "text": [
      "8448 0.03246763206517628 0.032396744919879775 0.027321475520626737\n"
     ]
    },
    {
     "name": "stderr",
     "output_type": "stream",
     "text": [
      "[2025-10-22 20:55:30] [DEBUG]: Running validation on step 8704...\n",
      "[2025-10-22 20:56:55] [DEBUG]: Running validation on step 8704 is done!\n",
      "[2025-10-22 20:56:55] [DEBUG]: Running eval on step 8704...\n",
      "[2025-10-22 20:58:20] [DEBUG]: Running eval on step 8704 is done!\n",
      "[2025-10-22 20:58:21] [DEBUG]: Start epoch 17\n",
      "[2025-10-22 20:58:36] [DEBUG]: Running validation on step 8960...\n",
      "[2025-10-22 21:00:01] [DEBUG]: Running validation on step 8960 is done!\n",
      "[2025-10-22 21:00:01] [DEBUG]: Running eval on step 8960...\n",
      "[2025-10-22 21:01:26] [DEBUG]: Running eval on step 8960 is done!\n"
     ]
    },
    {
     "name": "stdout",
     "output_type": "stream",
     "text": [
      "8960 0.033880597350849306 0.03246763206517628 0.02829590755170932\n"
     ]
    },
    {
     "name": "stderr",
     "output_type": "stream",
     "text": [
      "[2025-10-22 21:01:43] [DEBUG]: Running validation on step 9216...\n",
      "[2025-10-22 21:03:08] [DEBUG]: Running validation on step 9216 is done!\n",
      "[2025-10-22 21:03:08] [DEBUG]: Running eval on step 9216...\n",
      "[2025-10-22 21:04:33] [DEBUG]: Running eval on step 9216 is done!\n",
      "[2025-10-22 21:04:34] [DEBUG]: Start epoch 18\n",
      "[2025-10-22 21:04:49] [DEBUG]: Running validation on step 9472...\n",
      "[2025-10-22 21:06:14] [DEBUG]: Running validation on step 9472 is done!\n",
      "[2025-10-22 21:06:14] [DEBUG]: Running eval on step 9472...\n",
      "[2025-10-22 21:07:39] [DEBUG]: Running eval on step 9472 is done!\n"
     ]
    },
    {
     "name": "stdout",
     "output_type": "stream",
     "text": [
      "9472 0.03417354269237311 0.033880597350849306 0.02915467095186889\n"
     ]
    },
    {
     "name": "stderr",
     "output_type": "stream",
     "text": [
      "[2025-10-22 21:07:55] [DEBUG]: Running validation on step 9728...\n",
      "[2025-10-22 21:09:20] [DEBUG]: Running validation on step 9728 is done!\n",
      "[2025-10-22 21:09:20] [DEBUG]: Running eval on step 9728...\n",
      "[2025-10-22 21:10:45] [DEBUG]: Running eval on step 9728 is done!\n",
      "[2025-10-22 21:10:46] [DEBUG]: Start epoch 19\n",
      "[2025-10-22 21:11:01] [DEBUG]: Running validation on step 9984...\n",
      "[2025-10-22 21:12:26] [DEBUG]: Running validation on step 9984 is done!\n",
      "[2025-10-22 21:12:26] [DEBUG]: Running eval on step 9984...\n",
      "[2025-10-22 21:13:51] [DEBUG]: Running eval on step 9984 is done!\n"
     ]
    },
    {
     "name": "stdout",
     "output_type": "stream",
     "text": [
      "9984 0.03522069172574962 0.03417354269237311 0.030537969382921314\n"
     ]
    },
    {
     "name": "stderr",
     "output_type": "stream",
     "text": [
      "[2025-10-22 21:14:07] [DEBUG]: Running validation on step 10240...\n",
      "[2025-10-22 21:15:32] [DEBUG]: Running validation on step 10240 is done!\n",
      "[2025-10-22 21:15:32] [DEBUG]: Running eval on step 10240...\n",
      "[2025-10-22 21:16:57] [DEBUG]: Running eval on step 10240 is done!\n",
      "[2025-10-22 21:16:58] [DEBUG]: Start epoch 20\n",
      "[2025-10-22 21:17:13] [DEBUG]: Running validation on step 10496...\n",
      "[2025-10-22 21:18:38] [DEBUG]: Running validation on step 10496 is done!\n",
      "[2025-10-22 21:18:38] [DEBUG]: Running eval on step 10496...\n",
      "[2025-10-22 21:20:03] [DEBUG]: Running eval on step 10496 is done!\n",
      "[2025-10-22 21:20:19] [DEBUG]: Running validation on step 10752...\n",
      "[2025-10-22 21:21:44] [DEBUG]: Running validation on step 10752 is done!\n",
      "[2025-10-22 21:21:44] [DEBUG]: Running eval on step 10752...\n",
      "[2025-10-22 21:23:09] [DEBUG]: Running eval on step 10752 is done!\n",
      "[2025-10-22 21:23:11] [DEBUG]: Start epoch 21\n",
      "[2025-10-22 21:23:25] [DEBUG]: Running validation on step 11008...\n",
      "[2025-10-22 21:24:50] [DEBUG]: Running validation on step 11008 is done!\n",
      "[2025-10-22 21:24:50] [DEBUG]: Running eval on step 11008...\n",
      "[2025-10-22 21:26:15] [DEBUG]: Running eval on step 11008 is done!\n",
      "[2025-10-22 21:26:31] [DEBUG]: Running validation on step 11264...\n",
      "[2025-10-22 21:27:56] [DEBUG]: Running validation on step 11264 is done!\n",
      "[2025-10-22 21:27:56] [DEBUG]: Running eval on step 11264...\n",
      "[2025-10-22 21:29:21] [DEBUG]: Running eval on step 11264 is done!\n",
      "[2025-10-22 21:29:22] [DEBUG]: Start epoch 22\n",
      "[2025-10-22 21:29:37] [DEBUG]: Running validation on step 11520...\n",
      "[2025-10-22 21:31:02] [DEBUG]: Running validation on step 11520 is done!\n",
      "[2025-10-22 21:31:02] [DEBUG]: Running eval on step 11520...\n",
      "[2025-10-22 21:32:27] [DEBUG]: Running eval on step 11520 is done!\n"
     ]
    },
    {
     "name": "stdout",
     "output_type": "stream",
     "text": [
      "11520 0.03554351541403554 0.03522069172574962 0.029431332733823784\n"
     ]
    },
    {
     "name": "stderr",
     "output_type": "stream",
     "text": [
      "[2025-10-22 21:32:43] [DEBUG]: Running validation on step 11776...\n",
      "[2025-10-22 21:34:08] [DEBUG]: Running validation on step 11776 is done!\n",
      "[2025-10-22 21:34:08] [DEBUG]: Running eval on step 11776...\n",
      "[2025-10-22 21:35:33] [DEBUG]: Running eval on step 11776 is done!\n",
      "[2025-10-22 21:35:35] [DEBUG]: Start epoch 23\n",
      "[2025-10-22 21:35:50] [DEBUG]: Running validation on step 12032...\n",
      "[2025-10-22 21:37:14] [DEBUG]: Running validation on step 12032 is done!\n",
      "[2025-10-22 21:37:14] [DEBUG]: Running eval on step 12032...\n",
      "[2025-10-22 21:38:39] [DEBUG]: Running eval on step 12032 is done!\n"
     ]
    },
    {
     "name": "stdout",
     "output_type": "stream",
     "text": [
      "12032 0.036396620211674606 0.03554351541403554 0.030652749554013776\n"
     ]
    },
    {
     "name": "stderr",
     "output_type": "stream",
     "text": [
      "[2025-10-22 21:38:55] [DEBUG]: Running validation on step 12288...\n",
      "[2025-10-22 21:40:20] [DEBUG]: Running validation on step 12288 is done!\n",
      "[2025-10-22 21:40:20] [DEBUG]: Running eval on step 12288...\n",
      "[2025-10-22 21:41:45] [DEBUG]: Running eval on step 12288 is done!\n",
      "[2025-10-22 21:41:46] [DEBUG]: Start epoch 24\n",
      "[2025-10-22 21:42:01] [DEBUG]: Running validation on step 12544...\n",
      "[2025-10-22 21:43:26] [DEBUG]: Running validation on step 12544 is done!\n",
      "[2025-10-22 21:43:26] [DEBUG]: Running eval on step 12544...\n",
      "[2025-10-22 21:44:50] [DEBUG]: Running eval on step 12544 is done!\n",
      "[2025-10-22 21:45:07] [DEBUG]: Running validation on step 12800...\n",
      "[2025-10-22 21:46:32] [DEBUG]: Running validation on step 12800 is done!\n",
      "[2025-10-22 21:46:32] [DEBUG]: Running eval on step 12800...\n",
      "[2025-10-22 21:47:57] [DEBUG]: Running eval on step 12800 is done!\n"
     ]
    },
    {
     "name": "stdout",
     "output_type": "stream",
     "text": [
      "12800 0.036705746659704594 0.036396620211674606 0.03053261368250061\n"
     ]
    },
    {
     "name": "stderr",
     "output_type": "stream",
     "text": [
      "[2025-10-22 21:47:58] [DEBUG]: Start epoch 25\n",
      "[2025-10-22 21:48:13] [DEBUG]: Running validation on step 13056...\n",
      "[2025-10-22 21:49:37] [DEBUG]: Running validation on step 13056 is done!\n",
      "[2025-10-22 21:49:37] [DEBUG]: Running eval on step 13056...\n",
      "[2025-10-22 21:51:02] [DEBUG]: Running eval on step 13056 is done!\n",
      "[2025-10-22 21:51:18] [DEBUG]: Running validation on step 13312...\n",
      "[2025-10-22 21:52:43] [DEBUG]: Running validation on step 13312 is done!\n",
      "[2025-10-22 21:52:43] [DEBUG]: Running eval on step 13312...\n",
      "[2025-10-22 21:54:08] [DEBUG]: Running eval on step 13312 is done!\n"
     ]
    },
    {
     "name": "stdout",
     "output_type": "stream",
     "text": [
      "13312 0.03685041662912455 0.036705746659704594 0.03126094816625318\n"
     ]
    },
    {
     "name": "stderr",
     "output_type": "stream",
     "text": [
      "[2025-10-22 21:54:09] [DEBUG]: Start epoch 26\n",
      "[2025-10-22 21:54:24] [DEBUG]: Running validation on step 13568...\n",
      "[2025-10-22 21:55:48] [DEBUG]: Running validation on step 13568 is done!\n",
      "[2025-10-22 21:55:48] [DEBUG]: Running eval on step 13568...\n",
      "[2025-10-22 21:57:13] [DEBUG]: Running eval on step 13568 is done!\n"
     ]
    },
    {
     "name": "stdout",
     "output_type": "stream",
     "text": [
      "13568 0.0373609297213068 0.03685041662912455 0.031309494517578\n"
     ]
    },
    {
     "name": "stderr",
     "output_type": "stream",
     "text": [
      "[2025-10-22 21:57:29] [DEBUG]: Running validation on step 13824...\n",
      "[2025-10-22 21:58:54] [DEBUG]: Running validation on step 13824 is done!\n",
      "[2025-10-22 21:58:54] [DEBUG]: Running eval on step 13824...\n",
      "[2025-10-22 22:00:19] [DEBUG]: Running eval on step 13824 is done!\n"
     ]
    },
    {
     "name": "stdout",
     "output_type": "stream",
     "text": [
      "13824 0.03776973731089847 0.0373609297213068 0.031403430103082934\n"
     ]
    },
    {
     "name": "stderr",
     "output_type": "stream",
     "text": [
      "[2025-10-22 22:00:20] [DEBUG]: Start epoch 27\n",
      "[2025-10-22 22:00:35] [DEBUG]: Running validation on step 14080...\n",
      "[2025-10-22 22:02:00] [DEBUG]: Running validation on step 14080 is done!\n",
      "[2025-10-22 22:02:00] [DEBUG]: Running eval on step 14080...\n",
      "[2025-10-22 22:03:24] [DEBUG]: Running eval on step 14080 is done!\n"
     ]
    },
    {
     "name": "stdout",
     "output_type": "stream",
     "text": [
      "14080 0.03784479636420601 0.03776973731089847 0.03278118765498617\n"
     ]
    },
    {
     "name": "stderr",
     "output_type": "stream",
     "text": [
      "[2025-10-22 22:03:40] [DEBUG]: Running validation on step 14336...\n",
      "[2025-10-22 22:05:05] [DEBUG]: Running validation on step 14336 is done!\n",
      "[2025-10-22 22:05:05] [DEBUG]: Running eval on step 14336...\n",
      "[2025-10-22 22:06:30] [DEBUG]: Running eval on step 14336 is done!\n",
      "[2025-10-22 22:06:32] [DEBUG]: Start epoch 28\n",
      "[2025-10-22 22:06:46] [DEBUG]: Running validation on step 14592...\n",
      "[2025-10-22 22:08:11] [DEBUG]: Running validation on step 14592 is done!\n",
      "[2025-10-22 22:08:11] [DEBUG]: Running eval on step 14592...\n",
      "[2025-10-22 22:09:36] [DEBUG]: Running eval on step 14592 is done!\n"
     ]
    },
    {
     "name": "stdout",
     "output_type": "stream",
     "text": [
      "14592 0.03886942158579394 0.03784479636420601 0.03250356553806973\n"
     ]
    },
    {
     "name": "stderr",
     "output_type": "stream",
     "text": [
      "[2025-10-22 22:09:52] [DEBUG]: Running validation on step 14848...\n",
      "[2025-10-22 22:11:17] [DEBUG]: Running validation on step 14848 is done!\n",
      "[2025-10-22 22:11:17] [DEBUG]: Running eval on step 14848...\n",
      "[2025-10-22 22:12:42] [DEBUG]: Running eval on step 14848 is done!\n",
      "[2025-10-22 22:12:43] [DEBUG]: Start epoch 29\n",
      "[2025-10-22 22:12:58] [DEBUG]: Running validation on step 15104...\n",
      "[2025-10-22 22:14:23] [DEBUG]: Running validation on step 15104 is done!\n",
      "[2025-10-22 22:14:23] [DEBUG]: Running eval on step 15104...\n",
      "[2025-10-22 22:15:47] [DEBUG]: Running eval on step 15104 is done!\n",
      "[2025-10-22 22:16:04] [DEBUG]: Running validation on step 15360...\n",
      "[2025-10-22 22:17:28] [DEBUG]: Running validation on step 15360 is done!\n",
      "[2025-10-22 22:17:28] [DEBUG]: Running eval on step 15360...\n",
      "[2025-10-22 22:18:53] [DEBUG]: Running eval on step 15360 is done!\n",
      "[2025-10-22 22:18:55] [DEBUG]: Start epoch 30\n",
      "[2025-10-22 22:19:09] [DEBUG]: Running validation on step 15616...\n",
      "[2025-10-22 22:20:34] [DEBUG]: Running validation on step 15616 is done!\n",
      "[2025-10-22 22:20:34] [DEBUG]: Running eval on step 15616...\n",
      "[2025-10-22 22:21:59] [DEBUG]: Running eval on step 15616 is done!\n"
     ]
    },
    {
     "name": "stdout",
     "output_type": "stream",
     "text": [
      "15616 0.04002851158032684 0.03886942158579394 0.03398921592410517\n"
     ]
    },
    {
     "name": "stderr",
     "output_type": "stream",
     "text": [
      "[2025-10-22 22:22:15] [DEBUG]: Running validation on step 15872...\n",
      "[2025-10-22 22:23:40] [DEBUG]: Running validation on step 15872 is done!\n",
      "[2025-10-22 22:23:40] [DEBUG]: Running eval on step 15872...\n",
      "[2025-10-22 22:25:04] [DEBUG]: Running eval on step 15872 is done!\n",
      "[2025-10-22 22:25:06] [DEBUG]: Start epoch 31\n",
      "[2025-10-22 22:25:21] [DEBUG]: Running validation on step 16128...\n",
      "[2025-10-22 22:26:45] [DEBUG]: Running validation on step 16128 is done!\n",
      "[2025-10-22 22:26:45] [DEBUG]: Running eval on step 16128...\n",
      "[2025-10-22 22:28:10] [DEBUG]: Running eval on step 16128 is done!\n",
      "[2025-10-22 22:28:26] [DEBUG]: Running validation on step 16384...\n",
      "[2025-10-22 22:29:51] [DEBUG]: Running validation on step 16384 is done!\n",
      "[2025-10-22 22:29:51] [DEBUG]: Running eval on step 16384...\n",
      "[2025-10-22 22:31:15] [DEBUG]: Running eval on step 16384 is done!\n",
      "[2025-10-22 22:31:18] [DEBUG]: Start epoch 32\n",
      "[2025-10-22 22:31:32] [DEBUG]: Running validation on step 16640...\n",
      "[2025-10-22 22:32:56] [DEBUG]: Running validation on step 16640 is done!\n",
      "[2025-10-22 22:32:56] [DEBUG]: Running eval on step 16640...\n",
      "[2025-10-22 22:34:21] [DEBUG]: Running eval on step 16640 is done!\n",
      "[2025-10-22 22:34:37] [DEBUG]: Running validation on step 16896...\n",
      "[2025-10-22 22:36:01] [DEBUG]: Running validation on step 16896 is done!\n",
      "[2025-10-22 22:36:01] [DEBUG]: Running eval on step 16896...\n",
      "[2025-10-22 22:37:26] [DEBUG]: Running eval on step 16896 is done!\n",
      "[2025-10-22 22:37:28] [DEBUG]: Start epoch 33\n",
      "[2025-10-22 22:37:42] [DEBUG]: Running validation on step 17152...\n",
      "[2025-10-22 22:39:07] [DEBUG]: Running validation on step 17152 is done!\n",
      "[2025-10-22 22:39:07] [DEBUG]: Running eval on step 17152...\n",
      "[2025-10-22 22:40:31] [DEBUG]: Running eval on step 17152 is done!\n",
      "[2025-10-22 22:40:47] [DEBUG]: Running validation on step 17408...\n",
      "[2025-10-22 22:42:12] [DEBUG]: Running validation on step 17408 is done!\n",
      "[2025-10-22 22:42:12] [DEBUG]: Running eval on step 17408...\n",
      "[2025-10-22 22:43:37] [DEBUG]: Running eval on step 17408 is done!\n",
      "[2025-10-22 22:43:39] [DEBUG]: Start epoch 34\n",
      "[2025-10-22 22:43:53] [DEBUG]: Running validation on step 17664...\n",
      "[2025-10-22 22:45:18] [DEBUG]: Running validation on step 17664 is done!\n",
      "[2025-10-22 22:45:18] [DEBUG]: Running eval on step 17664...\n",
      "[2025-10-22 22:46:42] [DEBUG]: Running eval on step 17664 is done!\n",
      "[2025-10-22 22:46:59] [DEBUG]: Running validation on step 17920...\n",
      "[2025-10-22 22:48:23] [DEBUG]: Running validation on step 17920 is done!\n",
      "[2025-10-22 22:48:23] [DEBUG]: Running eval on step 17920...\n",
      "[2025-10-22 22:49:48] [DEBUG]: Running eval on step 17920 is done!\n"
     ]
    },
    {
     "name": "stdout",
     "output_type": "stream",
     "text": [
      "17920 0.04015519497795746 0.04002851158032684 0.03333323879179682\n"
     ]
    },
    {
     "name": "stderr",
     "output_type": "stream",
     "text": [
      "[2025-10-22 22:49:50] [DEBUG]: Start epoch 35\n",
      "[2025-10-22 22:50:04] [DEBUG]: Running validation on step 18176...\n",
      "[2025-10-22 22:51:29] [DEBUG]: Running validation on step 18176 is done!\n",
      "[2025-10-22 22:51:29] [DEBUG]: Running eval on step 18176...\n",
      "[2025-10-22 22:52:53] [DEBUG]: Running eval on step 18176 is done!\n",
      "[2025-10-22 22:53:10] [DEBUG]: Running validation on step 18432...\n",
      "[2025-10-22 22:54:34] [DEBUG]: Running validation on step 18432 is done!\n",
      "[2025-10-22 22:54:34] [DEBUG]: Running eval on step 18432...\n",
      "[2025-10-22 22:55:59] [DEBUG]: Running eval on step 18432 is done!\n"
     ]
    },
    {
     "name": "stdout",
     "output_type": "stream",
     "text": [
      "18432 0.041143489677972246 0.04015519497795746 0.03410955796110946\n"
     ]
    },
    {
     "name": "stderr",
     "output_type": "stream",
     "text": [
      "[2025-10-22 22:56:01] [DEBUG]: Start epoch 36\n",
      "[2025-10-22 22:56:15] [DEBUG]: Running validation on step 18688...\n",
      "[2025-10-22 22:57:40] [DEBUG]: Running validation on step 18688 is done!\n",
      "[2025-10-22 22:57:40] [DEBUG]: Running eval on step 18688...\n",
      "[2025-10-22 22:59:05] [DEBUG]: Running eval on step 18688 is done!\n",
      "[2025-10-22 22:59:21] [DEBUG]: Running validation on step 18944...\n",
      "[2025-10-22 23:00:46] [DEBUG]: Running validation on step 18944 is done!\n",
      "[2025-10-22 23:00:46] [DEBUG]: Running eval on step 18944...\n",
      "[2025-10-22 23:02:11] [DEBUG]: Running eval on step 18944 is done!\n",
      "[2025-10-22 23:02:13] [DEBUG]: Start epoch 37\n",
      "[2025-10-22 23:02:27] [DEBUG]: Running validation on step 19200...\n",
      "[2025-10-22 23:03:52] [DEBUG]: Running validation on step 19200 is done!\n",
      "[2025-10-22 23:03:52] [DEBUG]: Running eval on step 19200...\n",
      "[2025-10-22 23:05:17] [DEBUG]: Running eval on step 19200 is done!\n",
      "[2025-10-22 23:05:33] [DEBUG]: Running validation on step 19456...\n",
      "[2025-10-22 23:06:58] [DEBUG]: Running validation on step 19456 is done!\n",
      "[2025-10-22 23:06:58] [DEBUG]: Running eval on step 19456...\n",
      "[2025-10-22 23:08:23] [DEBUG]: Running eval on step 19456 is done!\n",
      "[2025-10-22 23:08:26] [DEBUG]: Start epoch 38\n",
      "[2025-10-22 23:08:40] [DEBUG]: Running validation on step 19712...\n",
      "[2025-10-22 23:10:05] [DEBUG]: Running validation on step 19712 is done!\n",
      "[2025-10-22 23:10:05] [DEBUG]: Running eval on step 19712...\n",
      "[2025-10-22 23:11:30] [DEBUG]: Running eval on step 19712 is done!\n",
      "[2025-10-22 23:11:46] [DEBUG]: Running validation on step 19968...\n",
      "[2025-10-22 23:13:11] [DEBUG]: Running validation on step 19968 is done!\n",
      "[2025-10-22 23:13:11] [DEBUG]: Running eval on step 19968...\n",
      "[2025-10-22 23:14:35] [DEBUG]: Running eval on step 19968 is done!\n",
      "[2025-10-22 23:14:38] [DEBUG]: Start epoch 39\n",
      "[2025-10-22 23:14:52] [DEBUG]: Running validation on step 20224...\n",
      "[2025-10-22 23:16:17] [DEBUG]: Running validation on step 20224 is done!\n",
      "[2025-10-22 23:16:17] [DEBUG]: Running eval on step 20224...\n",
      "[2025-10-22 23:17:42] [DEBUG]: Running eval on step 20224 is done!\n",
      "[2025-10-22 23:17:58] [DEBUG]: Running validation on step 20480...\n",
      "[2025-10-22 23:19:22] [DEBUG]: Running validation on step 20480 is done!\n",
      "[2025-10-22 23:19:22] [DEBUG]: Running eval on step 20480...\n",
      "[2025-10-22 23:20:47] [DEBUG]: Running eval on step 20480 is done!\n"
     ]
    },
    {
     "name": "stdout",
     "output_type": "stream",
     "text": [
      "20480 0.04155473541284308 0.041143489677972246 0.03439971235838654\n"
     ]
    },
    {
     "name": "stderr",
     "output_type": "stream",
     "text": [
      "[2025-10-22 23:20:50] [DEBUG]: Start epoch 40\n",
      "[2025-10-22 23:21:03] [DEBUG]: Running validation on step 20736...\n",
      "[2025-10-22 23:22:28] [DEBUG]: Running validation on step 20736 is done!\n",
      "[2025-10-22 23:22:28] [DEBUG]: Running eval on step 20736...\n",
      "[2025-10-22 23:23:53] [DEBUG]: Running eval on step 20736 is done!\n",
      "[2025-10-22 23:24:10] [DEBUG]: Running validation on step 20992...\n",
      "[2025-10-22 23:25:35] [DEBUG]: Running validation on step 20992 is done!\n",
      "[2025-10-22 23:25:35] [DEBUG]: Running eval on step 20992...\n",
      "[2025-10-22 23:27:00] [DEBUG]: Running eval on step 20992 is done!\n",
      "[2025-10-22 23:27:02] [DEBUG]: Start epoch 41\n",
      "[2025-10-22 23:27:17] [DEBUG]: Running validation on step 21248...\n",
      "[2025-10-22 23:28:42] [DEBUG]: Running validation on step 21248 is done!\n",
      "[2025-10-22 23:28:42] [DEBUG]: Running eval on step 21248...\n",
      "[2025-10-22 23:30:07] [DEBUG]: Running eval on step 21248 is done!\n",
      "[2025-10-22 23:30:23] [DEBUG]: Running validation on step 21504...\n",
      "[2025-10-22 23:31:48] [DEBUG]: Running validation on step 21504 is done!\n",
      "[2025-10-22 23:31:48] [DEBUG]: Running eval on step 21504...\n",
      "[2025-10-22 23:33:12] [DEBUG]: Running eval on step 21504 is done!\n",
      "[2025-10-22 23:33:15] [DEBUG]: Start epoch 42\n",
      "[2025-10-22 23:33:28] [DEBUG]: Running validation on step 21760...\n",
      "[2025-10-22 23:34:53] [DEBUG]: Running validation on step 21760 is done!\n",
      "[2025-10-22 23:34:53] [DEBUG]: Running eval on step 21760...\n",
      "[2025-10-22 23:36:18] [DEBUG]: Running eval on step 21760 is done!\n"
     ]
    },
    {
     "name": "stdout",
     "output_type": "stream",
     "text": [
      "21760 0.041583489431244465 0.04155473541284308 0.03397671036295317\n"
     ]
    },
    {
     "name": "stderr",
     "output_type": "stream",
     "text": [
      "[2025-10-22 23:36:35] [DEBUG]: Running validation on step 22016...\n",
      "[2025-10-22 23:38:00] [DEBUG]: Running validation on step 22016 is done!\n",
      "[2025-10-22 23:38:00] [DEBUG]: Running eval on step 22016...\n",
      "[2025-10-22 23:39:24] [DEBUG]: Running eval on step 22016 is done!\n",
      "[2025-10-22 23:39:27] [DEBUG]: Start epoch 43\n",
      "[2025-10-22 23:39:41] [DEBUG]: Running validation on step 22272...\n",
      "[2025-10-22 23:41:06] [DEBUG]: Running validation on step 22272 is done!\n",
      "[2025-10-22 23:41:06] [DEBUG]: Running eval on step 22272...\n",
      "[2025-10-22 23:42:30] [DEBUG]: Running eval on step 22272 is done!\n",
      "[2025-10-22 23:42:46] [DEBUG]: Running validation on step 22528...\n",
      "[2025-10-22 23:44:11] [DEBUG]: Running validation on step 22528 is done!\n",
      "[2025-10-22 23:44:11] [DEBUG]: Running eval on step 22528...\n",
      "[2025-10-22 23:45:36] [DEBUG]: Running eval on step 22528 is done!\n",
      "[2025-10-22 23:45:39] [DEBUG]: Start epoch 44\n",
      "[2025-10-22 23:45:52] [DEBUG]: Running validation on step 22784...\n",
      "[2025-10-22 23:47:17] [DEBUG]: Running validation on step 22784 is done!\n",
      "[2025-10-22 23:47:17] [DEBUG]: Running eval on step 22784...\n",
      "[2025-10-22 23:48:42] [DEBUG]: Running eval on step 22784 is done!\n",
      "[2025-10-22 23:48:58] [DEBUG]: Running validation on step 23040...\n",
      "[2025-10-22 23:50:23] [DEBUG]: Running validation on step 23040 is done!\n",
      "[2025-10-22 23:50:23] [DEBUG]: Running eval on step 23040...\n",
      "[2025-10-22 23:51:48] [DEBUG]: Running eval on step 23040 is done!\n"
     ]
    },
    {
     "name": "stdout",
     "output_type": "stream",
     "text": [
      "23040 0.041853434417007146 0.041583489431244465 0.033988530482684215\n"
     ]
    },
    {
     "name": "stderr",
     "output_type": "stream",
     "text": [
      "[2025-10-22 23:51:51] [DEBUG]: Start epoch 45\n",
      "[2025-10-22 23:52:04] [DEBUG]: Running validation on step 23296...\n",
      "[2025-10-22 23:53:29] [DEBUG]: Running validation on step 23296 is done!\n",
      "[2025-10-22 23:53:29] [DEBUG]: Running eval on step 23296...\n",
      "[2025-10-22 23:54:54] [DEBUG]: Running eval on step 23296 is done!\n"
     ]
    },
    {
     "name": "stdout",
     "output_type": "stream",
     "text": [
      "23296 0.042125720033165656 0.041853434417007146 0.035484936089489674\n"
     ]
    },
    {
     "name": "stderr",
     "output_type": "stream",
     "text": [
      "[2025-10-22 23:55:10] [DEBUG]: Running validation on step 23552...\n",
      "[2025-10-22 23:56:35] [DEBUG]: Running validation on step 23552 is done!\n",
      "[2025-10-22 23:56:35] [DEBUG]: Running eval on step 23552...\n",
      "[2025-10-22 23:58:00] [DEBUG]: Running eval on step 23552 is done!\n",
      "[2025-10-22 23:58:03] [DEBUG]: Start epoch 46\n",
      "[2025-10-22 23:58:17] [DEBUG]: Running validation on step 23808...\n",
      "[2025-10-22 23:59:42] [DEBUG]: Running validation on step 23808 is done!\n",
      "[2025-10-22 23:59:42] [DEBUG]: Running eval on step 23808...\n",
      "[2025-10-23 00:01:07] [DEBUG]: Running eval on step 23808 is done!\n",
      "[2025-10-23 00:01:23] [DEBUG]: Running validation on step 24064...\n",
      "[2025-10-23 00:02:48] [DEBUG]: Running validation on step 24064 is done!\n",
      "[2025-10-23 00:02:48] [DEBUG]: Running eval on step 24064...\n",
      "[2025-10-23 00:04:13] [DEBUG]: Running eval on step 24064 is done!\n",
      "[2025-10-23 00:04:16] [DEBUG]: Start epoch 47\n",
      "[2025-10-23 00:04:29] [DEBUG]: Running validation on step 24320...\n",
      "[2025-10-23 00:05:54] [DEBUG]: Running validation on step 24320 is done!\n",
      "[2025-10-23 00:05:54] [DEBUG]: Running eval on step 24320...\n",
      "[2025-10-23 00:07:19] [DEBUG]: Running eval on step 24320 is done!\n",
      "[2025-10-23 00:07:35] [DEBUG]: Running validation on step 24576...\n",
      "[2025-10-23 00:08:59] [DEBUG]: Running validation on step 24576 is done!\n",
      "[2025-10-23 00:08:59] [DEBUG]: Running eval on step 24576...\n",
      "[2025-10-23 00:10:24] [DEBUG]: Running eval on step 24576 is done!\n",
      "[2025-10-23 00:10:27] [DEBUG]: Start epoch 48\n",
      "[2025-10-23 00:10:40] [DEBUG]: Running validation on step 24832...\n",
      "[2025-10-23 00:12:05] [DEBUG]: Running validation on step 24832 is done!\n",
      "[2025-10-23 00:12:05] [DEBUG]: Running eval on step 24832...\n",
      "[2025-10-23 00:13:29] [DEBUG]: Running eval on step 24832 is done!\n",
      "[2025-10-23 00:13:46] [DEBUG]: Running validation on step 25088...\n",
      "[2025-10-23 00:15:10] [DEBUG]: Running validation on step 25088 is done!\n",
      "[2025-10-23 00:15:10] [DEBUG]: Running eval on step 25088...\n",
      "[2025-10-23 00:16:35] [DEBUG]: Running eval on step 25088 is done!\n",
      "[2025-10-23 00:16:38] [DEBUG]: Start epoch 49\n",
      "[2025-10-23 00:16:50] [DEBUG]: Running validation on step 25344...\n",
      "[2025-10-23 00:18:15] [DEBUG]: Running validation on step 25344 is done!\n",
      "[2025-10-23 00:18:15] [DEBUG]: Running eval on step 25344...\n",
      "[2025-10-23 00:19:40] [DEBUG]: Running eval on step 25344 is done!\n",
      "[2025-10-23 00:19:55] [DEBUG]: Running validation on step 25600...\n",
      "[2025-10-23 00:21:20] [DEBUG]: Running validation on step 25600 is done!\n",
      "[2025-10-23 00:21:20] [DEBUG]: Running eval on step 25600...\n",
      "[2025-10-23 00:22:45] [DEBUG]: Running eval on step 25600 is done!\n"
     ]
    },
    {
     "name": "stdout",
     "output_type": "stream",
     "text": [
      "25600 0.04287384072492669 0.042125720033165656 0.03576082636270765\n"
     ]
    },
    {
     "name": "stderr",
     "output_type": "stream",
     "text": [
      "[2025-10-23 00:22:48] [DEBUG]: Start epoch 50\n",
      "[2025-10-23 00:23:01] [DEBUG]: Running validation on step 25856...\n",
      "[2025-10-23 00:24:25] [DEBUG]: Running validation on step 25856 is done!\n",
      "[2025-10-23 00:24:25] [DEBUG]: Running eval on step 25856...\n",
      "[2025-10-23 00:25:50] [DEBUG]: Running eval on step 25856 is done!\n",
      "[2025-10-23 00:26:07] [DEBUG]: Running validation on step 26112...\n",
      "[2025-10-23 00:27:31] [DEBUG]: Running validation on step 26112 is done!\n",
      "[2025-10-23 00:27:31] [DEBUG]: Running eval on step 26112...\n",
      "[2025-10-23 00:28:56] [DEBUG]: Running eval on step 26112 is done!\n",
      "[2025-10-23 00:28:59] [DEBUG]: Start epoch 51\n",
      "[2025-10-23 00:29:12] [DEBUG]: Running validation on step 26368...\n",
      "[2025-10-23 00:30:37] [DEBUG]: Running validation on step 26368 is done!\n",
      "[2025-10-23 00:30:37] [DEBUG]: Running eval on step 26368...\n",
      "[2025-10-23 00:32:01] [DEBUG]: Running eval on step 26368 is done!\n",
      "[2025-10-23 00:32:17] [DEBUG]: Running validation on step 26624...\n",
      "[2025-10-23 00:33:42] [DEBUG]: Running validation on step 26624 is done!\n",
      "[2025-10-23 00:33:42] [DEBUG]: Running eval on step 26624...\n",
      "[2025-10-23 00:35:06] [DEBUG]: Running eval on step 26624 is done!\n"
     ]
    },
    {
     "name": "stdout",
     "output_type": "stream",
     "text": [
      "26624 0.04308805801315864 0.04287384072492669 0.0357719704063006\n"
     ]
    },
    {
     "name": "stderr",
     "output_type": "stream",
     "text": [
      "[2025-10-23 00:35:10] [DEBUG]: Start epoch 52\n",
      "[2025-10-23 00:35:23] [DEBUG]: Running validation on step 26880...\n",
      "[2025-10-23 00:36:47] [DEBUG]: Running validation on step 26880 is done!\n",
      "[2025-10-23 00:36:47] [DEBUG]: Running eval on step 26880...\n",
      "[2025-10-23 00:38:12] [DEBUG]: Running eval on step 26880 is done!\n",
      "[2025-10-23 00:38:28] [DEBUG]: Running validation on step 27136...\n",
      "[2025-10-23 00:39:53] [DEBUG]: Running validation on step 27136 is done!\n",
      "[2025-10-23 00:39:53] [DEBUG]: Running eval on step 27136...\n",
      "[2025-10-23 00:41:18] [DEBUG]: Running eval on step 27136 is done!\n",
      "[2025-10-23 00:41:21] [DEBUG]: Start epoch 53\n",
      "[2025-10-23 00:41:34] [DEBUG]: Running validation on step 27392...\n",
      "[2025-10-23 00:42:59] [DEBUG]: Running validation on step 27392 is done!\n",
      "[2025-10-23 00:42:59] [DEBUG]: Running eval on step 27392...\n",
      "[2025-10-23 00:44:24] [DEBUG]: Running eval on step 27392 is done!\n",
      "[2025-10-23 00:44:40] [DEBUG]: Running validation on step 27648...\n",
      "[2025-10-23 00:46:05] [DEBUG]: Running validation on step 27648 is done!\n",
      "[2025-10-23 00:46:05] [DEBUG]: Running eval on step 27648...\n",
      "[2025-10-23 00:47:30] [DEBUG]: Running eval on step 27648 is done!\n"
     ]
    },
    {
     "name": "stdout",
     "output_type": "stream",
     "text": [
      "27648 0.04354413939370978 0.04308805801315864 0.036060359827234253\n"
     ]
    },
    {
     "name": "stderr",
     "output_type": "stream",
     "text": [
      "[2025-10-23 00:47:33] [DEBUG]: Start epoch 54\n",
      "[2025-10-23 00:47:45] [DEBUG]: Running validation on step 27904...\n",
      "[2025-10-23 00:49:10] [DEBUG]: Running validation on step 27904 is done!\n",
      "[2025-10-23 00:49:10] [DEBUG]: Running eval on step 27904...\n",
      "[2025-10-23 00:50:35] [DEBUG]: Running eval on step 27904 is done!\n",
      "[2025-10-23 00:50:51] [DEBUG]: Running validation on step 28160...\n",
      "[2025-10-23 00:52:15] [DEBUG]: Running validation on step 28160 is done!\n",
      "[2025-10-23 00:52:15] [DEBUG]: Running eval on step 28160...\n",
      "[2025-10-23 00:53:40] [DEBUG]: Running eval on step 28160 is done!\n",
      "[2025-10-23 00:53:44] [DEBUG]: Start epoch 55\n",
      "[2025-10-23 00:53:56] [DEBUG]: Running validation on step 28416...\n",
      "[2025-10-23 00:55:21] [DEBUG]: Running validation on step 28416 is done!\n",
      "[2025-10-23 00:55:21] [DEBUG]: Running eval on step 28416...\n",
      "[2025-10-23 00:56:46] [DEBUG]: Running eval on step 28416 is done!\n",
      "[2025-10-23 00:57:02] [DEBUG]: Running validation on step 28672...\n",
      "[2025-10-23 00:58:27] [DEBUG]: Running validation on step 28672 is done!\n",
      "[2025-10-23 00:58:27] [DEBUG]: Running eval on step 28672...\n",
      "[2025-10-23 00:59:51] [DEBUG]: Running eval on step 28672 is done!\n",
      "[2025-10-23 00:59:55] [DEBUG]: Start epoch 56\n",
      "[2025-10-23 01:00:08] [DEBUG]: Running validation on step 28928...\n",
      "[2025-10-23 01:01:32] [DEBUG]: Running validation on step 28928 is done!\n",
      "[2025-10-23 01:01:32] [DEBUG]: Running eval on step 28928...\n",
      "[2025-10-23 01:02:57] [DEBUG]: Running eval on step 28928 is done!\n",
      "[2025-10-23 01:03:14] [DEBUG]: Running validation on step 29184...\n",
      "[2025-10-23 01:04:38] [DEBUG]: Running validation on step 29184 is done!\n",
      "[2025-10-23 01:04:38] [DEBUG]: Running eval on step 29184...\n",
      "[2025-10-23 01:06:03] [DEBUG]: Running eval on step 29184 is done!\n"
     ]
    },
    {
     "name": "stdout",
     "output_type": "stream",
     "text": [
      "29184 0.0438056701888969 0.04354413939370978 0.03638365486144422\n"
     ]
    },
    {
     "name": "stderr",
     "output_type": "stream",
     "text": [
      "[2025-10-23 01:06:06] [DEBUG]: Start epoch 57\n",
      "[2025-10-23 01:06:19] [DEBUG]: Running validation on step 29440...\n",
      "[2025-10-23 01:07:44] [DEBUG]: Running validation on step 29440 is done!\n",
      "[2025-10-23 01:07:44] [DEBUG]: Running eval on step 29440...\n",
      "[2025-10-23 01:09:08] [DEBUG]: Running eval on step 29440 is done!\n",
      "[2025-10-23 01:09:24] [DEBUG]: Running validation on step 29696...\n",
      "[2025-10-23 01:10:49] [DEBUG]: Running validation on step 29696 is done!\n",
      "[2025-10-23 01:10:49] [DEBUG]: Running eval on step 29696...\n",
      "[2025-10-23 01:12:14] [DEBUG]: Running eval on step 29696 is done!\n",
      "[2025-10-23 01:12:18] [DEBUG]: Start epoch 58\n",
      "[2025-10-23 01:12:30] [DEBUG]: Running validation on step 29952...\n",
      "[2025-10-23 01:13:55] [DEBUG]: Running validation on step 29952 is done!\n",
      "[2025-10-23 01:13:55] [DEBUG]: Running eval on step 29952...\n",
      "[2025-10-23 01:15:19] [DEBUG]: Running eval on step 29952 is done!\n",
      "[2025-10-23 01:15:36] [DEBUG]: Running validation on step 30208...\n",
      "[2025-10-23 01:17:00] [DEBUG]: Running validation on step 30208 is done!\n",
      "[2025-10-23 01:17:00] [DEBUG]: Running eval on step 30208...\n",
      "[2025-10-23 01:18:25] [DEBUG]: Running eval on step 30208 is done!\n",
      "[2025-10-23 01:18:29] [DEBUG]: Start epoch 59\n",
      "[2025-10-23 01:18:41] [DEBUG]: Running validation on step 30464...\n",
      "[2025-10-23 01:20:06] [DEBUG]: Running validation on step 30464 is done!\n",
      "[2025-10-23 01:20:06] [DEBUG]: Running eval on step 30464...\n",
      "[2025-10-23 01:21:30] [DEBUG]: Running eval on step 30464 is done!\n",
      "[2025-10-23 01:21:47] [DEBUG]: Running validation on step 30720...\n",
      "[2025-10-23 01:23:11] [DEBUG]: Running validation on step 30720 is done!\n",
      "[2025-10-23 01:23:11] [DEBUG]: Running eval on step 30720...\n",
      "[2025-10-23 01:24:36] [DEBUG]: Running eval on step 30720 is done!\n",
      "[2025-10-23 01:24:39] [DEBUG]: Start epoch 60\n",
      "[2025-10-23 01:24:52] [DEBUG]: Running validation on step 30976...\n",
      "[2025-10-23 01:26:16] [DEBUG]: Running validation on step 30976 is done!\n",
      "[2025-10-23 01:26:16] [DEBUG]: Running eval on step 30976...\n",
      "[2025-10-23 01:27:41] [DEBUG]: Running eval on step 30976 is done!\n",
      "[2025-10-23 01:27:57] [DEBUG]: Running validation on step 31232...\n",
      "[2025-10-23 01:29:22] [DEBUG]: Running validation on step 31232 is done!\n",
      "[2025-10-23 01:29:22] [DEBUG]: Running eval on step 31232...\n",
      "[2025-10-23 01:30:47] [DEBUG]: Running eval on step 31232 is done!\n"
     ]
    },
    {
     "name": "stdout",
     "output_type": "stream",
     "text": [
      "31232 0.043964694396986685 0.0438056701888969 0.03656872057285184\n"
     ]
    },
    {
     "name": "stderr",
     "output_type": "stream",
     "text": [
      "[2025-10-23 01:30:51] [DEBUG]: Start epoch 61\n",
      "[2025-10-23 01:31:03] [DEBUG]: Running validation on step 31488...\n",
      "[2025-10-23 01:32:29] [DEBUG]: Running validation on step 31488 is done!\n",
      "[2025-10-23 01:32:29] [DEBUG]: Running eval on step 31488...\n",
      "[2025-10-23 01:33:53] [DEBUG]: Running eval on step 31488 is done!\n"
     ]
    },
    {
     "name": "stdout",
     "output_type": "stream",
     "text": [
      "31488 0.04423937619089606 0.043964694396986685 0.03749283321032886\n"
     ]
    },
    {
     "name": "stderr",
     "output_type": "stream",
     "text": [
      "[2025-10-23 01:34:09] [DEBUG]: Running validation on step 31744...\n",
      "[2025-10-23 01:35:35] [DEBUG]: Running validation on step 31744 is done!\n",
      "[2025-10-23 01:35:35] [DEBUG]: Running eval on step 31744...\n",
      "[2025-10-23 01:36:59] [DEBUG]: Running eval on step 31744 is done!\n"
     ]
    },
    {
     "name": "stdout",
     "output_type": "stream",
     "text": [
      "31744 0.044336327336179183 0.04423937619089606 0.03651775289977412\n"
     ]
    },
    {
     "name": "stderr",
     "output_type": "stream",
     "text": [
      "[2025-10-23 01:37:03] [DEBUG]: Start epoch 62\n",
      "[2025-10-23 01:37:16] [DEBUG]: Running validation on step 32000...\n",
      "[2025-10-23 01:38:41] [DEBUG]: Running validation on step 32000 is done!\n",
      "[2025-10-23 01:38:41] [DEBUG]: Running eval on step 32000...\n",
      "[2025-10-23 01:40:05] [DEBUG]: Running eval on step 32000 is done!\n",
      "[2025-10-23 01:40:21] [DEBUG]: Running validation on step 32256...\n",
      "[2025-10-23 01:41:47] [DEBUG]: Running validation on step 32256 is done!\n",
      "[2025-10-23 01:41:47] [DEBUG]: Running eval on step 32256...\n",
      "[2025-10-23 01:43:13] [DEBUG]: Running eval on step 32256 is done!\n"
     ]
    },
    {
     "name": "stdout",
     "output_type": "stream",
     "text": [
      "32256 0.04478333740646861 0.044336327336179183 0.036848868757429036\n"
     ]
    },
    {
     "name": "stderr",
     "output_type": "stream",
     "text": [
      "[2025-10-23 01:43:17] [DEBUG]: Start epoch 63\n",
      "[2025-10-23 01:43:29] [DEBUG]: Running validation on step 32512...\n",
      "[2025-10-23 01:44:56] [DEBUG]: Running validation on step 32512 is done!\n",
      "[2025-10-23 01:44:56] [DEBUG]: Running eval on step 32512...\n",
      "[2025-10-23 01:46:21] [DEBUG]: Running eval on step 32512 is done!\n",
      "[2025-10-23 01:46:37] [DEBUG]: Running validation on step 32768...\n",
      "[2025-10-23 01:48:03] [DEBUG]: Running validation on step 32768 is done!\n",
      "[2025-10-23 01:48:03] [DEBUG]: Running eval on step 32768...\n",
      "[2025-10-23 01:49:28] [DEBUG]: Running eval on step 32768 is done!\n",
      "[2025-10-23 01:49:32] [DEBUG]: Start epoch 64\n",
      "[2025-10-23 01:49:44] [DEBUG]: Running validation on step 33024...\n",
      "[2025-10-23 01:51:10] [DEBUG]: Running validation on step 33024 is done!\n",
      "[2025-10-23 01:51:10] [DEBUG]: Running eval on step 33024...\n",
      "[2025-10-23 01:52:34] [DEBUG]: Running eval on step 33024 is done!\n",
      "[2025-10-23 01:52:50] [DEBUG]: Running validation on step 33280...\n",
      "[2025-10-23 01:54:15] [DEBUG]: Running validation on step 33280 is done!\n",
      "[2025-10-23 01:54:15] [DEBUG]: Running eval on step 33280...\n",
      "[2025-10-23 01:55:41] [DEBUG]: Running eval on step 33280 is done!\n",
      "[2025-10-23 01:55:45] [DEBUG]: Start epoch 65\n",
      "[2025-10-23 01:55:57] [DEBUG]: Running validation on step 33536...\n",
      "[2025-10-23 01:57:22] [DEBUG]: Running validation on step 33536 is done!\n",
      "[2025-10-23 01:57:22] [DEBUG]: Running eval on step 33536...\n",
      "[2025-10-23 01:58:48] [DEBUG]: Running eval on step 33536 is done!\n",
      "[2025-10-23 01:59:04] [DEBUG]: Running validation on step 33792...\n",
      "[2025-10-23 02:00:30] [DEBUG]: Running validation on step 33792 is done!\n",
      "[2025-10-23 02:00:30] [DEBUG]: Running eval on step 33792...\n",
      "[2025-10-23 02:01:56] [DEBUG]: Running eval on step 33792 is done!\n",
      "[2025-10-23 02:02:00] [DEBUG]: Start epoch 66\n",
      "[2025-10-23 02:02:12] [DEBUG]: Running validation on step 34048...\n",
      "[2025-10-23 02:03:37] [DEBUG]: Running validation on step 34048 is done!\n",
      "[2025-10-23 02:03:37] [DEBUG]: Running eval on step 34048...\n",
      "[2025-10-23 02:05:02] [DEBUG]: Running eval on step 34048 is done!\n",
      "[2025-10-23 02:05:18] [DEBUG]: Running validation on step 34304...\n",
      "[2025-10-23 02:06:43] [DEBUG]: Running validation on step 34304 is done!\n",
      "[2025-10-23 02:06:43] [DEBUG]: Running eval on step 34304...\n",
      "[2025-10-23 02:08:08] [DEBUG]: Running eval on step 34304 is done!\n",
      "[2025-10-23 02:08:12] [DEBUG]: Start epoch 67\n",
      "[2025-10-23 02:08:24] [DEBUG]: Running validation on step 34560...\n",
      "[2025-10-23 02:09:48] [DEBUG]: Running validation on step 34560 is done!\n",
      "[2025-10-23 02:09:48] [DEBUG]: Running eval on step 34560...\n",
      "[2025-10-23 02:11:13] [DEBUG]: Running eval on step 34560 is done!\n",
      "[2025-10-23 02:11:29] [DEBUG]: Running validation on step 34816...\n",
      "[2025-10-23 02:12:54] [DEBUG]: Running validation on step 34816 is done!\n",
      "[2025-10-23 02:12:54] [DEBUG]: Running eval on step 34816...\n",
      "[2025-10-23 02:14:19] [DEBUG]: Running eval on step 34816 is done!\n",
      "[2025-10-23 02:14:24] [DEBUG]: Start epoch 68\n",
      "[2025-10-23 02:14:35] [DEBUG]: Running validation on step 35072...\n",
      "[2025-10-23 02:16:00] [DEBUG]: Running validation on step 35072 is done!\n",
      "[2025-10-23 02:16:00] [DEBUG]: Running eval on step 35072...\n",
      "[2025-10-23 02:17:25] [DEBUG]: Running eval on step 35072 is done!\n",
      "[2025-10-23 02:17:40] [DEBUG]: Running validation on step 35328...\n",
      "[2025-10-23 02:19:05] [DEBUG]: Running validation on step 35328 is done!\n",
      "[2025-10-23 02:19:05] [DEBUG]: Running eval on step 35328...\n",
      "[2025-10-23 02:20:30] [DEBUG]: Running eval on step 35328 is done!\n",
      "[2025-10-23 02:20:34] [DEBUG]: Start epoch 69\n",
      "[2025-10-23 02:20:46] [DEBUG]: Running validation on step 35584...\n",
      "[2025-10-23 02:22:10] [DEBUG]: Running validation on step 35584 is done!\n",
      "[2025-10-23 02:22:10] [DEBUG]: Running eval on step 35584...\n",
      "[2025-10-23 02:23:35] [DEBUG]: Running eval on step 35584 is done!\n",
      "[2025-10-23 02:23:51] [DEBUG]: Running validation on step 35840...\n",
      "[2025-10-23 02:25:16] [DEBUG]: Running validation on step 35840 is done!\n",
      "[2025-10-23 02:25:16] [DEBUG]: Running eval on step 35840...\n",
      "[2025-10-23 02:26:41] [DEBUG]: Running eval on step 35840 is done!\n"
     ]
    },
    {
     "name": "stdout",
     "output_type": "stream",
     "text": [
      "35840 0.04496812475808153 0.04478333740646861 0.037310534353301644\n"
     ]
    },
    {
     "name": "stderr",
     "output_type": "stream",
     "text": [
      "[2025-10-23 02:26:45] [DEBUG]: Start epoch 70\n",
      "[2025-10-23 02:26:57] [DEBUG]: Running validation on step 36096...\n",
      "[2025-10-23 02:28:22] [DEBUG]: Running validation on step 36096 is done!\n",
      "[2025-10-23 02:28:22] [DEBUG]: Running eval on step 36096...\n",
      "[2025-10-23 02:29:46] [DEBUG]: Running eval on step 36096 is done!\n",
      "[2025-10-23 02:30:02] [DEBUG]: Running validation on step 36352...\n",
      "[2025-10-23 02:31:27] [DEBUG]: Running validation on step 36352 is done!\n",
      "[2025-10-23 02:31:27] [DEBUG]: Running eval on step 36352...\n",
      "[2025-10-23 02:32:52] [DEBUG]: Running eval on step 36352 is done!\n",
      "[2025-10-23 02:32:56] [DEBUG]: Start epoch 71\n",
      "[2025-10-23 02:33:08] [DEBUG]: Running validation on step 36608...\n",
      "[2025-10-23 02:34:33] [DEBUG]: Running validation on step 36608 is done!\n",
      "[2025-10-23 02:34:33] [DEBUG]: Running eval on step 36608...\n",
      "[2025-10-23 02:35:57] [DEBUG]: Running eval on step 36608 is done!\n",
      "[2025-10-23 02:36:14] [DEBUG]: Running validation on step 36864...\n",
      "[2025-10-23 02:37:39] [DEBUG]: Running validation on step 36864 is done!\n",
      "[2025-10-23 02:37:39] [DEBUG]: Running eval on step 36864...\n",
      "[2025-10-23 02:39:03] [DEBUG]: Running eval on step 36864 is done!\n",
      "[2025-10-23 02:39:08] [DEBUG]: Start epoch 72\n",
      "[2025-10-23 02:39:20] [DEBUG]: Running validation on step 37120...\n",
      "[2025-10-23 02:40:44] [DEBUG]: Running validation on step 37120 is done!\n",
      "[2025-10-23 02:40:44] [DEBUG]: Running eval on step 37120...\n",
      "[2025-10-23 02:42:09] [DEBUG]: Running eval on step 37120 is done!\n",
      "[2025-10-23 02:42:26] [DEBUG]: Running validation on step 37376...\n",
      "[2025-10-23 02:43:50] [DEBUG]: Running validation on step 37376 is done!\n",
      "[2025-10-23 02:43:50] [DEBUG]: Running eval on step 37376...\n",
      "[2025-10-23 02:45:15] [DEBUG]: Running eval on step 37376 is done!\n",
      "[2025-10-23 02:45:20] [DEBUG]: Start epoch 73\n",
      "[2025-10-23 02:45:31] [DEBUG]: Running validation on step 37632...\n",
      "[2025-10-23 02:46:56] [DEBUG]: Running validation on step 37632 is done!\n",
      "[2025-10-23 02:46:56] [DEBUG]: Running eval on step 37632...\n",
      "[2025-10-23 02:48:21] [DEBUG]: Running eval on step 37632 is done!\n",
      "[2025-10-23 02:48:37] [DEBUG]: Running validation on step 37888...\n",
      "[2025-10-23 02:50:01] [DEBUG]: Running validation on step 37888 is done!\n",
      "[2025-10-23 02:50:01] [DEBUG]: Running eval on step 37888...\n",
      "[2025-10-23 02:51:26] [DEBUG]: Running eval on step 37888 is done!\n",
      "[2025-10-23 02:51:31] [DEBUG]: Start epoch 74\n",
      "[2025-10-23 02:51:43] [DEBUG]: Running validation on step 38144...\n",
      "[2025-10-23 02:53:07] [DEBUG]: Running validation on step 38144 is done!\n",
      "[2025-10-23 02:53:07] [DEBUG]: Running eval on step 38144...\n",
      "[2025-10-23 02:54:32] [DEBUG]: Running eval on step 38144 is done!\n",
      "[2025-10-23 02:54:48] [DEBUG]: Running validation on step 38400...\n",
      "[2025-10-23 02:56:12] [DEBUG]: Running validation on step 38400 is done!\n",
      "[2025-10-23 02:56:12] [DEBUG]: Running eval on step 38400...\n",
      "[2025-10-23 02:57:37] [DEBUG]: Running eval on step 38400 is done!\n",
      "[2025-10-23 02:57:41] [DEBUG]: Start epoch 75\n",
      "[2025-10-23 02:57:53] [DEBUG]: Running validation on step 38656...\n",
      "[2025-10-23 02:59:17] [DEBUG]: Running validation on step 38656 is done!\n",
      "[2025-10-23 02:59:17] [DEBUG]: Running eval on step 38656...\n",
      "[2025-10-23 03:00:42] [DEBUG]: Running eval on step 38656 is done!\n",
      "[2025-10-23 03:00:58] [DEBUG]: Running validation on step 38912...\n",
      "[2025-10-23 03:02:23] [DEBUG]: Running validation on step 38912 is done!\n",
      "[2025-10-23 03:02:23] [DEBUG]: Running eval on step 38912...\n",
      "[2025-10-23 03:03:47] [DEBUG]: Running eval on step 38912 is done!\n",
      "[2025-10-23 03:03:52] [DEBUG]: Start epoch 76\n",
      "[2025-10-23 03:04:03] [DEBUG]: Running validation on step 39168...\n",
      "[2025-10-23 03:05:28] [DEBUG]: Running validation on step 39168 is done!\n",
      "[2025-10-23 03:05:28] [DEBUG]: Running eval on step 39168...\n",
      "[2025-10-23 03:06:53] [DEBUG]: Running eval on step 39168 is done!\n",
      "[2025-10-23 03:07:09] [DEBUG]: Running validation on step 39424...\n",
      "[2025-10-23 03:08:34] [DEBUG]: Running validation on step 39424 is done!\n",
      "[2025-10-23 03:08:34] [DEBUG]: Running eval on step 39424...\n",
      "[2025-10-23 03:09:59] [DEBUG]: Running eval on step 39424 is done!\n",
      "[2025-10-23 03:10:04] [DEBUG]: Start epoch 77\n",
      "[2025-10-23 03:10:15] [DEBUG]: Running validation on step 39680...\n",
      "[2025-10-23 03:11:40] [DEBUG]: Running validation on step 39680 is done!\n",
      "[2025-10-23 03:11:40] [DEBUG]: Running eval on step 39680...\n",
      "[2025-10-23 03:13:04] [DEBUG]: Running eval on step 39680 is done!\n",
      "[2025-10-23 03:13:20] [DEBUG]: Running validation on step 39936...\n",
      "[2025-10-23 03:14:45] [DEBUG]: Running validation on step 39936 is done!\n",
      "[2025-10-23 03:14:45] [DEBUG]: Running eval on step 39936...\n",
      "[2025-10-23 03:16:10] [DEBUG]: Running eval on step 39936 is done!\n",
      "[2025-10-23 03:16:14] [DEBUG]: Start epoch 78\n",
      "[2025-10-23 03:16:26] [DEBUG]: Running validation on step 40192...\n",
      "[2025-10-23 03:17:50] [DEBUG]: Running validation on step 40192 is done!\n",
      "[2025-10-23 03:17:50] [DEBUG]: Running eval on step 40192...\n",
      "[2025-10-23 03:19:15] [DEBUG]: Running eval on step 40192 is done!\n",
      "[2025-10-23 03:19:31] [DEBUG]: Running validation on step 40448...\n",
      "[2025-10-23 03:20:55] [DEBUG]: Running validation on step 40448 is done!\n",
      "[2025-10-23 03:20:55] [DEBUG]: Running eval on step 40448...\n",
      "[2025-10-23 03:22:20] [DEBUG]: Running eval on step 40448 is done!\n",
      "[2025-10-23 03:22:25] [DEBUG]: Start epoch 79\n",
      "[2025-10-23 03:22:36] [DEBUG]: Running validation on step 40704...\n",
      "[2025-10-23 03:24:01] [DEBUG]: Running validation on step 40704 is done!\n",
      "[2025-10-23 03:24:01] [DEBUG]: Running eval on step 40704...\n",
      "[2025-10-23 03:25:25] [DEBUG]: Running eval on step 40704 is done!\n",
      "[2025-10-23 03:25:41] [DEBUG]: Running validation on step 40960...\n",
      "[2025-10-23 03:27:05] [DEBUG]: Running validation on step 40960 is done!\n",
      "[2025-10-23 03:27:05] [DEBUG]: Running eval on step 40960...\n",
      "[2025-10-23 03:28:30] [DEBUG]: Running eval on step 40960 is done!\n",
      "[2025-10-23 03:28:35] [DEBUG]: Start epoch 80\n",
      "[2025-10-23 03:28:46] [DEBUG]: Running validation on step 41216...\n",
      "[2025-10-23 03:30:11] [DEBUG]: Running validation on step 41216 is done!\n",
      "[2025-10-23 03:30:11] [DEBUG]: Running eval on step 41216...\n",
      "[2025-10-23 03:31:35] [DEBUG]: Running eval on step 41216 is done!\n",
      "[2025-10-23 03:31:51] [DEBUG]: Running validation on step 41472...\n",
      "[2025-10-23 03:33:16] [DEBUG]: Running validation on step 41472 is done!\n",
      "[2025-10-23 03:33:16] [DEBUG]: Running eval on step 41472...\n",
      "[2025-10-23 03:34:40] [DEBUG]: Running eval on step 41472 is done!\n"
     ]
    },
    {
     "name": "stdout",
     "output_type": "stream",
     "text": [
      "41472 0.044995579894708565 0.04496812475808153 0.03743575996919325\n"
     ]
    },
    {
     "name": "stderr",
     "output_type": "stream",
     "text": [
      "[2025-10-23 03:34:45] [DEBUG]: Start epoch 81\n",
      "[2025-10-23 03:34:56] [DEBUG]: Running validation on step 41728...\n",
      "[2025-10-23 03:36:21] [DEBUG]: Running validation on step 41728 is done!\n",
      "[2025-10-23 03:36:21] [DEBUG]: Running eval on step 41728...\n",
      "[2025-10-23 03:37:45] [DEBUG]: Running eval on step 41728 is done!\n",
      "[2025-10-23 03:38:01] [DEBUG]: Running validation on step 41984...\n",
      "[2025-10-23 03:39:25] [DEBUG]: Running validation on step 41984 is done!\n",
      "[2025-10-23 03:39:25] [DEBUG]: Running eval on step 41984...\n",
      "[2025-10-23 03:40:50] [DEBUG]: Running eval on step 41984 is done!\n"
     ]
    },
    {
     "name": "stdout",
     "output_type": "stream",
     "text": [
      "41984 0.045099217575425746 0.044995579894708565 0.03675442593407824\n"
     ]
    },
    {
     "name": "stderr",
     "output_type": "stream",
     "text": [
      "[2025-10-23 03:40:55] [DEBUG]: Start epoch 82\n",
      "[2025-10-23 03:41:06] [DEBUG]: Running validation on step 42240...\n",
      "[2025-10-23 03:42:30] [DEBUG]: Running validation on step 42240 is done!\n",
      "[2025-10-23 03:42:30] [DEBUG]: Running eval on step 42240...\n",
      "[2025-10-23 03:43:55] [DEBUG]: Running eval on step 42240 is done!\n",
      "[2025-10-23 03:44:11] [DEBUG]: Running validation on step 42496...\n",
      "[2025-10-23 05:04:26] [DEBUG]: Running eval on step 48896 is done!\n",
      "[2025-10-23 05:04:42] [DEBUG]: Running validation on step 49152...\n",
      "[2025-10-23 05:06:07] [DEBUG]: Running validation on step 49152 is done!\n",
      "[2025-10-23 05:06:07] [DEBUG]: Running eval on step 49152...\n",
      "[2025-10-23 05:07:32] [DEBUG]: Running eval on step 49152 is done!\n",
      "[2025-10-23 05:07:38] [DEBUG]: Start epoch 96\n",
      "[2025-10-23 05:07:49] [DEBUG]: Running validation on step 49408...\n",
      "[2025-10-23 05:09:14] [DEBUG]: Running validation on step 49408 is done!\n",
      "[2025-10-23 05:09:14] [DEBUG]: Running eval on step 49408...\n",
      "[2025-10-23 05:10:38] [DEBUG]: Running eval on step 49408 is done!\n",
      "[2025-10-23 05:10:55] [DEBUG]: Running validation on step 49664...\n",
      "[2025-10-23 05:12:20] [DEBUG]: Running validation on step 49664 is done!\n",
      "[2025-10-23 05:12:20] [DEBUG]: Running eval on step 49664...\n",
      "[2025-10-23 05:13:44] [DEBUG]: Running eval on step 49664 is done!\n",
      "[2025-10-23 05:13:50] [DEBUG]: Start epoch 97\n",
      "[2025-10-23 05:14:01] [DEBUG]: Running validation on step 49920...\n",
      "[2025-10-23 05:15:25] [DEBUG]: Running validation on step 49920 is done!\n",
      "[2025-10-23 05:15:25] [DEBUG]: Running eval on step 49920...\n",
      "[2025-10-23 05:16:50] [DEBUG]: Running eval on step 49920 is done!\n",
      "[2025-10-23 05:17:06] [DEBUG]: Running validation on step 50176...\n",
      "[2025-10-23 05:18:31] [DEBUG]: Running validation on step 50176 is done!\n",
      "[2025-10-23 05:18:31] [DEBUG]: Running eval on step 50176...\n",
      "[2025-10-23 05:19:56] [DEBUG]: Running eval on step 50176 is done!\n",
      "[2025-10-23 05:20:02] [DEBUG]: Start epoch 98\n",
      "[2025-10-23 05:20:13] [DEBUG]: Running validation on step 50432...\n",
      "[2025-10-23 05:21:38] [DEBUG]: Running validation on step 50432 is done!\n",
      "[2025-10-23 05:21:38] [DEBUG]: Running eval on step 50432...\n",
      "[2025-10-23 05:23:03] [DEBUG]: Running eval on step 50432 is done!\n",
      "[2025-10-23 05:23:19] [DEBUG]: Running validation on step 50688...\n",
      "[2025-10-23 05:24:44] [DEBUG]: Running validation on step 50688 is done!\n",
      "[2025-10-23 05:24:44] [DEBUG]: Running eval on step 50688...\n",
      "[2025-10-23 05:26:09] [DEBUG]: Running eval on step 50688 is done!\n",
      "[2025-10-23 05:26:15] [DEBUG]: Start epoch 99\n",
      "[2025-10-23 05:26:25] [DEBUG]: Running validation on step 50944...\n",
      "[2025-10-23 05:27:50] [DEBUG]: Running validation on step 50944 is done!\n",
      "[2025-10-23 05:27:50] [DEBUG]: Running eval on step 50944...\n",
      "[2025-10-23 05:29:15] [DEBUG]: Running eval on step 50944 is done!\n",
      "[2025-10-23 05:29:31] [DEBUG]: Running validation on step 51200...\n",
      "[2025-10-23 05:30:56] [DEBUG]: Running validation on step 51200 is done!\n",
      "[2025-10-23 05:30:56] [DEBUG]: Running eval on step 51200...\n",
      "[2025-10-23 05:32:20] [DEBUG]: Running eval on step 51200 is done!\n",
      "[2025-10-23 05:32:26] [DEBUG]: Start epoch 100\n",
      "[2025-10-23 05:32:36] [DEBUG]: Running validation on step 51456...\n",
      "[2025-10-23 05:34:01] [DEBUG]: Running validation on step 51456 is done!\n",
      "[2025-10-23 05:34:01] [DEBUG]: Running eval on step 51456...\n",
      "[2025-10-23 05:35:25] [DEBUG]: Running eval on step 51456 is done!\n",
      "[2025-10-23 05:35:41] [DEBUG]: Running validation on step 51712...\n",
      "[2025-10-23 05:37:06] [DEBUG]: Running validation on step 51712 is done!\n",
      "[2025-10-23 05:37:06] [DEBUG]: Running eval on step 51712...\n",
      "[2025-10-23 05:38:31] [DEBUG]: Running eval on step 51712 is done!\n",
      "[2025-10-23 05:38:37] [DEBUG]: Start epoch 101\n",
      "[2025-10-23 05:38:47] [DEBUG]: Running validation on step 51968...\n",
      "[2025-10-23 05:40:12] [DEBUG]: Running validation on step 51968 is done!\n",
      "[2025-10-23 05:40:12] [DEBUG]: Running eval on step 51968...\n",
      "[2025-10-23 05:41:36] [DEBUG]: Running eval on step 51968 is done!\n",
      "[2025-10-23 05:41:53] [DEBUG]: Running validation on step 52224...\n",
      "[2025-10-23 05:43:17] [DEBUG]: Running validation on step 52224 is done!\n",
      "[2025-10-23 05:43:17] [DEBUG]: Running eval on step 52224...\n",
      "[2025-10-23 05:44:42] [DEBUG]: Running eval on step 52224 is done!\n",
      "[2025-10-23 05:44:48] [DEBUG]: Start epoch 102\n",
      "[2025-10-23 05:44:58] [DEBUG]: Running validation on step 52480...\n",
      "[2025-10-23 05:46:23] [DEBUG]: Running validation on step 52480 is done!\n",
      "[2025-10-23 05:46:23] [DEBUG]: Running eval on step 52480...\n",
      "[2025-10-23 05:47:48] [DEBUG]: Running eval on step 52480 is done!\n",
      "[2025-10-23 05:48:04] [DEBUG]: Running validation on step 52736...\n",
      "[2025-10-23 05:49:29] [DEBUG]: Running validation on step 52736 is done!\n",
      "[2025-10-23 05:49:29] [DEBUG]: Running eval on step 52736...\n",
      "[2025-10-23 05:50:53] [DEBUG]: Running eval on step 52736 is done!\n",
      "[2025-10-23 05:51:00] [DEBUG]: Start epoch 103\n",
      "[2025-10-23 05:51:10] [DEBUG]: Running validation on step 52992...\n",
      "[2025-10-23 05:52:34] [DEBUG]: Running validation on step 52992 is done!\n",
      "[2025-10-23 05:52:34] [DEBUG]: Running eval on step 52992...\n",
      "[2025-10-23 05:53:59] [DEBUG]: Running eval on step 52992 is done!\n",
      "[2025-10-23 05:54:15] [DEBUG]: Running validation on step 53248...\n",
      "[2025-10-23 05:55:40] [DEBUG]: Running validation on step 53248 is done!\n",
      "[2025-10-23 05:55:40] [DEBUG]: Running eval on step 53248...\n",
      "[2025-10-23 05:57:05] [DEBUG]: Running eval on step 53248 is done!\n",
      "[2025-10-23 05:57:11] [DEBUG]: Start epoch 104\n",
      "[2025-10-23 05:57:21] [DEBUG]: Running validation on step 53504...\n",
      "[2025-10-23 05:58:46] [DEBUG]: Running validation on step 53504 is done!\n",
      "[2025-10-23 05:58:46] [DEBUG]: Running eval on step 53504...\n",
      "[2025-10-23 06:00:11] [DEBUG]: Running eval on step 53504 is done!\n",
      "[2025-10-23 06:00:27] [DEBUG]: Running validation on step 53760...\n",
      "[2025-10-23 06:01:52] [DEBUG]: Running validation on step 53760 is done!\n",
      "[2025-10-23 06:01:52] [DEBUG]: Running eval on step 53760...\n",
      "[2025-10-23 06:32:52] [DEBUG]: Running validation on step 56320 is done!\n",
      "[2025-10-23 06:32:52] [DEBUG]: Running eval on step 56320...\n",
      "[2025-10-23 06:34:17] [DEBUG]: Running eval on step 56320 is done!\n",
      "[2025-10-23 06:34:24] [DEBUG]: Start epoch 110\n",
      "[2025-10-23 06:34:33] [DEBUG]: Running validation on step 56576...\n",
      "[2025-10-23 06:35:58] [DEBUG]: Running validation on step 56576 is done!\n",
      "[2025-10-23 06:35:58] [DEBUG]: Running eval on step 56576...\n",
      "[2025-10-23 06:37:23] [DEBUG]: Running eval on step 56576 is done!\n",
      "[2025-10-23 06:37:39] [DEBUG]: Running validation on step 56832...\n",
      "[2025-10-23 06:39:04] [DEBUG]: Running validation on step 56832 is done!\n",
      "[2025-10-23 06:39:04] [DEBUG]: Running eval on step 56832...\n",
      "[2025-10-23 06:40:29] [DEBUG]: Running eval on step 56832 is done!\n",
      "[2025-10-23 06:40:36] [DEBUG]: Start epoch 111\n",
      "[2025-10-23 06:40:45] [DEBUG]: Running validation on step 57088...\n",
      "[2025-10-23 06:42:10] [DEBUG]: Running validation on step 57088 is done!\n",
      "[2025-10-23 06:42:10] [DEBUG]: Running eval on step 57088...\n",
      "[2025-10-23 06:43:35] [DEBUG]: Running eval on step 57088 is done!\n",
      "[2025-10-23 06:43:51] [DEBUG]: Running validation on step 57344...\n",
      "[2025-10-23 06:45:16] [DEBUG]: Running validation on step 57344 is done!\n",
      "[2025-10-23 06:45:16] [DEBUG]: Running eval on step 57344...\n",
      "[2025-10-23 06:46:41] [DEBUG]: Running eval on step 57344 is done!\n",
      "[2025-10-23 06:46:48] [DEBUG]: Start epoch 112\n",
      "[2025-10-23 06:46:57] [DEBUG]: Running validation on step 57600...\n",
      "[2025-10-23 06:48:22] [DEBUG]: Running validation on step 57600 is done!\n",
      "[2025-10-23 06:48:22] [DEBUG]: Running eval on step 57600...\n",
      "[2025-10-23 06:49:47] [DEBUG]: Running eval on step 57600 is done!\n",
      "[2025-10-23 06:50:03] [DEBUG]: Running validation on step 57856...\n",
      "[2025-10-23 06:51:28] [DEBUG]: Running validation on step 57856 is done!\n",
      "[2025-10-23 06:51:28] [DEBUG]: Running eval on step 57856...\n",
      "[2025-10-23 06:52:53] [DEBUG]: Running eval on step 57856 is done!\n",
      "[2025-10-23 06:53:00] [DEBUG]: Start epoch 113\n",
      "[2025-10-23 06:53:09] [DEBUG]: Running validation on step 58112...\n",
      "[2025-10-23 06:54:34] [DEBUG]: Running validation on step 58112 is done!\n",
      "[2025-10-23 06:54:34] [DEBUG]: Running eval on step 58112...\n",
      "[2025-10-23 06:55:59] [DEBUG]: Running eval on step 58112 is done!\n",
      "[2025-10-23 06:56:15] [DEBUG]: Running validation on step 58368...\n",
      "[2025-10-23 06:57:40] [DEBUG]: Running validation on step 58368 is done!\n",
      "[2025-10-23 06:57:40] [DEBUG]: Running eval on step 58368...\n",
      "[2025-10-23 06:59:05] [DEBUG]: Running eval on step 58368 is done!\n",
      "[2025-10-23 06:59:12] [DEBUG]: Start epoch 114\n",
      "[2025-10-23 06:59:21] [DEBUG]: Running validation on step 58624...\n",
      "[2025-10-23 07:00:45] [DEBUG]: Running validation on step 58624 is done!\n",
      "[2025-10-23 07:00:45] [DEBUG]: Running eval on step 58624...\n",
      "[2025-10-23 07:02:10] [DEBUG]: Running eval on step 58624 is done!\n",
      "[2025-10-23 07:02:27] [DEBUG]: Running validation on step 58880...\n",
      "[2025-10-23 07:03:51] [DEBUG]: Running validation on step 58880 is done!\n",
      "[2025-10-23 07:03:51] [DEBUG]: Running eval on step 58880...\n",
      "[2025-10-23 07:05:16] [DEBUG]: Running eval on step 58880 is done!\n",
      "[2025-10-23 07:05:24] [DEBUG]: Start epoch 115\n",
      "[2025-10-23 07:05:33] [DEBUG]: Running validation on step 59136...\n",
      "[2025-10-23 07:06:57] [DEBUG]: Running validation on step 59136 is done!\n",
      "[2025-10-23 07:06:57] [DEBUG]: Running eval on step 59136...\n",
      "[2025-10-23 07:08:22] [DEBUG]: Running eval on step 59136 is done!\n",
      "[2025-10-23 07:08:39] [DEBUG]: Running validation on step 59392...\n",
      "[2025-10-23 07:10:04] [DEBUG]: Running validation on step 59392 is done!\n",
      "[2025-10-23 07:10:04] [DEBUG]: Running eval on step 59392...\n",
      "[2025-10-23 07:11:28] [DEBUG]: Running eval on step 59392 is done!\n",
      "[2025-10-23 07:11:36] [DEBUG]: Start epoch 116\n",
      "[2025-10-23 07:11:45] [DEBUG]: Running validation on step 59648...\n",
      "[2025-10-23 07:13:10] [DEBUG]: Running validation on step 59648 is done!\n",
      "[2025-10-23 07:13:10] [DEBUG]: Running eval on step 59648...\n",
      "[2025-10-23 07:14:35] [DEBUG]: Running eval on step 59648 is done!\n",
      "[2025-10-23 07:14:52] [DEBUG]: Running validation on step 59904...\n",
      "[2025-10-23 07:16:16] [DEBUG]: Running validation on step 59904 is done!\n",
      "[2025-10-23 07:16:16] [DEBUG]: Running eval on step 59904...\n",
      "[2025-10-23 07:17:41] [DEBUG]: Running eval on step 59904 is done!\n",
      "[2025-10-23 07:17:49] [DEBUG]: Start epoch 117\n",
      "[2025-10-23 07:17:58] [DEBUG]: Running validation on step 60160...\n",
      "[2025-10-23 07:19:22] [DEBUG]: Running validation on step 60160 is done!\n",
      "[2025-10-23 07:19:22] [DEBUG]: Running eval on step 60160...\n",
      "[2025-10-23 07:20:47] [DEBUG]: Running eval on step 60160 is done!\n",
      "[2025-10-23 07:21:04] [DEBUG]: Running validation on step 60416...\n",
      "[2025-10-23 07:22:29] [DEBUG]: Running validation on step 60416 is done!\n",
      "[2025-10-23 07:22:29] [DEBUG]: Running eval on step 60416...\n",
      "[2025-10-23 07:23:54] [DEBUG]: Running eval on step 60416 is done!\n",
      "[2025-10-23 07:24:02] [DEBUG]: Start epoch 118\n",
      "[2025-10-23 07:24:11] [DEBUG]: Running validation on step 60672...\n",
      "[2025-10-23 07:25:36] [DEBUG]: Running validation on step 60672 is done!\n",
      "[2025-10-23 07:25:36] [DEBUG]: Running eval on step 60672...\n",
      "[2025-10-23 07:27:01] [DEBUG]: Running eval on step 60672 is done!\n",
      "[2025-10-23 07:27:17] [DEBUG]: Running validation on step 60928...\n",
      "[2025-10-23 07:28:42] [DEBUG]: Running validation on step 60928 is done!\n",
      "[2025-10-23 07:28:42] [DEBUG]: Running eval on step 60928...\n"
     ]
    }
   ],
   "source": [
    "best_checkpoint = trainer.train()\n",
    "trainer.save()\n",
    "\n",
    "print('Training finished!')"
   ]
  },
  {
   "cell_type": "code",
   "execution_count": null,
   "id": "9561ecfe-e7fe-4995-b190-46ca2f916a49",
   "metadata": {},
   "outputs": [],
   "source": [
    "print('Final evaluation is being performed...')\n",
    "\n",
    "trainer.load(best_checkpoint)\n",
    "trainer.eval()"
   ]
  },
  {
   "cell_type": "markdown",
   "id": "ac5cb951-345d-4a67-9046-1d5bfeae0d34",
   "metadata": {},
   "source": [
    "Eval from file checkpoint"
   ]
  },
  {
   "cell_type": "code",
   "execution_count": 16,
   "id": "217fd8b9-051d-4d9d-b28a-0898f9316d29",
   "metadata": {
    "execution": {
     "iopub.execute_input": "2025-10-25T10:24:57.267651Z",
     "iopub.status.busy": "2025-10-25T10:24:57.266842Z",
     "iopub.status.idle": "2025-10-25T10:26:24.854328Z",
     "shell.execute_reply": "2025-10-25T10:26:24.853711Z",
     "shell.execute_reply.started": "2025-10-25T10:24:57.267632Z"
    },
    "tags": []
   },
   "outputs": [
    {
     "name": "stderr",
     "output_type": "stream",
     "text": [
      "/tmp/ipykernel_22802/3603050627.py:4: FutureWarning: You are using `torch.load` with `weights_only=False` (the current default value), which uses the default pickle module implicitly. It is possible to construct malicious pickle data which will execute arbitrary code during unpickling (See https://github.com/pytorch/pytorch/blob/main/SECURITY.md#untrusted-models for more details). In a future release, the default value for `weights_only` will be flipped to `True`. This limits the functions that could be executed during unpickling. Arbitrary objects will no longer be allowed to be loaded via this mode unless they are explicitly allowlisted by the user via `torch.serialization.add_safe_globals`. We recommend you start setting `weights_only=True` for any use case where you don't have full control of the loaded file. Please open an issue on GitHub for any issues related to this experimental feature.\n",
      "  state_dict = torch.load(checkpoint_path, map_location=utils.DEVICE)\n",
      "[2025-10-25 10:24:57] [DEBUG]: Running eval on step 0...\n",
      "[2025-10-25 10:26:24] [DEBUG]: Running eval on step 0 is done!\n"
     ]
    },
    {
     "name": "stdout",
     "output_type": "stream",
     "text": [
      "ndcg@5 0.021149322296603656\n",
      "ndcg@10 0.02683170030711189\n",
      "ndcg@20 0.033459869621238515\n",
      "recall@5 0.03228547153780799\n",
      "recall@10 0.04999329249206278\n",
      "recall@20 0.07642087376470062\n"
     ]
    }
   ],
   "source": [
    "from pathlib import Path\n",
    "\n",
    "checkpoint_path = Path(f\"../checkpoints/{config['experiment_name']}_final_state.pth\")\n",
    "state_dict = torch.load(checkpoint_path, map_location=utils.DEVICE)\n",
    "\n",
    "trainer.load(state_dict)\n",
    "trainer.eval()"
   ]
  },
  {
   "cell_type": "code",
   "execution_count": null,
   "id": "a491be15-d4da-4500-839e-aca5101ccf7c",
   "metadata": {},
   "outputs": [],
   "source": []
  }
 ],
 "metadata": {
  "kernelspec": {
   "display_name": "DataSphere Kernel",
   "language": "python",
   "name": "python3"
  },
  "language_info": {
   "codemirror_mode": {
    "name": "ipython",
    "version": 3
   },
   "file_extension": ".py",
   "mimetype": "text/x-python",
   "name": "python",
   "nbconvert_exporter": "python",
   "pygments_lexer": "ipython3",
   "version": "3.10.12"
  }
 },
 "nbformat": 4,
 "nbformat_minor": 5
}
