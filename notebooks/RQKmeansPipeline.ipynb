{
 "cells": [
  {
   "cell_type": "code",
   "execution_count": 1,
   "id": "06a20f53-b612-47c3-a812-8045a5208aee",
   "metadata": {
    "execution": {
     "iopub.execute_input": "2025-10-27T07:20:59.815063Z",
     "iopub.status.busy": "2025-10-27T07:20:59.814126Z",
     "iopub.status.idle": "2025-10-27T07:21:04.119942Z",
     "shell.execute_reply": "2025-10-27T07:21:04.118933Z",
     "shell.execute_reply.started": "2025-10-27T07:20:59.815022Z"
    },
    "tags": []
   },
   "outputs": [
    {
     "name": "stdout",
     "output_type": "stream",
     "text": [
      "Defaulting to user installation because normal site-packages is not writeable\n",
      "Requirement already satisfied: scikit-learn==1.7.2 in /home/jupyter/.local/lib/python3.11/site-packages (1.7.2)\n",
      "Requirement already satisfied: numpy>=1.22.0 in /home/jupyter/.local/lib/python3.11/site-packages (from scikit-learn==1.7.2) (2.3.3)\n",
      "Requirement already satisfied: scipy>=1.8.0 in /home/jupyter/.local/lib/python3.11/site-packages (from scikit-learn==1.7.2) (1.16.2)\n",
      "Requirement already satisfied: joblib>=1.2.0 in /home/jupyter/.local/lib/python3.11/site-packages (from scikit-learn==1.7.2) (1.5.2)\n",
      "Requirement already satisfied: threadpoolctl>=3.1.0 in /home/jupyter/.local/lib/python3.11/site-packages (from scikit-learn==1.7.2) (3.6.0)\n",
      "\n",
      "\u001b[1m[\u001b[0m\u001b[34;49mnotice\u001b[0m\u001b[1;39;49m]\u001b[0m\u001b[39;49m A new release of pip is available: \u001b[0m\u001b[31;49m24.0\u001b[0m\u001b[39;49m -> \u001b[0m\u001b[32;49m25.3\u001b[0m\n",
      "\u001b[1m[\u001b[0m\u001b[34;49mnotice\u001b[0m\u001b[1;39;49m]\u001b[0m\u001b[39;49m To update, run: \u001b[0m\u001b[32;49mpython3 -m pip install --upgrade pip\u001b[0m\n"
     ]
    }
   ],
   "source": [
    "%pip install scikit-learn==1.7.2"
   ]
  },
  {
   "cell_type": "code",
   "execution_count": 2,
   "id": "0ec4d136",
   "metadata": {
    "execution": {
     "iopub.execute_input": "2025-10-27T07:21:09.080484Z",
     "iopub.status.busy": "2025-10-27T07:21:09.079373Z",
     "iopub.status.idle": "2025-10-27T07:21:19.511563Z",
     "shell.execute_reply": "2025-10-27T07:21:19.510652Z",
     "shell.execute_reply.started": "2025-10-27T07:21:09.080438Z"
    },
    "tags": []
   },
   "outputs": [],
   "source": [
    "from collections import defaultdict\n",
    "\n",
    "import numpy as np\n",
    "import json\n",
    "import pickle\n",
    "\n",
    "from sklearn.cluster import KMeans"
   ]
  },
  {
   "cell_type": "code",
   "execution_count": 3,
   "id": "04fe6794",
   "metadata": {
    "execution": {
     "iopub.execute_input": "2025-10-27T07:21:19.513974Z",
     "iopub.status.busy": "2025-10-27T07:21:19.512773Z",
     "iopub.status.idle": "2025-10-27T07:21:19.529832Z",
     "shell.execute_reply": "2025-10-27T07:21:19.528925Z",
     "shell.execute_reply.started": "2025-10-27T07:21:19.513921Z"
    },
    "tags": []
   },
   "outputs": [],
   "source": [
    "# embeddings_input_path = '../data/Beauty/content_embeddings.pkl'\n",
    "# semantic_index_output_path = '../data/Beauty/index_rqkmeans.json'\n",
    "\n",
    "embeddings_input_path = '../data/Beauty/tuned_content_embeddings.pkl'\n",
    "semantic_index_output_path = '../data/Beauty/tuned_index_rqkmeans.json'"
   ]
  },
  {
   "cell_type": "code",
   "execution_count": 4,
   "id": "d0480959-9d3c-4a61-af5b-86dd9d86b871",
   "metadata": {
    "execution": {
     "iopub.execute_input": "2025-10-27T07:21:20.726846Z",
     "iopub.status.busy": "2025-10-27T07:21:20.725898Z",
     "iopub.status.idle": "2025-10-27T07:21:20.755036Z",
     "shell.execute_reply": "2025-10-27T07:21:20.754145Z",
     "shell.execute_reply.started": "2025-10-27T07:21:20.726808Z"
    },
    "tags": []
   },
   "outputs": [
    {
     "name": "stdout",
     "output_type": "stream",
     "text": [
      "446333898\n"
     ]
    }
   ],
   "source": [
    "import os\n",
    "print(os.path.getsize(embeddings_input_path))"
   ]
  },
  {
   "cell_type": "code",
   "execution_count": 5,
   "id": "41927d85",
   "metadata": {
    "execution": {
     "iopub.execute_input": "2025-10-27T07:21:22.578059Z",
     "iopub.status.busy": "2025-10-27T07:21:22.576961Z",
     "iopub.status.idle": "2025-10-27T07:21:40.818881Z",
     "shell.execute_reply": "2025-10-27T07:21:40.818087Z",
     "shell.execute_reply.started": "2025-10-27T07:21:22.578015Z"
    },
    "tags": []
   },
   "outputs": [],
   "source": [
    "with open(embeddings_input_path, 'rb') as f:\n",
    "    data = pickle.load(f)\n",
    "\n",
    "item_ids = np.array(data['item_id'], dtype=np.int64)\n",
    "X = np.array(data['embedding'], dtype=np.float32)"
   ]
  },
  {
   "cell_type": "code",
   "execution_count": 6,
   "id": "0c6bed82",
   "metadata": {
    "execution": {
     "iopub.execute_input": "2025-10-27T07:21:40.821174Z",
     "iopub.status.busy": "2025-10-27T07:21:40.820063Z",
     "iopub.status.idle": "2025-10-27T07:21:40.853474Z",
     "shell.execute_reply": "2025-10-27T07:21:40.852559Z",
     "shell.execute_reply.started": "2025-10-27T07:21:40.821132Z"
    },
    "tags": []
   },
   "outputs": [],
   "source": [
    "class RQKMeans:\n",
    "    def __init__(\n",
    "            self, \n",
    "            num_clusters, \n",
    "            num_codebooks, \n",
    "            init='k-means++', \n",
    "            max_iter=300, \n",
    "            tol=1e-4, \n",
    "            verbose=0, \n",
    "            random_state=42\n",
    "    ):\n",
    "        self.models = [\n",
    "            KMeans(\n",
    "                n_clusters=num_clusters,\n",
    "                init=init,\n",
    "                max_iter=max_iter,\n",
    "                tol=tol,\n",
    "                verbose=verbose,\n",
    "                random_state=random_state + i,\n",
    "            ) for i in range(num_codebooks)\n",
    "        ]\n",
    "\n",
    "    def fit(self, X, y=None):\n",
    "        for model in self.models:\n",
    "            y = model.fit_predict(X)\n",
    "            X = X - model.cluster_centers_[y]\n",
    "        return self\n",
    "\n",
    "    def predict(self, X):\n",
    "        result = []\n",
    "        centroids = []\n",
    "        for model in self.models:\n",
    "            result.append(model.predict(X))\n",
    "            centroids.append(model.cluster_centers_[result[-1]])\n",
    "            X = X - centroids[-1]\n",
    "        return np.stack(result, axis=-1)"
   ]
  },
  {
   "cell_type": "code",
   "execution_count": 7,
   "id": "6a72920c",
   "metadata": {
    "execution": {
     "iopub.execute_input": "2025-10-27T07:21:46.917485Z",
     "iopub.status.busy": "2025-10-27T07:21:46.916537Z",
     "iopub.status.idle": "2025-10-27T07:21:46.936276Z",
     "shell.execute_reply": "2025-10-27T07:21:46.935302Z",
     "shell.execute_reply.started": "2025-10-27T07:21:46.917446Z"
    },
    "tags": []
   },
   "outputs": [],
   "source": [
    "rq_kmeans = RQKMeans(num_clusters=256, num_codebooks=3, max_iter=1000)"
   ]
  },
  {
   "cell_type": "code",
   "execution_count": 8,
   "id": "c6eda38c",
   "metadata": {
    "execution": {
     "iopub.execute_input": "2025-10-27T07:21:47.547884Z",
     "iopub.status.busy": "2025-10-27T07:21:47.546930Z",
     "iopub.status.idle": "2025-10-27T07:23:52.552324Z",
     "shell.execute_reply": "2025-10-27T07:23:52.551341Z",
     "shell.execute_reply.started": "2025-10-27T07:21:47.547846Z"
    },
    "tags": []
   },
   "outputs": [
    {
     "data": {
      "text/plain": [
       "<__main__.RQKMeans at 0x7f723f55e950>"
      ]
     },
     "execution_count": 8,
     "metadata": {},
     "output_type": "execute_result"
    }
   ],
   "source": [
    "rq_kmeans.fit(X)"
   ]
  },
  {
   "cell_type": "code",
   "execution_count": 9,
   "id": "aec1bb9e",
   "metadata": {
    "execution": {
     "iopub.execute_input": "2025-10-27T07:23:52.555396Z",
     "iopub.status.busy": "2025-10-27T07:23:52.554064Z",
     "iopub.status.idle": "2025-10-27T07:23:53.538937Z",
     "shell.execute_reply": "2025-10-27T07:23:53.538151Z",
     "shell.execute_reply.started": "2025-10-27T07:23:52.555347Z"
    },
    "tags": []
   },
   "outputs": [],
   "source": [
    "clusters = rq_kmeans.predict(X)"
   ]
  },
  {
   "cell_type": "code",
   "execution_count": 11,
   "id": "7bc3c7d3-44f3-46c0-91ec-508acebb836b",
   "metadata": {
    "execution": {
     "iopub.execute_input": "2025-10-27T07:24:38.393472Z",
     "iopub.status.busy": "2025-10-27T07:24:38.392453Z",
     "iopub.status.idle": "2025-10-27T07:24:38.415899Z",
     "shell.execute_reply": "2025-10-27T07:24:38.414976Z",
     "shell.execute_reply.started": "2025-10-27T07:24:38.393440Z"
    },
    "tags": []
   },
   "outputs": [
    {
     "data": {
      "text/plain": [
       "array([[243,  23,  64],\n",
       "       [ 56,  70, 103],\n",
       "       [  7,  16, 199],\n",
       "       [  7,  29, 178],\n",
       "       [ 43, 216,  90],\n",
       "       [ 68,  60,   2],\n",
       "       [161,  82, 120],\n",
       "       [161, 128,   7],\n",
       "       [233, 137, 240],\n",
       "       [233,  71, 120]], dtype=int32)"
      ]
     },
     "execution_count": 11,
     "metadata": {},
     "output_type": "execute_result"
    }
   ],
   "source": [
    "clusters[:10]"
   ]
  },
  {
   "cell_type": "code",
   "execution_count": 12,
   "id": "71251897-d91c-4c24-b004-377184bad669",
   "metadata": {
    "execution": {
     "iopub.execute_input": "2025-10-27T07:24:41.325894Z",
     "iopub.status.busy": "2025-10-27T07:24:41.324691Z",
     "iopub.status.idle": "2025-10-27T07:24:41.339537Z",
     "shell.execute_reply": "2025-10-27T07:24:41.338755Z",
     "shell.execute_reply.started": "2025-10-27T07:24:41.325853Z"
    },
    "tags": []
   },
   "outputs": [
    {
     "data": {
      "text/plain": [
       "(12101, 3)"
      ]
     },
     "execution_count": 12,
     "metadata": {},
     "output_type": "execute_result"
    }
   ],
   "source": [
    "clusters.shape"
   ]
  },
  {
   "cell_type": "code",
   "execution_count": 13,
   "id": "a4a9bbc9-1f17-4abc-9ddf-e4674b226579",
   "metadata": {
    "execution": {
     "iopub.execute_input": "2025-10-27T07:24:43.604Z",
     "iopub.status.busy": "2025-10-27T07:24:43.603085Z",
     "iopub.status.idle": "2025-10-27T07:24:43.623202Z",
     "shell.execute_reply": "2025-10-27T07:24:43.622323Z",
     "shell.execute_reply.started": "2025-10-27T07:24:43.603962Z"
    },
    "tags": []
   },
   "outputs": [
    {
     "data": {
      "text/plain": [
       "array([0, 1, 2, 3, 4, 5, 6, 7, 9, 8])"
      ]
     },
     "execution_count": 13,
     "metadata": {},
     "output_type": "execute_result"
    }
   ],
   "source": [
    "item_ids[:10]"
   ]
  },
  {
   "cell_type": "code",
   "execution_count": 14,
   "id": "a9df8695-3f5c-44e0-a46f-2e1c08a7eeb1",
   "metadata": {
    "execution": {
     "iopub.execute_input": "2025-10-27T07:24:45.888854Z",
     "iopub.status.busy": "2025-10-27T07:24:45.887853Z",
     "iopub.status.idle": "2025-10-27T07:24:45.929885Z",
     "shell.execute_reply": "2025-10-27T07:24:45.928921Z",
     "shell.execute_reply.started": "2025-10-27T07:24:45.888818Z"
    },
    "tags": []
   },
   "outputs": [
    {
     "data": {
      "text/plain": [
       "(12101,)"
      ]
     },
     "execution_count": 14,
     "metadata": {},
     "output_type": "execute_result"
    }
   ],
   "source": [
    "item_ids.shape"
   ]
  },
  {
   "cell_type": "code",
   "execution_count": 15,
   "id": "f1b75f6a-d1aa-4501-a16c-2a94dd9d166a",
   "metadata": {
    "execution": {
     "iopub.execute_input": "2025-10-27T07:24:47.752296Z",
     "iopub.status.busy": "2025-10-27T07:24:47.750925Z",
     "iopub.status.idle": "2025-10-27T07:24:47.791226Z",
     "shell.execute_reply": "2025-10-27T07:24:47.790289Z",
     "shell.execute_reply.started": "2025-10-27T07:24:47.752252Z"
    },
    "tags": []
   },
   "outputs": [
    {
     "data": {
      "text/plain": [
       "array([[-0.00584892, -0.02669609,  0.0093983 , ...,  0.00875165,\n",
       "         0.0034929 ,  0.00049796],\n",
       "       [-0.01031132, -0.02947189,  0.0138112 , ..., -0.00578546,\n",
       "         0.00503929, -0.01395363],\n",
       "       [-0.00554423,  0.00016405,  0.01172988, ...,  0.00759633,\n",
       "        -0.0054365 , -0.00408524],\n",
       "       ...,\n",
       "       [ 0.00458405, -0.0070419 ,  0.01724852, ...,  0.00067518,\n",
       "         0.00887071, -0.00383712],\n",
       "       [-0.00571675,  0.00032094,  0.01758219, ..., -0.00190286,\n",
       "        -0.00962625,  0.00325021],\n",
       "       [-0.00188042,  0.00160439,  0.02096209, ...,  0.0001148 ,\n",
       "        -0.00616271,  0.00545511]], shape=(10, 4096), dtype=float32)"
      ]
     },
     "execution_count": 15,
     "metadata": {},
     "output_type": "execute_result"
    }
   ],
   "source": [
    "X[:10]"
   ]
  },
  {
   "cell_type": "code",
   "execution_count": 16,
   "id": "c47bc7f3-2003-47e9-bf23-c56dd415967b",
   "metadata": {
    "execution": {
     "iopub.execute_input": "2025-10-27T07:24:50.137563Z",
     "iopub.status.busy": "2025-10-27T07:24:50.136557Z",
     "iopub.status.idle": "2025-10-27T07:24:50.154955Z",
     "shell.execute_reply": "2025-10-27T07:24:50.154039Z",
     "shell.execute_reply.started": "2025-10-27T07:24:50.137531Z"
    },
    "tags": []
   },
   "outputs": [
    {
     "data": {
      "text/plain": [
       "(12101, 4096)"
      ]
     },
     "execution_count": 16,
     "metadata": {},
     "output_type": "execute_result"
    }
   ],
   "source": [
    "X.shape"
   ]
  },
  {
   "cell_type": "code",
   "execution_count": 17,
   "id": "c6dc4cf5",
   "metadata": {
    "execution": {
     "iopub.execute_input": "2025-10-27T07:25:03.591805Z",
     "iopub.status.busy": "2025-10-27T07:25:03.590954Z",
     "iopub.status.idle": "2025-10-27T07:25:03.897594Z",
     "shell.execute_reply": "2025-10-27T07:25:03.896650Z",
     "shell.execute_reply.started": "2025-10-27T07:25:03.591777Z"
    },
    "tags": []
   },
   "outputs": [],
   "source": [
    "# Create semantics mapping\n",
    "inter = {}\n",
    "sem_2_ids = defaultdict(list)\n",
    "for idx, clusters in zip(item_ids, clusters):\n",
    "    inter[int(idx)] = clusters.tolist()\n",
    "    sem_2_ids[tuple(clusters.tolist())].append(int(idx))\n",
    "\n",
    "# Solve collistions\n",
    "for semantics, item_ids in sem_2_ids.items():\n",
    "    assert len(item_ids) <= 256\n",
    "    collision_solvers = np.random.permutation(256)[:len(item_ids)].tolist()\n",
    "    for item_id, collision_solver in zip(item_ids, collision_solvers):\n",
    "        # то есть получается shape стал 4, но не у всех, у кого-то все еще 3\n",
    "        inter[item_id].append(collision_solver)\n",
    "    \n",
    "# Save semantics\n",
    "with open(semantic_index_output_path, 'w') as f:\n",
    "    json.dump(inter, f)"
   ]
  },
  {
   "cell_type": "markdown",
   "id": "8404e295-b6cf-4d19-8005-1e90b79ae2e8",
   "metadata": {},
   "source": [
    "Посмотрим, насколько в пространстве близки эмбеды до и после tower (по идее это лучше положить в cf_finetune в раздел с прокси-метриками)"
   ]
  },
  {
   "cell_type": "code",
   "execution_count": 19,
   "id": "c9dbc1cb-f962-40b3-8758-8ff030340814",
   "metadata": {
    "execution": {
     "iopub.execute_input": "2025-10-27T07:27:24.512708Z",
     "iopub.status.busy": "2025-10-27T07:27:24.511775Z",
     "iopub.status.idle": "2025-10-27T07:27:24.524459Z",
     "shell.execute_reply": "2025-10-27T07:27:24.523727Z",
     "shell.execute_reply.started": "2025-10-27T07:27:24.512670Z"
    }
   },
   "outputs": [],
   "source": [
    "old_embeddings_input_path = '../data/Beauty/content_embeddings.pkl'"
   ]
  },
  {
   "cell_type": "code",
   "execution_count": 25,
   "id": "3b4ce370-2e9c-44b2-a42e-4ec35ac37da2",
   "metadata": {
    "execution": {
     "iopub.execute_input": "2025-10-27T07:31:49.278852Z",
     "iopub.status.busy": "2025-10-27T07:31:49.277871Z",
     "iopub.status.idle": "2025-10-27T07:32:03.715984Z",
     "shell.execute_reply": "2025-10-27T07:32:03.715043Z",
     "shell.execute_reply.started": "2025-10-27T07:31:49.278807Z"
    },
    "tags": []
   },
   "outputs": [],
   "source": [
    "with open(old_embeddings_input_path, 'rb') as f:\n",
    "    old_data = pickle.load(f)\n",
    "\n",
    "old_item_ids = np.array(old_data['item_id'], dtype=np.int64)\n",
    "old_X = np.array(old_data['embedding'], dtype=np.float32)"
   ]
  },
  {
   "cell_type": "code",
   "execution_count": 26,
   "id": "944c5fcc-ff72-49f1-abe6-240c92b3c3b7",
   "metadata": {
    "execution": {
     "iopub.execute_input": "2025-10-27T07:32:16.855402Z",
     "iopub.status.busy": "2025-10-27T07:32:16.854386Z",
     "iopub.status.idle": "2025-10-27T07:32:17.213997Z",
     "shell.execute_reply": "2025-10-27T07:32:17.213162Z",
     "shell.execute_reply.started": "2025-10-27T07:32:16.855353Z"
    },
    "tags": []
   },
   "outputs": [
    {
     "name": "stdout",
     "output_type": "stream",
     "text": [
      "mean cos: 0.012486394494771957 std: 0.012419095262885094\n"
     ]
    }
   ],
   "source": [
    "import torch.nn.functional as F\n",
    "import torch\n",
    "\n",
    "cos = F.cosine_similarity(F.normalize(torch.tensor(X)), F.normalize(torch.tensor(old_X)))\n",
    "print('mean cos:', cos.mean().item(), 'std:', cos.std().item())"
   ]
  },
  {
   "cell_type": "code",
   "execution_count": null,
   "id": "9f47c74e-9eed-467f-bea8-946965d37964",
   "metadata": {},
   "outputs": [],
   "source": []
  }
 ],
 "metadata": {
  "kernelspec": {
   "display_name": "DataSphere Kernel",
   "language": "python",
   "name": "python3"
  },
  "language_info": {
   "codemirror_mode": {
    "name": "ipython",
    "version": 3
   },
   "file_extension": ".py",
   "mimetype": "text/x-python",
   "name": "python",
   "nbconvert_exporter": "python",
   "pygments_lexer": "ipython3",
   "version": "3.10.12"
  }
 },
 "nbformat": 4,
 "nbformat_minor": 5
}
