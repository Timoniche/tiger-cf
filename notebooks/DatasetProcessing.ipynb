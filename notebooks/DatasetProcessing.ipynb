{
 "cells": [
  {
   "cell_type": "code",
   "execution_count": 1,
   "id": "5617268b-2a78-4870-97e6-8d30ec09eaa5",
   "metadata": {
    "execution": {
     "iopub.execute_input": "2025-10-25T19:35:50.091808Z",
     "iopub.status.busy": "2025-10-25T19:35:50.090976Z",
     "iopub.status.idle": "2025-10-25T19:35:59.543967Z",
     "shell.execute_reply": "2025-10-25T19:35:59.543173Z",
     "shell.execute_reply.started": "2025-10-25T19:35:50.091784Z"
    },
    "tags": []
   },
   "outputs": [
    {
     "name": "stdout",
     "output_type": "stream",
     "text": [
      "Defaulting to user installation because normal site-packages is not writeable\n",
      "Requirement already satisfied: polars==1.33.1 in /home/jupyter/.local/lib/python3.11/site-packages (1.33.1)\n",
      "\n",
      "\u001b[1m[\u001b[0m\u001b[34;49mnotice\u001b[0m\u001b[1;39;49m]\u001b[0m\u001b[39;49m A new release of pip is available: \u001b[0m\u001b[31;49m24.0\u001b[0m\u001b[39;49m -> \u001b[0m\u001b[32;49m25.3\u001b[0m\n",
      "\u001b[1m[\u001b[0m\u001b[34;49mnotice\u001b[0m\u001b[1;39;49m]\u001b[0m\u001b[39;49m To update, run: \u001b[0m\u001b[32;49mpython3 -m pip install --upgrade pip\u001b[0m\n",
      "Defaulting to user installation because normal site-packages is not writeable\n",
      "Requirement already satisfied: numpy==2.3.3 in /home/jupyter/.local/lib/python3.11/site-packages (2.3.3)\n",
      "\n",
      "\u001b[1m[\u001b[0m\u001b[34;49mnotice\u001b[0m\u001b[1;39;49m]\u001b[0m\u001b[39;49m A new release of pip is available: \u001b[0m\u001b[31;49m24.0\u001b[0m\u001b[39;49m -> \u001b[0m\u001b[32;49m25.3\u001b[0m\n",
      "\u001b[1m[\u001b[0m\u001b[34;49mnotice\u001b[0m\u001b[1;39;49m]\u001b[0m\u001b[39;49m To update, run: \u001b[0m\u001b[32;49mpython3 -m pip install --upgrade pip\u001b[0m\n",
      "Defaulting to user installation because normal site-packages is not writeable\n",
      "Requirement already satisfied: pyarrow==17.0.0 in /home/jupyter/.local/lib/python3.11/site-packages (17.0.0)\n",
      "Requirement already satisfied: numpy>=1.16.6 in /home/jupyter/.local/lib/python3.11/site-packages (from pyarrow==17.0.0) (2.3.3)\n",
      "\n",
      "\u001b[1m[\u001b[0m\u001b[34;49mnotice\u001b[0m\u001b[1;39;49m]\u001b[0m\u001b[39;49m A new release of pip is available: \u001b[0m\u001b[31;49m24.0\u001b[0m\u001b[39;49m -> \u001b[0m\u001b[32;49m25.3\u001b[0m\n",
      "\u001b[1m[\u001b[0m\u001b[34;49mnotice\u001b[0m\u001b[1;39;49m]\u001b[0m\u001b[39;49m To update, run: \u001b[0m\u001b[32;49mpython3 -m pip install --upgrade pip\u001b[0m\n",
      "Defaulting to user installation because normal site-packages is not writeable\n",
      "Requirement already satisfied: pandas==2.2.3 in /home/jupyter/.local/lib/python3.11/site-packages (2.2.3)\n",
      "Requirement already satisfied: numpy>=1.23.2 in /home/jupyter/.local/lib/python3.11/site-packages (from pandas==2.2.3) (2.3.3)\n",
      "Requirement already satisfied: python-dateutil>=2.8.2 in /kernel/fallback/lib/python3.11/site-packages (from pandas==2.2.3) (2.9.0.post0)\n",
      "Requirement already satisfied: pytz>=2020.1 in /kernel/fallback/lib/python3.11/site-packages (from pandas==2.2.3) (2025.2)\n",
      "Requirement already satisfied: tzdata>=2022.7 in /kernel/fallback/lib/python3.11/site-packages (from pandas==2.2.3) (2025.2)\n",
      "Requirement already satisfied: six>=1.5 in /kernel/fallback/lib/python3.11/site-packages (from python-dateutil>=2.8.2->pandas==2.2.3) (1.17.0)\n",
      "\n",
      "\u001b[1m[\u001b[0m\u001b[34;49mnotice\u001b[0m\u001b[1;39;49m]\u001b[0m\u001b[39;49m A new release of pip is available: \u001b[0m\u001b[31;49m24.0\u001b[0m\u001b[39;49m -> \u001b[0m\u001b[32;49m25.3\u001b[0m\n",
      "\u001b[1m[\u001b[0m\u001b[34;49mnotice\u001b[0m\u001b[1;39;49m]\u001b[0m\u001b[39;49m To update, run: \u001b[0m\u001b[32;49mpython3 -m pip install --upgrade pip\u001b[0m\n",
      "Defaulting to user installation because normal site-packages is not writeable\n",
      "Requirement already satisfied: transformers==4.56.1 in /home/jupyter/.local/lib/python3.11/site-packages (4.56.1)\n",
      "Requirement already satisfied: filelock in /home/jupyter/.local/lib/python3.11/site-packages (from transformers==4.56.1) (3.20.0)\n",
      "Requirement already satisfied: huggingface-hub<1.0,>=0.34.0 in /home/jupyter/.local/lib/python3.11/site-packages (from transformers==4.56.1) (0.35.3)\n",
      "Requirement already satisfied: numpy>=1.17 in /home/jupyter/.local/lib/python3.11/site-packages (from transformers==4.56.1) (2.3.3)\n",
      "Requirement already satisfied: packaging>=20.0 in /home/jupyter/.local/lib/python3.11/site-packages (from transformers==4.56.1) (25.0)\n",
      "Requirement already satisfied: pyyaml>=5.1 in /home/jupyter/.local/lib/python3.11/site-packages (from transformers==4.56.1) (6.0.3)\n",
      "Requirement already satisfied: regex!=2019.12.17 in /home/jupyter/.local/lib/python3.11/site-packages (from transformers==4.56.1) (2025.9.18)\n",
      "Requirement already satisfied: requests in /kernel/fallback/lib/python3.11/site-packages (from transformers==4.56.1) (2.31.0)\n",
      "Requirement already satisfied: tokenizers<=0.23.0,>=0.22.0 in /home/jupyter/.local/lib/python3.11/site-packages (from transformers==4.56.1) (0.22.1)\n",
      "Requirement already satisfied: safetensors>=0.4.3 in /home/jupyter/.local/lib/python3.11/site-packages (from transformers==4.56.1) (0.6.2)\n",
      "Requirement already satisfied: tqdm>=4.27 in /home/jupyter/.local/lib/python3.11/site-packages (from transformers==4.56.1) (4.67.1)\n",
      "Requirement already satisfied: fsspec>=2023.5.0 in /home/jupyter/.local/lib/python3.11/site-packages (from huggingface-hub<1.0,>=0.34.0->transformers==4.56.1) (2025.9.0)\n",
      "Requirement already satisfied: typing-extensions>=3.7.4.3 in /home/jupyter/.local/lib/python3.11/site-packages (from huggingface-hub<1.0,>=0.34.0->transformers==4.56.1) (4.15.0)\n",
      "Requirement already satisfied: hf-xet<2.0.0,>=1.1.3 in /home/jupyter/.local/lib/python3.11/site-packages (from huggingface-hub<1.0,>=0.34.0->transformers==4.56.1) (1.1.10)\n",
      "Requirement already satisfied: charset-normalizer<4,>=2 in /kernel/fallback/lib/python3.11/site-packages (from requests->transformers==4.56.1) (3.4.3)\n",
      "Requirement already satisfied: idna<4,>=2.5 in /kernel/fallback/lib/python3.11/site-packages (from requests->transformers==4.56.1) (3.10)\n",
      "Requirement already satisfied: urllib3<3,>=1.21.1 in /kernel/fallback/lib/python3.11/site-packages (from requests->transformers==4.56.1) (1.25.11)\n",
      "Requirement already satisfied: certifi>=2017.4.17 in /kernel/fallback/lib/python3.11/site-packages (from requests->transformers==4.56.1) (2025.8.3)\n",
      "\n",
      "\u001b[1m[\u001b[0m\u001b[34;49mnotice\u001b[0m\u001b[1;39;49m]\u001b[0m\u001b[39;49m A new release of pip is available: \u001b[0m\u001b[31;49m24.0\u001b[0m\u001b[39;49m -> \u001b[0m\u001b[32;49m25.3\u001b[0m\n",
      "\u001b[1m[\u001b[0m\u001b[34;49mnotice\u001b[0m\u001b[1;39;49m]\u001b[0m\u001b[39;49m To update, run: \u001b[0m\u001b[32;49mpython3 -m pip install --upgrade pip\u001b[0m\n",
      "Defaulting to user installation because normal site-packages is not writeable\n",
      "Requirement already satisfied: sentencepiece==0.2.1 in /home/jupyter/.local/lib/python3.11/site-packages (0.2.1)\n",
      "\n",
      "\u001b[1m[\u001b[0m\u001b[34;49mnotice\u001b[0m\u001b[1;39;49m]\u001b[0m\u001b[39;49m A new release of pip is available: \u001b[0m\u001b[31;49m24.0\u001b[0m\u001b[39;49m -> \u001b[0m\u001b[32;49m25.3\u001b[0m\n",
      "\u001b[1m[\u001b[0m\u001b[34;49mnotice\u001b[0m\u001b[1;39;49m]\u001b[0m\u001b[39;49m To update, run: \u001b[0m\u001b[32;49mpython3 -m pip install --upgrade pip\u001b[0m\n"
     ]
    }
   ],
   "source": [
    "%pip install polars==1.33.1\n",
    "%pip install numpy==2.3.3\n",
    "%pip install pyarrow==17.0.0\n",
    "%pip install pandas==2.2.3\n",
    "%pip install transformers==4.56.1\n",
    "%pip install sentencepiece==0.2.1"
   ]
  },
  {
   "cell_type": "code",
   "execution_count": 2,
   "id": "3bdb292f",
   "metadata": {
    "execution": {
     "iopub.execute_input": "2025-10-25T19:36:14.304277Z",
     "iopub.status.busy": "2025-10-25T19:36:14.303860Z",
     "iopub.status.idle": "2025-10-25T19:37:05.685065Z",
     "shell.execute_reply": "2025-10-25T19:37:05.684305Z",
     "shell.execute_reply.started": "2025-10-25T19:36:14.304246Z"
    },
    "tags": []
   },
   "outputs": [
    {
     "name": "stderr",
     "output_type": "stream",
     "text": [
      "/home/jupyter/.local/lib/python3.11/site-packages/transformers/utils/hub.py:111: FutureWarning: Using `TRANSFORMERS_CACHE` is deprecated and will be removed in v5 of Transformers. Use `HF_HOME` instead.\n",
      "  warnings.warn(\n",
      "/kernel/lib/python3.11/site-packages/_distutils_hack/__init__.py:18: UserWarning: Distutils was imported before Setuptools, but importing Setuptools also replaces the `distutils` module in `sys.modules`. This may lead to undesirable behaviors or errors. To avoid these issues, avoid using distutils directly, ensure that setuptools is installed in the traditional way (e.g. not an editable install), and/or make sure that setuptools is always imported before distutils.\n",
      "  warnings.warn(\n",
      "/kernel/lib/python3.11/site-packages/_distutils_hack/__init__.py:33: UserWarning: Setuptools is replacing distutils.\n",
      "  warnings.warn(\"Setuptools is replacing distutils.\")\n"
     ]
    }
   ],
   "source": [
    "from collections import defaultdict\n",
    "\n",
    "import json\n",
    "import numpy as np\n",
    "import pandas as pd\n",
    "import pickle\n",
    "import polars as pl\n",
    "\n",
    "from transformers import LlamaModel, LlamaTokenizer\n",
    "\n",
    "import torch\n",
    "from torch.utils.data import DataLoader\n",
    "\n",
    "from tqdm import tqdm as tqdm"
   ]
  },
  {
   "cell_type": "code",
   "execution_count": 3,
   "id": "66d9b312",
   "metadata": {
    "execution": {
     "iopub.execute_input": "2025-10-25T19:37:05.686446Z",
     "iopub.status.busy": "2025-10-25T19:37:05.686017Z",
     "iopub.status.idle": "2025-10-25T19:37:05.707342Z",
     "shell.execute_reply": "2025-10-25T19:37:05.706734Z",
     "shell.execute_reply.started": "2025-10-25T19:37:05.686426Z"
    },
    "tags": []
   },
   "outputs": [],
   "source": [
    "interactions_dataset_path = '../data/Beauty/Beauty_5.json'\n",
    "metadata_path = '../data/Beauty/metadata.json'\n",
    "\n",
    "interactions_output_path = '../data/Beauty/inter_new.json'\n",
    "embeddings_output_path = '../data/Beauty/content_embeddings.pkl'"
   ]
  },
  {
   "cell_type": "code",
   "execution_count": 4,
   "id": "6ed4dffb",
   "metadata": {
    "execution": {
     "iopub.execute_input": "2025-10-25T19:37:05.708327Z",
     "iopub.status.busy": "2025-10-25T19:37:05.707983Z",
     "iopub.status.idle": "2025-10-25T19:37:08.702070Z",
     "shell.execute_reply": "2025-10-25T19:37:08.701070Z",
     "shell.execute_reply.started": "2025-10-25T19:37:05.708306Z"
    },
    "tags": []
   },
   "outputs": [
    {
     "name": "stdout",
     "output_type": "stream",
     "text": [
      "Number of events: 198502\n"
     ]
    }
   ],
   "source": [
    "df = defaultdict(list)\n",
    "\n",
    "with open(interactions_dataset_path, 'r') as f:\n",
    "    for line in f.readlines():\n",
    "        review = json.loads(line)\n",
    "        df['user_id'].append(review['reviewerID'])\n",
    "        df['item_id'].append(review['asin'])\n",
    "        df['timestamp'].append(review['unixReviewTime'])\n",
    "\n",
    "print(f'Number of events: {len(df[\"user_id\"])}')\n",
    "\n",
    "df = pl.from_dict(df)"
   ]
  },
  {
   "cell_type": "code",
   "execution_count": 5,
   "id": "c26746c4",
   "metadata": {
    "execution": {
     "iopub.execute_input": "2025-10-25T19:37:08.703728Z",
     "iopub.status.busy": "2025-10-25T19:37:08.703376Z",
     "iopub.status.idle": "2025-10-25T19:37:08.760356Z",
     "shell.execute_reply": "2025-10-25T19:37:08.759797Z",
     "shell.execute_reply.started": "2025-10-25T19:37:08.703705Z"
    },
    "tags": []
   },
   "outputs": [
    {
     "data": {
      "text/html": [
       "<div><style>\n",
       ".dataframe > thead > tr,\n",
       ".dataframe > tbody > tr {\n",
       "  text-align: right;\n",
       "  white-space: pre-wrap;\n",
       "}\n",
       "</style>\n",
       "<small>shape: (5, 3)</small><table border=\"1\" class=\"dataframe\"><thead><tr><th>user_id</th><th>item_id</th><th>timestamp</th></tr><tr><td>str</td><td>str</td><td>i64</td></tr></thead><tbody><tr><td>&quot;A1YJEY40YUW4SE&quot;</td><td>&quot;7806397051&quot;</td><td>1391040000</td></tr><tr><td>&quot;A60XNB876KYML&quot;</td><td>&quot;7806397051&quot;</td><td>1397779200</td></tr><tr><td>&quot;A3G6XNM240RMWA&quot;</td><td>&quot;7806397051&quot;</td><td>1378425600</td></tr><tr><td>&quot;A1PQFP6SAJ6D80&quot;</td><td>&quot;7806397051&quot;</td><td>1386460800</td></tr><tr><td>&quot;A38FVHZTNQ271F&quot;</td><td>&quot;7806397051&quot;</td><td>1382140800</td></tr></tbody></table></div>"
      ],
      "text/plain": [
       "shape: (5, 3)\n",
       "┌────────────────┬────────────┬────────────┐\n",
       "│ user_id        ┆ item_id    ┆ timestamp  │\n",
       "│ ---            ┆ ---        ┆ ---        │\n",
       "│ str            ┆ str        ┆ i64        │\n",
       "╞════════════════╪════════════╪════════════╡\n",
       "│ A1YJEY40YUW4SE ┆ 7806397051 ┆ 1391040000 │\n",
       "│ A60XNB876KYML  ┆ 7806397051 ┆ 1397779200 │\n",
       "│ A3G6XNM240RMWA ┆ 7806397051 ┆ 1378425600 │\n",
       "│ A1PQFP6SAJ6D80 ┆ 7806397051 ┆ 1386460800 │\n",
       "│ A38FVHZTNQ271F ┆ 7806397051 ┆ 1382140800 │\n",
       "└────────────────┴────────────┴────────────┘"
      ]
     },
     "execution_count": 5,
     "metadata": {},
     "output_type": "execute_result"
    }
   ],
   "source": [
    "df.head()"
   ]
  },
  {
   "cell_type": "code",
   "execution_count": 6,
   "id": "adcf5713",
   "metadata": {
    "execution": {
     "iopub.execute_input": "2025-10-25T19:37:08.761256Z",
     "iopub.status.busy": "2025-10-25T19:37:08.760928Z",
     "iopub.status.idle": "2025-10-25T19:37:08.781215Z",
     "shell.execute_reply": "2025-10-25T19:37:08.780628Z",
     "shell.execute_reply.started": "2025-10-25T19:37:08.761229Z"
    },
    "tags": []
   },
   "outputs": [],
   "source": [
    "filtered_df = df.clone()"
   ]
  },
  {
   "cell_type": "code",
   "execution_count": 7,
   "id": "c0bbf9ba",
   "metadata": {
    "execution": {
     "iopub.execute_input": "2025-10-25T19:37:08.782113Z",
     "iopub.status.busy": "2025-10-25T19:37:08.781834Z",
     "iopub.status.idle": "2025-10-25T19:37:09.120359Z",
     "shell.execute_reply": "2025-10-25T19:37:09.119586Z",
     "shell.execute_reply.started": "2025-10-25T19:37:08.782097Z"
    },
    "tags": []
   },
   "outputs": [],
   "source": [
    "# Processing dataset to get core-5 state in case full dataset is provided\n",
    "is_changed = True\n",
    "threshold = 5\n",
    "good_users = set()\n",
    "good_items = set()\n",
    "\n",
    "while is_changed:\n",
    "    user_counts = filtered_df.group_by('user_id').agg(\n",
    "        pl.len().alias('user_count'),\n",
    "    )\n",
    "    item_counts = filtered_df.group_by('item_id').agg(\n",
    "        pl.len().alias('item_count'),\n",
    "    )\n",
    "\n",
    "    good_users = user_counts.filter(pl.col('user_count') >= threshold).select(\n",
    "        'user_id',\n",
    "    )\n",
    "    good_items = item_counts.filter(pl.col('item_count') >= threshold).select(\n",
    "        'item_id',\n",
    "    )\n",
    "\n",
    "    old_size = len(filtered_df)\n",
    "\n",
    "    new_df = filtered_df.join(good_users, on='user_id', how='inner')\n",
    "    new_df = new_df.join(good_items, on='item_id', how='inner')\n",
    "\n",
    "    new_size = len(new_df)\n",
    "\n",
    "    filtered_df = new_df\n",
    "    is_changed = old_size != new_size\n"
   ]
  },
  {
   "cell_type": "code",
   "execution_count": 8,
   "id": "218a9348",
   "metadata": {
    "execution": {
     "iopub.execute_input": "2025-10-25T19:37:09.121485Z",
     "iopub.status.busy": "2025-10-25T19:37:09.121176Z",
     "iopub.status.idle": "2025-10-25T19:37:09.266382Z",
     "shell.execute_reply": "2025-10-25T19:37:09.265660Z",
     "shell.execute_reply.started": "2025-10-25T19:37:09.121466Z"
    },
    "tags": []
   },
   "outputs": [
    {
     "data": {
      "text/html": [
       "<div><style>\n",
       ".dataframe > thead > tr,\n",
       ".dataframe > tbody > tr {\n",
       "  text-align: right;\n",
       "  white-space: pre-wrap;\n",
       "}\n",
       "</style>\n",
       "<small>shape: (5, 3)</small><table border=\"1\" class=\"dataframe\"><thead><tr><th>user_id</th><th>item_id</th><th>timestamp</th></tr><tr><td>i64</td><td>i64</td><td>i64</td></tr></thead><tbody><tr><td>0</td><td>0</td><td>1391040000</td></tr><tr><td>1</td><td>0</td><td>1397779200</td></tr><tr><td>2</td><td>0</td><td>1378425600</td></tr><tr><td>3</td><td>0</td><td>1386460800</td></tr><tr><td>4</td><td>0</td><td>1382140800</td></tr></tbody></table></div>"
      ],
      "text/plain": [
       "shape: (5, 3)\n",
       "┌─────────┬─────────┬────────────┐\n",
       "│ user_id ┆ item_id ┆ timestamp  │\n",
       "│ ---     ┆ ---     ┆ ---        │\n",
       "│ i64     ┆ i64     ┆ i64        │\n",
       "╞═════════╪═════════╪════════════╡\n",
       "│ 0       ┆ 0       ┆ 1391040000 │\n",
       "│ 1       ┆ 0       ┆ 1397779200 │\n",
       "│ 2       ┆ 0       ┆ 1378425600 │\n",
       "│ 3       ┆ 0       ┆ 1386460800 │\n",
       "│ 4       ┆ 0       ┆ 1382140800 │\n",
       "└─────────┴─────────┴────────────┘"
      ]
     },
     "execution_count": 8,
     "metadata": {},
     "output_type": "execute_result"
    }
   ],
   "source": [
    "unique_values = filtered_df[\"user_id\"].unique(maintain_order=True).to_list()\n",
    "user_ids_mapping = {value: i for i, value in enumerate(unique_values)}\n",
    "\n",
    "filtered_df = filtered_df.with_columns(\n",
    "    pl.col(\"user_id\").replace_strict(user_ids_mapping)\n",
    ")\n",
    "\n",
    "unique_values = filtered_df[\"item_id\"].unique(maintain_order=True).to_list()\n",
    "item_ids_mapping = {value: i for i, value in enumerate(unique_values)}\n",
    "\n",
    "filtered_df = filtered_df.with_columns(\n",
    "    pl.col(\"item_id\").replace_strict(item_ids_mapping)\n",
    ")\n",
    "\n",
    "filtered_df.head()"
   ]
  },
  {
   "cell_type": "code",
   "execution_count": 9,
   "id": "34604fe6",
   "metadata": {
    "execution": {
     "iopub.execute_input": "2025-10-25T19:37:09.267808Z",
     "iopub.status.busy": "2025-10-25T19:37:09.267198Z",
     "iopub.status.idle": "2025-10-25T19:37:09.280364Z",
     "shell.execute_reply": "2025-10-25T19:37:09.279694Z",
     "shell.execute_reply.started": "2025-10-25T19:37:09.267779Z"
    },
    "tags": []
   },
   "outputs": [
    {
     "data": {
      "text/html": [
       "<div><style>\n",
       ".dataframe > thead > tr,\n",
       ".dataframe > tbody > tr {\n",
       "  text-align: right;\n",
       "  white-space: pre-wrap;\n",
       "}\n",
       "</style>\n",
       "<small>shape: (5, 2)</small><table border=\"1\" class=\"dataframe\"><thead><tr><th>old_item_id</th><th>new_item_id</th></tr><tr><td>str</td><td>i64</td></tr></thead><tbody><tr><td>&quot;7806397051&quot;</td><td>0</td></tr><tr><td>&quot;9759091062&quot;</td><td>1</td></tr><tr><td>&quot;9788072216&quot;</td><td>2</td></tr><tr><td>&quot;9790790961&quot;</td><td>3</td></tr><tr><td>&quot;9790794231&quot;</td><td>4</td></tr></tbody></table></div>"
      ],
      "text/plain": [
       "shape: (5, 2)\n",
       "┌─────────────┬─────────────┐\n",
       "│ old_item_id ┆ new_item_id │\n",
       "│ ---         ┆ ---         │\n",
       "│ str         ┆ i64         │\n",
       "╞═════════════╪═════════════╡\n",
       "│ 7806397051  ┆ 0           │\n",
       "│ 9759091062  ┆ 1           │\n",
       "│ 9788072216  ┆ 2           │\n",
       "│ 9790790961  ┆ 3           │\n",
       "│ 9790794231  ┆ 4           │\n",
       "└─────────────┴─────────────┘"
      ]
     },
     "execution_count": 9,
     "metadata": {},
     "output_type": "execute_result"
    }
   ],
   "source": [
    "item_ids_mapping_df = pl.from_dict({\n",
    "    'old_item_id': list(item_ids_mapping.keys()),\n",
    "    'new_item_id': list(item_ids_mapping.values())\n",
    "})\n",
    "item_ids_mapping_df.head()"
   ]
  },
  {
   "cell_type": "code",
   "execution_count": 10,
   "id": "6017e65c",
   "metadata": {
    "execution": {
     "iopub.execute_input": "2025-10-25T19:37:09.281758Z",
     "iopub.status.busy": "2025-10-25T19:37:09.281124Z",
     "iopub.status.idle": "2025-10-25T19:37:09.292428Z",
     "shell.execute_reply": "2025-10-25T19:37:09.291786Z",
     "shell.execute_reply.started": "2025-10-25T19:37:09.281736Z"
    },
    "tags": []
   },
   "outputs": [
    {
     "data": {
      "text/html": [
       "<div><style>\n",
       ".dataframe > thead > tr,\n",
       ".dataframe > tbody > tr {\n",
       "  text-align: right;\n",
       "  white-space: pre-wrap;\n",
       "}\n",
       "</style>\n",
       "<small>shape: (5, 3)</small><table border=\"1\" class=\"dataframe\"><thead><tr><th>user_id</th><th>item_id</th><th>timestamp</th></tr><tr><td>i64</td><td>i64</td><td>i64</td></tr></thead><tbody><tr><td>0</td><td>0</td><td>1391040000</td></tr><tr><td>1</td><td>0</td><td>1397779200</td></tr><tr><td>2</td><td>0</td><td>1378425600</td></tr><tr><td>3</td><td>0</td><td>1386460800</td></tr><tr><td>4</td><td>0</td><td>1382140800</td></tr></tbody></table></div>"
      ],
      "text/plain": [
       "shape: (5, 3)\n",
       "┌─────────┬─────────┬────────────┐\n",
       "│ user_id ┆ item_id ┆ timestamp  │\n",
       "│ ---     ┆ ---     ┆ ---        │\n",
       "│ i64     ┆ i64     ┆ i64        │\n",
       "╞═════════╪═════════╪════════════╡\n",
       "│ 0       ┆ 0       ┆ 1391040000 │\n",
       "│ 1       ┆ 0       ┆ 1397779200 │\n",
       "│ 2       ┆ 0       ┆ 1378425600 │\n",
       "│ 3       ┆ 0       ┆ 1386460800 │\n",
       "│ 4       ┆ 0       ┆ 1382140800 │\n",
       "└─────────┴─────────┴────────────┘"
      ]
     },
     "execution_count": 10,
     "metadata": {},
     "output_type": "execute_result"
    }
   ],
   "source": [
    "filtered_df.head()"
   ]
  },
  {
   "cell_type": "code",
   "execution_count": 11,
   "id": "9efd1983",
   "metadata": {
    "execution": {
     "iopub.execute_input": "2025-10-25T19:37:09.295297Z",
     "iopub.status.busy": "2025-10-25T19:37:09.294693Z",
     "iopub.status.idle": "2025-10-25T19:37:09.327088Z",
     "shell.execute_reply": "2025-10-25T19:37:09.326349Z",
     "shell.execute_reply.started": "2025-10-25T19:37:09.295279Z"
    },
    "tags": []
   },
   "outputs": [],
   "source": [
    "filtered_df = filtered_df.sort([\"user_id\", \"timestamp\"])\n",
    "\n",
    "grouped_filtered_df = filtered_df.group_by(\"user_id\", maintain_order=True).agg(pl.all())"
   ]
  },
  {
   "cell_type": "code",
   "execution_count": 12,
   "id": "fd51c525",
   "metadata": {
    "execution": {
     "iopub.execute_input": "2025-10-25T19:37:09.328125Z",
     "iopub.status.busy": "2025-10-25T19:37:09.327845Z",
     "iopub.status.idle": "2025-10-25T19:37:09.339943Z",
     "shell.execute_reply": "2025-10-25T19:37:09.339344Z",
     "shell.execute_reply.started": "2025-10-25T19:37:09.328106Z"
    },
    "tags": []
   },
   "outputs": [
    {
     "data": {
      "text/html": [
       "<div><style>\n",
       ".dataframe > thead > tr,\n",
       ".dataframe > tbody > tr {\n",
       "  text-align: right;\n",
       "  white-space: pre-wrap;\n",
       "}\n",
       "</style>\n",
       "<small>shape: (5, 2)</small><table border=\"1\" class=\"dataframe\"><thead><tr><th>old_item_id</th><th>new_item_id</th></tr><tr><td>str</td><td>i64</td></tr></thead><tbody><tr><td>&quot;7806397051&quot;</td><td>0</td></tr><tr><td>&quot;9759091062&quot;</td><td>1</td></tr><tr><td>&quot;9788072216&quot;</td><td>2</td></tr><tr><td>&quot;9790790961&quot;</td><td>3</td></tr><tr><td>&quot;9790794231&quot;</td><td>4</td></tr></tbody></table></div>"
      ],
      "text/plain": [
       "shape: (5, 2)\n",
       "┌─────────────┬─────────────┐\n",
       "│ old_item_id ┆ new_item_id │\n",
       "│ ---         ┆ ---         │\n",
       "│ str         ┆ i64         │\n",
       "╞═════════════╪═════════════╡\n",
       "│ 7806397051  ┆ 0           │\n",
       "│ 9759091062  ┆ 1           │\n",
       "│ 9788072216  ┆ 2           │\n",
       "│ 9790790961  ┆ 3           │\n",
       "│ 9790794231  ┆ 4           │\n",
       "└─────────────┴─────────────┘"
      ]
     },
     "execution_count": 12,
     "metadata": {},
     "output_type": "execute_result"
    }
   ],
   "source": [
    "item_ids_mapping_df.head()"
   ]
  },
  {
   "cell_type": "code",
   "execution_count": 13,
   "id": "8b0821da",
   "metadata": {
    "execution": {
     "iopub.execute_input": "2025-10-25T19:37:09.340768Z",
     "iopub.status.busy": "2025-10-25T19:37:09.340502Z",
     "iopub.status.idle": "2025-10-25T19:37:09.353639Z",
     "shell.execute_reply": "2025-10-25T19:37:09.353064Z",
     "shell.execute_reply.started": "2025-10-25T19:37:09.340752Z"
    },
    "tags": []
   },
   "outputs": [
    {
     "data": {
      "text/html": [
       "<div><style>\n",
       ".dataframe > thead > tr,\n",
       ".dataframe > tbody > tr {\n",
       "  text-align: right;\n",
       "  white-space: pre-wrap;\n",
       "}\n",
       "</style>\n",
       "<small>shape: (5, 3)</small><table border=\"1\" class=\"dataframe\"><thead><tr><th>user_id</th><th>item_id</th><th>timestamp</th></tr><tr><td>i64</td><td>list[i64]</td><td>list[i64]</td></tr></thead><tbody><tr><td>0</td><td>[6845, 7872, … 0]</td><td>[1318896000, 1318896000, … 1391040000]</td></tr><tr><td>1</td><td>[815, 10405, … 232]</td><td>[1392422400, 1396224000, … 1397779200]</td></tr><tr><td>2</td><td>[6049, 0, … 6608]</td><td>[1378425600, 1378425600, … 1400284800]</td></tr><tr><td>3</td><td>[5521, 5160, … 0]</td><td>[1379116800, 1380931200, … 1386460800]</td></tr><tr><td>4</td><td>[0, 10469, … 11389]</td><td>[1382140800, 1383523200, … 1388966400]</td></tr></tbody></table></div>"
      ],
      "text/plain": [
       "shape: (5, 3)\n",
       "┌─────────┬─────────────────────┬─────────────────────────────────┐\n",
       "│ user_id ┆ item_id             ┆ timestamp                       │\n",
       "│ ---     ┆ ---                 ┆ ---                             │\n",
       "│ i64     ┆ list[i64]           ┆ list[i64]                       │\n",
       "╞═════════╪═════════════════════╪═════════════════════════════════╡\n",
       "│ 0       ┆ [6845, 7872, … 0]   ┆ [1318896000, 1318896000, … 139… │\n",
       "│ 1       ┆ [815, 10405, … 232] ┆ [1392422400, 1396224000, … 139… │\n",
       "│ 2       ┆ [6049, 0, … 6608]   ┆ [1378425600, 1378425600, … 140… │\n",
       "│ 3       ┆ [5521, 5160, … 0]   ┆ [1379116800, 1380931200, … 138… │\n",
       "│ 4       ┆ [0, 10469, … 11389] ┆ [1382140800, 1383523200, … 138… │\n",
       "└─────────┴─────────────────────┴─────────────────────────────────┘"
      ]
     },
     "execution_count": 13,
     "metadata": {},
     "output_type": "execute_result"
    }
   ],
   "source": [
    "grouped_filtered_df.head()"
   ]
  },
  {
   "cell_type": "code",
   "execution_count": 14,
   "id": "dc222d59",
   "metadata": {
    "execution": {
     "iopub.execute_input": "2025-10-25T19:37:09.355132Z",
     "iopub.status.busy": "2025-10-25T19:37:09.354359Z",
     "iopub.status.idle": "2025-10-25T19:37:09.385671Z",
     "shell.execute_reply": "2025-10-25T19:37:09.385044Z",
     "shell.execute_reply.started": "2025-10-25T19:37:09.355111Z"
    },
    "tags": []
   },
   "outputs": [
    {
     "name": "stdout",
     "output_type": "stream",
     "text": [
      "Users count: 22363\n",
      "Items count: 12101\n",
      "Actions count: 198502\n",
      "Avg user history len: 8.876358270357287\n"
     ]
    }
   ],
   "source": [
    "print('Users count:', filtered_df.select('user_id').unique().shape[0])\n",
    "print('Items count:', filtered_df.select('item_id').unique().shape[0])\n",
    "print('Actions count:', filtered_df.shape[0])\n",
    "print('Avg user history len:', np.mean(list(map(lambda x: x[0], grouped_filtered_df.select(pl.col('item_id').list.len()).rows()))))"
   ]
  },
  {
   "cell_type": "code",
   "execution_count": 15,
   "id": "d07a2e91",
   "metadata": {
    "execution": {
     "iopub.execute_input": "2025-10-25T19:37:09.386577Z",
     "iopub.status.busy": "2025-10-25T19:37:09.386301Z",
     "iopub.status.idle": "2025-10-25T19:37:09.601376Z",
     "shell.execute_reply": "2025-10-25T19:37:09.600722Z",
     "shell.execute_reply.started": "2025-10-25T19:37:09.386560Z"
    },
    "tags": []
   },
   "outputs": [],
   "source": [
    "json_data = {}\n",
    "for user_id, item_ids, _ in grouped_filtered_df.iter_rows():\n",
    "    json_data[user_id] = item_ids\n",
    "\n",
    "with open(interactions_output_path, 'w') as f:\n",
    "    json.dump(json_data, f, indent=2)"
   ]
  },
  {
   "cell_type": "markdown",
   "id": "237523fa",
   "metadata": {},
   "source": [
    "## Content embedding creation"
   ]
  },
  {
   "cell_type": "code",
   "execution_count": null,
   "id": "6361c7a5",
   "metadata": {
    "execution": {
     "iopub.execute_input": "2025-10-25T19:37:09.602825Z",
     "iopub.status.busy": "2025-10-25T19:37:09.602037Z",
     "iopub.status.idle": "2025-10-25T19:56:15.234179Z"
    },
    "tags": []
   },
   "outputs": [
    {
     "name": "stderr",
     "output_type": "stream",
     "text": [
      "IOStream.flush timed out\n"
     ]
    },
    {
     "data": {
      "text/html": [
       "<div>\n",
       "<style scoped>\n",
       "    .dataframe tbody tr th:only-of-type {\n",
       "        vertical-align: middle;\n",
       "    }\n",
       "\n",
       "    .dataframe tbody tr th {\n",
       "        vertical-align: top;\n",
       "    }\n",
       "\n",
       "    .dataframe thead th {\n",
       "        text-align: right;\n",
       "    }\n",
       "</style>\n",
       "<table border=\"1\" class=\"dataframe\">\n",
       "  <thead>\n",
       "    <tr style=\"text-align: right;\">\n",
       "      <th></th>\n",
       "      <th>asin</th>\n",
       "      <th>salesRank</th>\n",
       "      <th>imUrl</th>\n",
       "      <th>categories</th>\n",
       "      <th>title</th>\n",
       "      <th>description</th>\n",
       "      <th>price</th>\n",
       "      <th>related</th>\n",
       "      <th>brand</th>\n",
       "    </tr>\n",
       "  </thead>\n",
       "  <tbody>\n",
       "    <tr>\n",
       "      <th>0</th>\n",
       "      <td>0001048791</td>\n",
       "      <td>{'Books': 6334800}</td>\n",
       "      <td>http://ecx.images-amazon.com/images/I/51MKP0T4...</td>\n",
       "      <td>[[Books]]</td>\n",
       "      <td>The Crucible: Performed by Stuart Pankin, Jero...</td>\n",
       "      <td>NaN</td>\n",
       "      <td>NaN</td>\n",
       "      <td>NaN</td>\n",
       "      <td>NaN</td>\n",
       "    </tr>\n",
       "    <tr>\n",
       "      <th>1</th>\n",
       "      <td>0000143561</td>\n",
       "      <td>{'Movies &amp; TV': 376041}</td>\n",
       "      <td>http://g-ecx.images-amazon.com/images/G/01/x-s...</td>\n",
       "      <td>[[Movies &amp; TV, Movies]]</td>\n",
       "      <td>Everyday Italian (with Giada de Laurentiis), V...</td>\n",
       "      <td>3Pack DVD set - Italian Classics, Parties and ...</td>\n",
       "      <td>12.99</td>\n",
       "      <td>{'also_viewed': ['B0036FO6SI', 'B000KL8ODE', '...</td>\n",
       "      <td>NaN</td>\n",
       "    </tr>\n",
       "    <tr>\n",
       "      <th>2</th>\n",
       "      <td>0000037214</td>\n",
       "      <td>{'Clothing': 1233557}</td>\n",
       "      <td>http://ecx.images-amazon.com/images/I/31mCncNu...</td>\n",
       "      <td>[[Clothing, Shoes &amp; Jewelry, Girls], [Clothing...</td>\n",
       "      <td>Purple Sequin Tiny Dancer Tutu Ballet Dance Fa...</td>\n",
       "      <td>NaN</td>\n",
       "      <td>6.99</td>\n",
       "      <td>{'also_viewed': ['B00JO8II76', 'B00DGN4R1Q', '...</td>\n",
       "      <td>Big Dreams</td>\n",
       "    </tr>\n",
       "    <tr>\n",
       "      <th>3</th>\n",
       "      <td>0000032069</td>\n",
       "      <td>NaN</td>\n",
       "      <td>http://ecx.images-amazon.com/images/I/51EzU6qu...</td>\n",
       "      <td>[[Sports &amp; Outdoors, Other Sports, Dance, Clot...</td>\n",
       "      <td>Adult Ballet Tutu Cheetah Pink</td>\n",
       "      <td>NaN</td>\n",
       "      <td>7.89</td>\n",
       "      <td>{'also_bought': ['0000032050', 'B00D0DJAEG', '...</td>\n",
       "      <td>BubuBibi</td>\n",
       "    </tr>\n",
       "    <tr>\n",
       "      <th>4</th>\n",
       "      <td>0000031909</td>\n",
       "      <td>{'Toys &amp; Games': 201847}</td>\n",
       "      <td>http://ecx.images-amazon.com/images/I/41xBoP0F...</td>\n",
       "      <td>[[Sports &amp; Outdoors, Other Sports, Dance]]</td>\n",
       "      <td>Girls Ballet Tutu Neon Pink</td>\n",
       "      <td>High quality 3 layer ballet tutu. 12 inches in...</td>\n",
       "      <td>7.00</td>\n",
       "      <td>{'also_bought': ['B002BZX8Z6', 'B00JHONN1S', '...</td>\n",
       "      <td>Unknown</td>\n",
       "    </tr>\n",
       "  </tbody>\n",
       "</table>\n",
       "</div>"
      ],
      "text/plain": [
       "         asin  ...       brand\n",
       "0  0001048791  ...         NaN\n",
       "1  0000143561  ...         NaN\n",
       "2  0000037214  ...  Big Dreams\n",
       "3  0000032069  ...    BubuBibi\n",
       "4  0000031909  ...     Unknown\n",
       "\n",
       "[5 rows x 9 columns]"
      ]
     },
     "execution_count": 16,
     "metadata": {},
     "output_type": "execute_result"
    }
   ],
   "source": [
    "def getDF(path):\n",
    "    i = 0\n",
    "    df = {}\n",
    "    with open(path, 'r') as f:\n",
    "        for line in f.readlines():\n",
    "            df[i] = eval(line)\n",
    "            i += 1\n",
    "\n",
    "    return pd.DataFrame.from_dict(df, orient=\"index\")\n",
    "\n",
    "df = getDF(metadata_path)\n",
    "df.head()"
   ]
  },
  {
   "cell_type": "code",
   "execution_count": null,
   "id": "971fa89c",
   "metadata": {
    "execution": {
     "iopub.execute_input": "2025-10-25T19:56:15.235476Z",
     "iopub.status.busy": "2025-10-25T19:56:15.235057Z",
     "iopub.status.idle": "2025-10-25T19:56:15.247362Z"
    },
    "tags": []
   },
   "outputs": [],
   "source": [
    "def preprocess(row: pd.Series):\n",
    "    row = row.fillna(\"None\")\n",
    "    return f\"Title: {row['title']}. Categories: {', '.join(row['categories'][0])}. Description: {row['description']}.\"\n",
    "\n",
    "\n",
    "def get_data(metadata_df, item_ids_mapping_df):\n",
    "    filtered_df = metadata_df.join(\n",
    "        item_ids_mapping_df, \n",
    "        left_on=\"asin\", \n",
    "        right_on='old_item_id', \n",
    "        how=\"inner\"\n",
    "    ).select(pl.col('new_item_id'), pl.col('title'), pl.col('description'), pl.col('categories'))\n",
    "\n",
    "    filtered_df = filtered_df.to_pandas()\n",
    "    filtered_df[\"combined_text\"] = filtered_df.apply(preprocess, axis=1)\n",
    "\n",
    "    return filtered_df\n"
   ]
  },
  {
   "cell_type": "code",
   "execution_count": null,
   "id": "339ce75a-12be-4974-81ff-a69894b582f2",
   "metadata": {
    "execution": {
     "iopub.execute_input": "2025-10-25T19:56:15.248452Z",
     "iopub.status.busy": "2025-10-25T19:56:15.248057Z",
     "iopub.status.idle": "2025-10-25T19:56:17.255456Z"
    },
    "tags": []
   },
   "outputs": [
    {
     "name": "stdout",
     "output_type": "stream",
     "text": [
      "Package                  Version\n",
      "------------------------ -----------\n",
      "absl-py                  2.3.1\n",
      "boto3                    1.28.82\n",
      "botocore                 1.31.85\n",
      "certifi                  2025.8.3\n",
      "charset-normalizer       3.4.3\n",
      "cloudpickle              3.1.1\n",
      "Cython                   3.1.4\n",
      "debugpy                  1.8.17\n",
      "filelock                 3.20.0\n",
      "fsspec                   2025.9.0\n",
      "grpcio                   1.75.1\n",
      "hf-xet                   1.1.10\n",
      "huggingface-hub          0.35.3\n",
      "idna                     3.10\n",
      "Jinja2                   3.1.6\n",
      "jmespath                 1.0.1\n",
      "Markdown                 3.9\n",
      "MarkupSafe               3.0.3\n",
      "matplotlib-inline        0.1.7\n",
      "ml-kernel                0.1.0\n",
      "mpmath                   1.3.0\n",
      "murmurhash               1.0.13\n",
      "networkx                 3.5\n",
      "numpy                    2.3.3\n",
      "nvidia-cublas-cu12       12.1.3.1\n",
      "nvidia-cuda-cupti-cu12   12.1.105\n",
      "nvidia-cuda-nvrtc-cu12   12.1.105\n",
      "nvidia-cuda-runtime-cu12 12.1.105\n",
      "nvidia-cudnn-cu12        9.1.0.70\n",
      "nvidia-cufft-cu12        11.0.2.54\n",
      "nvidia-curand-cu12       10.3.2.106\n",
      "nvidia-cusolver-cu12     11.4.5.107\n",
      "nvidia-cusparse-cu12     12.1.0.106\n",
      "nvidia-nccl-cu12         2.21.5\n",
      "nvidia-nvjitlink-cu12    12.9.86\n",
      "nvidia-nvtx-cu12         12.1.105\n",
      "packaging                25.0\n",
      "pandas                   2.2.3\n",
      "pillow                   12.0.0\n",
      "pip                      24.0\n",
      "polars                   1.33.1\n",
      "polars-runtime-32        1.34.0\n",
      "protobuf                 6.33.0\n",
      "psutil                   7.1.0\n",
      "pyarrow                  17.0.0\n",
      "python-dateutil          2.9.0.post0\n",
      "pytz                     2025.2\n",
      "PyYAML                   6.0.3\n",
      "pyzmq                    27.1.0\n",
      "regex                    2025.9.18\n",
      "requests                 2.31.0\n",
      "s3transfer               0.7.0\n",
      "safetensors              0.6.2\n",
      "sentencepiece            0.2.1\n",
      "setuptools               65.5.0\n",
      "six                      1.17.0\n",
      "sympy                    1.13.1\n",
      "tensorboard              2.20.0\n",
      "tensorboard-data-server  0.7.2\n",
      "tokenizers               0.22.1\n",
      "torch                    2.5.1+cu121\n",
      "tqdm                     4.67.1\n",
      "traitlets                5.14.3\n",
      "transformers             4.56.1\n",
      "triton                   3.1.0\n",
      "typing_extensions        4.15.0\n",
      "tzdata                   2025.2\n",
      "urllib3                  1.25.11\n",
      "Werkzeug                 3.1.3\n",
      "wheel                    0.37.1\n"
     ]
    }
   ],
   "source": [
    "%pip list"
   ]
  },
  {
   "cell_type": "code",
   "execution_count": null,
   "id": "3b0dd5d5",
   "metadata": {
    "execution": {
     "iopub.execute_input": "2025-10-25T19:56:17.256993Z",
     "iopub.status.busy": "2025-10-25T19:56:17.256690Z",
     "iopub.status.idle": "2025-10-25T19:57:46.078044Z"
    },
    "tags": []
   },
   "outputs": [],
   "source": [
    "data = get_data(pl.from_pandas(df), item_ids_mapping_df)"
   ]
  },
  {
   "cell_type": "code",
   "execution_count": 23,
   "id": "ccb8e3d4-75d7-47a9-bd17-81ad4c0a2992",
   "metadata": {
    "execution": {
     "iopub.execute_input": "2025-10-25T20:14:10.357603Z",
     "iopub.status.busy": "2025-10-25T20:14:10.357163Z",
     "iopub.status.idle": "2025-10-25T20:14:22.715895Z",
     "shell.execute_reply": "2025-10-25T20:14:22.714914Z",
     "shell.execute_reply.started": "2025-10-25T20:14:10.357579Z"
    },
    "tags": []
   },
   "outputs": [
    {
     "name": "stderr",
     "output_type": "stream",
     "text": [
      "'(ReadTimeoutError(\"HTTPSConnectionPool(host='huggingface.co', port=443): Read timed out. (read timeout=10)\"), '(Request ID: 8f4e8ca7-751e-49d6-93ce-39f449356f4f)')' thrown while requesting HEAD https://huggingface.co/huggyllama/llama-7b/resolve/main/tokenizer_config.json\n",
      "Retrying in 1s [Retry 1/5].\n"
     ]
    },
    {
     "ename": "OSError",
     "evalue": "huggyllama/llama-7b does not appear to have a file named model-00001-of-00002.safetensors. Checkout 'https://huggingface.co/huggyllama/llama-7b/tree/main' for available files.",
     "output_type": "error",
     "traceback": [
      "\u001b[0;31m---------------------------------------------------------------------------\u001b[0m",
      "\u001b[0;31mOSError\u001b[0m                                   Traceback (most recent call last)",
      "\u001b[0;32m/tmp/ipykernel_10960/1704462024.py\u001b[0m in \u001b[0;36m<cell line: 0>\u001b[0;34m()\u001b[0m\n\u001b[1;32m      7\u001b[0m     \u001b[0mtokenizer\u001b[0m\u001b[0;34m.\u001b[0m\u001b[0mpad_token\u001b[0m \u001b[0;34m=\u001b[0m \u001b[0mtokenizer\u001b[0m\u001b[0;34m.\u001b[0m\u001b[0meos_token\u001b[0m\u001b[0;34m\u001b[0m\u001b[0;34m\u001b[0m\u001b[0m\n\u001b[1;32m      8\u001b[0m \u001b[0;34m\u001b[0m\u001b[0m\n\u001b[0;32m----> 9\u001b[0;31m \u001b[0mmodel\u001b[0m \u001b[0;34m=\u001b[0m \u001b[0mLlamaModel\u001b[0m\u001b[0;34m.\u001b[0m\u001b[0mfrom_pretrained\u001b[0m\u001b[0;34m(\u001b[0m\u001b[0mmodel_name\u001b[0m\u001b[0;34m)\u001b[0m\u001b[0;34m\u001b[0m\u001b[0;34m\u001b[0m\u001b[0m\n\u001b[0m\u001b[1;32m     10\u001b[0m \u001b[0mmodel\u001b[0m \u001b[0;34m=\u001b[0m \u001b[0mmodel\u001b[0m\u001b[0;34m.\u001b[0m\u001b[0mto\u001b[0m\u001b[0;34m(\u001b[0m\u001b[0mdevice\u001b[0m\u001b[0;34m)\u001b[0m\u001b[0;34m\u001b[0m\u001b[0;34m\u001b[0m\u001b[0m\n\u001b[1;32m     11\u001b[0m \u001b[0mmodel\u001b[0m \u001b[0;34m=\u001b[0m \u001b[0mmodel\u001b[0m\u001b[0;34m.\u001b[0m\u001b[0meval\u001b[0m\u001b[0;34m(\u001b[0m\u001b[0;34m)\u001b[0m\u001b[0;34m\u001b[0m\u001b[0;34m\u001b[0m\u001b[0m\n",
      "\u001b[0;32m~/.local/lib/python3.11/site-packages/transformers/modeling_utils.py\u001b[0m in \u001b[0;36m_wrapper\u001b[0;34m(*args, **kwargs)\u001b[0m\n\u001b[1;32m    286\u001b[0m         \u001b[0mold_dtype\u001b[0m \u001b[0;34m=\u001b[0m \u001b[0mtorch\u001b[0m\u001b[0;34m.\u001b[0m\u001b[0mget_default_dtype\u001b[0m\u001b[0;34m(\u001b[0m\u001b[0;34m)\u001b[0m\u001b[0;34m\u001b[0m\u001b[0;34m\u001b[0m\u001b[0m\n\u001b[1;32m    287\u001b[0m         \u001b[0;32mtry\u001b[0m\u001b[0;34m:\u001b[0m\u001b[0;34m\u001b[0m\u001b[0;34m\u001b[0m\u001b[0m\n\u001b[0;32m--> 288\u001b[0;31m             \u001b[0;32mreturn\u001b[0m \u001b[0mfunc\u001b[0m\u001b[0;34m(\u001b[0m\u001b[0;34m*\u001b[0m\u001b[0margs\u001b[0m\u001b[0;34m,\u001b[0m \u001b[0;34m**\u001b[0m\u001b[0mkwargs\u001b[0m\u001b[0;34m)\u001b[0m\u001b[0;34m\u001b[0m\u001b[0;34m\u001b[0m\u001b[0m\n\u001b[0m\u001b[1;32m    289\u001b[0m         \u001b[0;32mfinally\u001b[0m\u001b[0;34m:\u001b[0m\u001b[0;34m\u001b[0m\u001b[0;34m\u001b[0m\u001b[0m\n\u001b[1;32m    290\u001b[0m             \u001b[0mtorch\u001b[0m\u001b[0;34m.\u001b[0m\u001b[0mset_default_dtype\u001b[0m\u001b[0;34m(\u001b[0m\u001b[0mold_dtype\u001b[0m\u001b[0;34m)\u001b[0m\u001b[0;34m\u001b[0m\u001b[0;34m\u001b[0m\u001b[0m\n",
      "\u001b[0;32m~/.local/lib/python3.11/site-packages/transformers/modeling_utils.py\u001b[0m in \u001b[0;36mfrom_pretrained\u001b[0;34m(cls, pretrained_model_name_or_path, config, cache_dir, ignore_mismatched_sizes, force_download, local_files_only, token, revision, use_safetensors, weights_only, *model_args, **kwargs)\u001b[0m\n\u001b[1;32m   5025\u001b[0m             )\n\u001b[1;32m   5026\u001b[0m \u001b[0;34m\u001b[0m\u001b[0m\n\u001b[0;32m-> 5027\u001b[0;31m         checkpoint_files, sharded_metadata = _get_resolved_checkpoint_files(\n\u001b[0m\u001b[1;32m   5028\u001b[0m             \u001b[0mpretrained_model_name_or_path\u001b[0m\u001b[0;34m=\u001b[0m\u001b[0mpretrained_model_name_or_path\u001b[0m\u001b[0;34m,\u001b[0m\u001b[0;34m\u001b[0m\u001b[0;34m\u001b[0m\u001b[0m\n\u001b[1;32m   5029\u001b[0m             \u001b[0msubfolder\u001b[0m\u001b[0;34m=\u001b[0m\u001b[0msubfolder\u001b[0m\u001b[0;34m,\u001b[0m\u001b[0;34m\u001b[0m\u001b[0;34m\u001b[0m\u001b[0m\n",
      "\u001b[0;32m~/.local/lib/python3.11/site-packages/transformers/modeling_utils.py\u001b[0m in \u001b[0;36m_get_resolved_checkpoint_files\u001b[0;34m(pretrained_model_name_or_path, subfolder, variant, gguf_file, from_tf, from_flax, use_safetensors, cache_dir, force_download, proxies, local_files_only, token, user_agent, revision, commit_hash, is_remote_code, transformers_explicit_filename)\u001b[0m\n\u001b[1;32m   1306\u001b[0m     \u001b[0msharded_metadata\u001b[0m \u001b[0;34m=\u001b[0m \u001b[0;32mNone\u001b[0m\u001b[0;34m\u001b[0m\u001b[0;34m\u001b[0m\u001b[0m\n\u001b[1;32m   1307\u001b[0m     \u001b[0;32mif\u001b[0m \u001b[0mis_sharded\u001b[0m\u001b[0;34m:\u001b[0m\u001b[0;34m\u001b[0m\u001b[0;34m\u001b[0m\u001b[0m\n\u001b[0;32m-> 1308\u001b[0;31m         checkpoint_files, sharded_metadata = get_checkpoint_shard_files(\n\u001b[0m\u001b[1;32m   1309\u001b[0m             \u001b[0mpretrained_model_name_or_path\u001b[0m\u001b[0;34m,\u001b[0m\u001b[0;34m\u001b[0m\u001b[0;34m\u001b[0m\u001b[0m\n\u001b[1;32m   1310\u001b[0m             \u001b[0mresolved_archive_file\u001b[0m\u001b[0;34m,\u001b[0m\u001b[0;34m\u001b[0m\u001b[0;34m\u001b[0m\u001b[0m\n",
      "\u001b[0;32m~/.local/lib/python3.11/site-packages/transformers/utils/hub.py\u001b[0m in \u001b[0;36mget_checkpoint_shard_files\u001b[0;34m(pretrained_model_name_or_path, index_filename, cache_dir, force_download, proxies, resume_download, local_files_only, token, user_agent, revision, subfolder, _commit_hash, **deprecated_kwargs)\u001b[0m\n\u001b[1;32m   1117\u001b[0m     \u001b[0;31m# At this stage pretrained_model_name_or_path is a model identifier on the Hub. Try to get everything from cache,\u001b[0m\u001b[0;34m\u001b[0m\u001b[0;34m\u001b[0m\u001b[0m\n\u001b[1;32m   1118\u001b[0m     \u001b[0;31m# or download the files\u001b[0m\u001b[0;34m\u001b[0m\u001b[0;34m\u001b[0m\u001b[0m\n\u001b[0;32m-> 1119\u001b[0;31m     cached_filenames = cached_files(\n\u001b[0m\u001b[1;32m   1120\u001b[0m         \u001b[0mpretrained_model_name_or_path\u001b[0m\u001b[0;34m,\u001b[0m\u001b[0;34m\u001b[0m\u001b[0;34m\u001b[0m\u001b[0m\n\u001b[1;32m   1121\u001b[0m         \u001b[0mshard_filenames\u001b[0m\u001b[0;34m,\u001b[0m\u001b[0;34m\u001b[0m\u001b[0;34m\u001b[0m\u001b[0m\n",
      "\u001b[0;32m~/.local/lib/python3.11/site-packages/transformers/utils/hub.py\u001b[0m in \u001b[0;36mcached_files\u001b[0;34m(path_or_repo_id, filenames, cache_dir, force_download, resume_download, proxies, token, revision, local_files_only, subfolder, repo_type, user_agent, _raise_exceptions_for_gated_repo, _raise_exceptions_for_missing_entries, _raise_exceptions_for_connection_errors, _commit_hash, **deprecated_kwargs)\u001b[0m\n\u001b[1;32m    580\u001b[0m             \u001b[0;34mf\"a file named {missing_entries[0]}\"\u001b[0m \u001b[0;32mif\u001b[0m \u001b[0mlen\u001b[0m\u001b[0;34m(\u001b[0m\u001b[0mmissing_entries\u001b[0m\u001b[0;34m)\u001b[0m \u001b[0;34m==\u001b[0m \u001b[0;36m1\u001b[0m \u001b[0;32melse\u001b[0m \u001b[0;34mf\"files named {(*missing_entries,)}\"\u001b[0m\u001b[0;34m\u001b[0m\u001b[0;34m\u001b[0m\u001b[0m\n\u001b[1;32m    581\u001b[0m         )\n\u001b[0;32m--> 582\u001b[0;31m         raise OSError(\n\u001b[0m\u001b[1;32m    583\u001b[0m             \u001b[0;34mf\"{path_or_repo_id} does not appear to have {msg}. Checkout 'https://huggingface.co/{path_or_repo_id}/tree/{revision_}'\"\u001b[0m\u001b[0;34m\u001b[0m\u001b[0;34m\u001b[0m\u001b[0m\n\u001b[1;32m    584\u001b[0m             \u001b[0;34m\" for available files.\"\u001b[0m\u001b[0;34m\u001b[0m\u001b[0;34m\u001b[0m\u001b[0m\n",
      "\u001b[0;31mOSError\u001b[0m: huggyllama/llama-7b does not appear to have a file named model-00001-of-00002.safetensors. Checkout 'https://huggingface.co/huggyllama/llama-7b/tree/main' for available files."
     ]
    }
   ],
   "source": [
    "device = torch.device('cuda:6')\n",
    "\n",
    "model_name = \"huggyllama/llama-7b\"\n",
    "tokenizer = LlamaTokenizer.from_pretrained(model_name)\n",
    "\n",
    "if tokenizer.pad_token is None:\n",
    "    tokenizer.pad_token = tokenizer.eos_token\n",
    "\n",
    "model = LlamaModel.from_pretrained(model_name)\n",
    "model = model.to(device)\n",
    "model = model.eval()"
   ]
  },
  {
   "cell_type": "code",
   "execution_count": null,
   "id": "12e622ff",
   "metadata": {
    "tags": []
   },
   "outputs": [],
   "source": [
    "class MyDataset:\n",
    "    def __init__(self, data):\n",
    "        self._data = list(zip(data.to_dict()['new_item_id'].values(), data.to_dict()['combined_text'].values()))\n",
    "\n",
    "    def __len__(self):\n",
    "        return len(self._data)\n",
    "\n",
    "    def __getitem__(self, idx):\n",
    "        text = self._data[idx][1]\n",
    "        inputs = tokenizer(text, return_tensors=\"pt\", max_length=1024, truncation=True, padding=\"max_length\")\n",
    "        return {\n",
    "            'item_id': self._data[idx][0],\n",
    "            'input_ids': inputs['input_ids'][0],\n",
    "            'attention_mask': inputs['attention_mask'][0]\n",
    "        }\n",
    "    \n",
    "\n",
    "dataset = MyDataset(data)\n",
    "loader = DataLoader(dataset, batch_size=8, drop_last=False, shuffle=False, num_workers=10)\n",
    "\n",
    "\n",
    "new_df = {\n",
    "    'item_id': [],\n",
    "    'embedding': []\n",
    "}\n",
    "\n",
    "for batch in tqdm(loader):\n",
    "    with torch.inference_mode():\n",
    "        outputs = model(\n",
    "            input_ids=batch[\"input_ids\"].to(device), \n",
    "            attention_mask=batch[\"attention_mask\"].to(device)\n",
    "        )\n",
    "        embeddings = outputs.last_hidden_state\n",
    "    \n",
    "        embeddings = outputs.last_hidden_state  # (bs, sl, ed)\n",
    "        embeddings[(~batch[\"attention_mask\"].bool())] = 0. # (bs, sl, ed)\n",
    "\n",
    "    new_df['item_id'] += batch['item_id'].tolist()\n",
    "    new_df['embedding'] += embeddings.mean(dim=1).tolist()  # (bs, ed)\n",
    "\n",
    "\n",
    "with open(embeddings_output_path, 'wb') as f:\n",
    "    pickle.dump(new_df, f)\n"
   ]
  },
  {
   "cell_type": "code",
   "execution_count": null,
   "id": "f24a9aa3-5a5a-4f12-9cff-524c9467fd44",
   "metadata": {},
   "outputs": [],
   "source": []
  }
 ],
 "metadata": {
  "kernelspec": {
   "display_name": "DataSphere Kernel",
   "language": "python",
   "name": "python3"
  },
  "language_info": {
   "codemirror_mode": {
    "name": "ipython",
    "version": 3
   },
   "file_extension": ".py",
   "mimetype": "text/x-python",
   "name": "python",
   "nbconvert_exporter": "python",
   "pygments_lexer": "ipython3",
   "version": "3.10.12"
  }
 },
 "nbformat": 4,
 "nbformat_minor": 5
}
