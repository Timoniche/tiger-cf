{
 "cells": [
  {
   "cell_type": "markdown",
   "id": "8313a2f9-f154-49df-9aba-d51d41aef83b",
   "metadata": {},
   "source": [
    "Docker pure python 3.11 build (DataSphere 1 GPU A100 • 28 vCPUs • 119 ГБ RAM1 GPU A100 • 28 vCPUs • 119 ГБ RAM)\n",
    "```\n",
    "FROM ubuntu:22.04\n",
    "ENV DEBIAN_FRONTEND=noninteractive\n",
    "\n",
    "RUN apt-get update && apt-get install -y --no-install-recommends \\\n",
    "      ca-certificates \\\n",
    "      python3.11 python3.11-venv python3.11-distutils \\\n",
    "      python3-pip \\\n",
    "    && ln -sf /usr/bin/python3.11 /usr/bin/python3 \\\n",
    "    && ln -sf /usr/bin/pip3 /usr/bin/pip \\\n",
    "    && python3 -m pip install -U pip \\\n",
    "    && rm -rf /var/lib/apt/lists/*\n",
    "\n",
    "RUN useradd -ms /bin/bash --uid 1000 jupyter\n",
    "USER jupyter\n",
    "WORKDIR /home/jupyter\n",
    "```"
   ]
  },
  {
   "cell_type": "code",
   "execution_count": 1,
   "id": "a40f6376-b87d-4283-bd2d-fb661ce5a37a",
   "metadata": {
    "execution": {
     "iopub.execute_input": "2025-10-27T13:59:21.743167Z",
     "iopub.status.busy": "2025-10-27T13:59:21.742742Z",
     "iopub.status.idle": "2025-10-27T13:59:21.786473Z",
     "shell.execute_reply": "2025-10-27T13:59:21.785962Z",
     "shell.execute_reply.started": "2025-10-27T13:59:21.743142Z"
    },
    "tags": []
   },
   "outputs": [
    {
     "name": "stdout",
     "output_type": "stream",
     "text": [
      "Python 3.11.0rc1\n"
     ]
    }
   ],
   "source": [
    "!python3 --version"
   ]
  },
  {
   "cell_type": "code",
   "execution_count": 2,
   "id": "9560e73b-1d69-4fd0-a5ff-8c97e96b19ac",
   "metadata": {
    "execution": {
     "iopub.execute_input": "2025-10-27T14:00:36.266348Z",
     "iopub.status.busy": "2025-10-27T14:00:36.266009Z",
     "iopub.status.idle": "2025-10-27T14:00:42.245491Z",
     "shell.execute_reply": "2025-10-27T14:00:42.244658Z",
     "shell.execute_reply.started": "2025-10-27T14:00:36.266326Z"
    },
    "tags": []
   },
   "outputs": [
    {
     "name": "stdout",
     "output_type": "stream",
     "text": [
      "Defaulting to user installation because normal site-packages is not writeable\n",
      "Requirement already satisfied: murmurhash==1.0.13 in /home/jupyter/.local/lib/python3.11/site-packages (1.0.13)\n",
      "\n",
      "\u001b[1m[\u001b[0m\u001b[34;49mnotice\u001b[0m\u001b[1;39;49m]\u001b[0m\u001b[39;49m A new release of pip is available: \u001b[0m\u001b[31;49m24.0\u001b[0m\u001b[39;49m -> \u001b[0m\u001b[32;49m25.3\u001b[0m\n",
      "\u001b[1m[\u001b[0m\u001b[34;49mnotice\u001b[0m\u001b[1;39;49m]\u001b[0m\u001b[39;49m To update, run: \u001b[0m\u001b[32;49mpython3 -m pip install --upgrade pip\u001b[0m\n",
      "Defaulting to user installation because normal site-packages is not writeable\n",
      "Requirement already satisfied: numpy==2.1.2 in /home/jupyter/.local/lib/python3.11/site-packages (2.1.2)\n",
      "\n",
      "\u001b[1m[\u001b[0m\u001b[34;49mnotice\u001b[0m\u001b[1;39;49m]\u001b[0m\u001b[39;49m A new release of pip is available: \u001b[0m\u001b[31;49m24.0\u001b[0m\u001b[39;49m -> \u001b[0m\u001b[32;49m25.3\u001b[0m\n",
      "\u001b[1m[\u001b[0m\u001b[34;49mnotice\u001b[0m\u001b[1;39;49m]\u001b[0m\u001b[39;49m To update, run: \u001b[0m\u001b[32;49mpython3 -m pip install --upgrade pip\u001b[0m\n",
      "Defaulting to user installation because normal site-packages is not writeable\n",
      "Requirement already satisfied: tensorboard==2.20.0 in /home/jupyter/.local/lib/python3.11/site-packages (2.20.0)\n",
      "Requirement already satisfied: absl-py>=0.4 in /home/jupyter/.local/lib/python3.11/site-packages (from tensorboard==2.20.0) (2.3.1)\n",
      "Requirement already satisfied: grpcio>=1.48.2 in /home/jupyter/.local/lib/python3.11/site-packages (from tensorboard==2.20.0) (1.75.1)\n",
      "Requirement already satisfied: markdown>=2.6.8 in /home/jupyter/.local/lib/python3.11/site-packages (from tensorboard==2.20.0) (3.9)\n",
      "Requirement already satisfied: numpy>=1.12.0 in /home/jupyter/.local/lib/python3.11/site-packages (from tensorboard==2.20.0) (2.1.2)\n",
      "Requirement already satisfied: packaging in /home/jupyter/.local/lib/python3.11/site-packages (from tensorboard==2.20.0) (25.0)\n",
      "Requirement already satisfied: pillow in /home/jupyter/.local/lib/python3.11/site-packages (from tensorboard==2.20.0) (12.0.0)\n",
      "Requirement already satisfied: protobuf!=4.24.0,>=3.19.6 in /home/jupyter/.local/lib/python3.11/site-packages (from tensorboard==2.20.0) (6.33.0)\n",
      "Requirement already satisfied: setuptools>=41.0.0 in /kernel/lib/python3.11/site-packages (from tensorboard==2.20.0) (79.0.1)\n",
      "Requirement already satisfied: tensorboard-data-server<0.8.0,>=0.7.0 in /home/jupyter/.local/lib/python3.11/site-packages (from tensorboard==2.20.0) (0.7.2)\n",
      "Requirement already satisfied: werkzeug>=1.0.1 in /home/jupyter/.local/lib/python3.11/site-packages (from tensorboard==2.20.0) (3.1.3)\n",
      "Requirement already satisfied: typing-extensions~=4.12 in /home/jupyter/.local/lib/python3.11/site-packages (from grpcio>=1.48.2->tensorboard==2.20.0) (4.15.0)\n",
      "Requirement already satisfied: MarkupSafe>=2.1.1 in /home/jupyter/.local/lib/python3.11/site-packages (from werkzeug>=1.0.1->tensorboard==2.20.0) (3.0.3)\n",
      "\n",
      "\u001b[1m[\u001b[0m\u001b[34;49mnotice\u001b[0m\u001b[1;39;49m]\u001b[0m\u001b[39;49m A new release of pip is available: \u001b[0m\u001b[31;49m24.0\u001b[0m\u001b[39;49m -> \u001b[0m\u001b[32;49m25.3\u001b[0m\n",
      "\u001b[1m[\u001b[0m\u001b[34;49mnotice\u001b[0m\u001b[1;39;49m]\u001b[0m\u001b[39;49m To update, run: \u001b[0m\u001b[32;49mpython3 -m pip install --upgrade pip\u001b[0m\n",
      "Defaulting to user installation because normal site-packages is not writeable\n",
      "Requirement already satisfied: transformers==4.50.3 in /home/jupyter/.local/lib/python3.11/site-packages (4.50.3)\n",
      "Requirement already satisfied: filelock in /home/jupyter/.local/lib/python3.11/site-packages (from transformers==4.50.3) (3.20.0)\n",
      "Requirement already satisfied: huggingface-hub<1.0,>=0.26.0 in /home/jupyter/.local/lib/python3.11/site-packages (from transformers==4.50.3) (0.35.3)\n",
      "Requirement already satisfied: numpy>=1.17 in /home/jupyter/.local/lib/python3.11/site-packages (from transformers==4.50.3) (2.1.2)\n",
      "Requirement already satisfied: packaging>=20.0 in /home/jupyter/.local/lib/python3.11/site-packages (from transformers==4.50.3) (25.0)\n",
      "Requirement already satisfied: pyyaml>=5.1 in /home/jupyter/.local/lib/python3.11/site-packages (from transformers==4.50.3) (6.0.3)\n",
      "Requirement already satisfied: regex!=2019.12.17 in /home/jupyter/.local/lib/python3.11/site-packages (from transformers==4.50.3) (2025.9.18)\n",
      "Requirement already satisfied: requests in /kernel/fallback/lib/python3.11/site-packages (from transformers==4.50.3) (2.31.0)\n",
      "Requirement already satisfied: tokenizers<0.22,>=0.21 in /home/jupyter/.local/lib/python3.11/site-packages (from transformers==4.50.3) (0.21.4)\n",
      "Requirement already satisfied: safetensors>=0.4.3 in /home/jupyter/.local/lib/python3.11/site-packages (from transformers==4.50.3) (0.6.2)\n",
      "Requirement already satisfied: tqdm>=4.27 in /home/jupyter/.local/lib/python3.11/site-packages (from transformers==4.50.3) (4.67.1)\n",
      "Requirement already satisfied: fsspec>=2023.5.0 in /home/jupyter/.local/lib/python3.11/site-packages (from huggingface-hub<1.0,>=0.26.0->transformers==4.50.3) (2025.9.0)\n",
      "Requirement already satisfied: typing-extensions>=3.7.4.3 in /home/jupyter/.local/lib/python3.11/site-packages (from huggingface-hub<1.0,>=0.26.0->transformers==4.50.3) (4.15.0)\n",
      "Requirement already satisfied: hf-xet<2.0.0,>=1.1.3 in /home/jupyter/.local/lib/python3.11/site-packages (from huggingface-hub<1.0,>=0.26.0->transformers==4.50.3) (1.1.10)\n",
      "Requirement already satisfied: charset-normalizer<4,>=2 in /kernel/fallback/lib/python3.11/site-packages (from requests->transformers==4.50.3) (3.4.4)\n",
      "Requirement already satisfied: idna<4,>=2.5 in /kernel/fallback/lib/python3.11/site-packages (from requests->transformers==4.50.3) (3.11)\n",
      "Requirement already satisfied: urllib3<3,>=1.21.1 in /kernel/fallback/lib/python3.11/site-packages (from requests->transformers==4.50.3) (1.25.11)\n",
      "Requirement already satisfied: certifi>=2017.4.17 in /kernel/fallback/lib/python3.11/site-packages (from requests->transformers==4.50.3) (2025.10.5)\n",
      "\n",
      "\u001b[1m[\u001b[0m\u001b[34;49mnotice\u001b[0m\u001b[1;39;49m]\u001b[0m\u001b[39;49m A new release of pip is available: \u001b[0m\u001b[31;49m24.0\u001b[0m\u001b[39;49m -> \u001b[0m\u001b[32;49m25.3\u001b[0m\n",
      "\u001b[1m[\u001b[0m\u001b[34;49mnotice\u001b[0m\u001b[1;39;49m]\u001b[0m\u001b[39;49m To update, run: \u001b[0m\u001b[32;49mpython3 -m pip install --upgrade pip\u001b[0m\n"
     ]
    }
   ],
   "source": [
    "%pip install murmurhash==1.0.13\n",
    "%pip install numpy==2.1.2\n",
    "%pip install tensorboard==2.20.0\n",
    "%pip install transformers==4.50.3"
   ]
  },
  {
   "cell_type": "code",
   "execution_count": 3,
   "id": "29e4cd4b-0eee-49b3-963b-9da0163b7a12",
   "metadata": {
    "execution": {
     "iopub.execute_input": "2025-10-27T14:00:45.873462Z",
     "iopub.status.busy": "2025-10-27T14:00:45.873116Z",
     "iopub.status.idle": "2025-10-27T14:00:47.564600Z",
     "shell.execute_reply": "2025-10-27T14:00:47.563937Z",
     "shell.execute_reply.started": "2025-10-27T14:00:45.873436Z"
    },
    "tags": []
   },
   "outputs": [
    {
     "name": "stdout",
     "output_type": "stream",
     "text": [
      "Defaulting to user installation because normal site-packages is not writeable\n",
      "Looking in indexes: https://download.pytorch.org/whl/cu121\n",
      "Requirement already satisfied: torch==2.5.1+cu121 in /home/jupyter/.local/lib/python3.11/site-packages (2.5.1+cu121)\n",
      "Requirement already satisfied: filelock in /home/jupyter/.local/lib/python3.11/site-packages (from torch==2.5.1+cu121) (3.20.0)\n",
      "Requirement already satisfied: typing-extensions>=4.8.0 in /home/jupyter/.local/lib/python3.11/site-packages (from torch==2.5.1+cu121) (4.15.0)\n",
      "Requirement already satisfied: networkx in /home/jupyter/.local/lib/python3.11/site-packages (from torch==2.5.1+cu121) (3.5)\n",
      "Requirement already satisfied: jinja2 in /home/jupyter/.local/lib/python3.11/site-packages (from torch==2.5.1+cu121) (3.1.6)\n",
      "Requirement already satisfied: fsspec in /home/jupyter/.local/lib/python3.11/site-packages (from torch==2.5.1+cu121) (2025.9.0)\n",
      "Requirement already satisfied: nvidia-cuda-nvrtc-cu12==12.1.105 in /home/jupyter/.local/lib/python3.11/site-packages (from torch==2.5.1+cu121) (12.1.105)\n",
      "Requirement already satisfied: nvidia-cuda-runtime-cu12==12.1.105 in /home/jupyter/.local/lib/python3.11/site-packages (from torch==2.5.1+cu121) (12.1.105)\n",
      "Requirement already satisfied: nvidia-cuda-cupti-cu12==12.1.105 in /home/jupyter/.local/lib/python3.11/site-packages (from torch==2.5.1+cu121) (12.1.105)\n",
      "Requirement already satisfied: nvidia-cudnn-cu12==9.1.0.70 in /home/jupyter/.local/lib/python3.11/site-packages (from torch==2.5.1+cu121) (9.1.0.70)\n",
      "Requirement already satisfied: nvidia-cublas-cu12==12.1.3.1 in /home/jupyter/.local/lib/python3.11/site-packages (from torch==2.5.1+cu121) (12.1.3.1)\n",
      "Requirement already satisfied: nvidia-cufft-cu12==11.0.2.54 in /home/jupyter/.local/lib/python3.11/site-packages (from torch==2.5.1+cu121) (11.0.2.54)\n",
      "Requirement already satisfied: nvidia-curand-cu12==10.3.2.106 in /home/jupyter/.local/lib/python3.11/site-packages (from torch==2.5.1+cu121) (10.3.2.106)\n",
      "Requirement already satisfied: nvidia-cusolver-cu12==11.4.5.107 in /home/jupyter/.local/lib/python3.11/site-packages (from torch==2.5.1+cu121) (11.4.5.107)\n",
      "Requirement already satisfied: nvidia-cusparse-cu12==12.1.0.106 in /home/jupyter/.local/lib/python3.11/site-packages (from torch==2.5.1+cu121) (12.1.0.106)\n",
      "Requirement already satisfied: nvidia-nccl-cu12==2.21.5 in /home/jupyter/.local/lib/python3.11/site-packages (from torch==2.5.1+cu121) (2.21.5)\n",
      "Requirement already satisfied: nvidia-nvtx-cu12==12.1.105 in /home/jupyter/.local/lib/python3.11/site-packages (from torch==2.5.1+cu121) (12.1.105)\n",
      "Requirement already satisfied: triton==3.1.0 in /home/jupyter/.local/lib/python3.11/site-packages (from torch==2.5.1+cu121) (3.1.0)\n",
      "Requirement already satisfied: sympy==1.13.1 in /home/jupyter/.local/lib/python3.11/site-packages (from torch==2.5.1+cu121) (1.13.1)\n",
      "Requirement already satisfied: nvidia-nvjitlink-cu12 in /home/jupyter/.local/lib/python3.11/site-packages (from nvidia-cusolver-cu12==11.4.5.107->torch==2.5.1+cu121) (12.9.86)\n",
      "Requirement already satisfied: mpmath<1.4,>=1.1.0 in /home/jupyter/.local/lib/python3.11/site-packages (from sympy==1.13.1->torch==2.5.1+cu121) (1.3.0)\n",
      "Requirement already satisfied: MarkupSafe>=2.0 in /home/jupyter/.local/lib/python3.11/site-packages (from jinja2->torch==2.5.1+cu121) (3.0.3)\n",
      "\n",
      "\u001b[1m[\u001b[0m\u001b[34;49mnotice\u001b[0m\u001b[1;39;49m]\u001b[0m\u001b[39;49m A new release of pip is available: \u001b[0m\u001b[31;49m24.0\u001b[0m\u001b[39;49m -> \u001b[0m\u001b[32;49m25.3\u001b[0m\n",
      "\u001b[1m[\u001b[0m\u001b[34;49mnotice\u001b[0m\u001b[1;39;49m]\u001b[0m\u001b[39;49m To update, run: \u001b[0m\u001b[32;49mpython3 -m pip install --upgrade pip\u001b[0m\n"
     ]
    }
   ],
   "source": [
    "%pip install torch==2.5.1+cu121 --index-url https://download.pytorch.org/whl/cu121"
   ]
  },
  {
   "cell_type": "code",
   "execution_count": 4,
   "id": "11f04bfc-d908-4c04-b4a3-bcb57487f4c1",
   "metadata": {
    "execution": {
     "iopub.execute_input": "2025-10-27T14:00:49.743846Z",
     "iopub.status.busy": "2025-10-27T14:00:49.743517Z",
     "iopub.status.idle": "2025-10-27T14:01:41.055785Z",
     "shell.execute_reply": "2025-10-27T14:01:41.055264Z",
     "shell.execute_reply.started": "2025-10-27T14:00:49.743826Z"
    },
    "tags": []
   },
   "outputs": [
    {
     "name": "stderr",
     "output_type": "stream",
     "text": [
      "/home/jupyter/.local/lib/python3.11/site-packages/transformers/utils/hub.py:105: FutureWarning: Using `TRANSFORMERS_CACHE` is deprecated and will be removed in v5 of Transformers. Use `HF_HOME` instead.\n",
      "  warnings.warn(\n",
      "/kernel/lib/python3.11/site-packages/_distutils_hack/__init__.py:15: UserWarning: Distutils was imported before Setuptools, but importing Setuptools also replaces the `distutils` module in `sys.modules`. This may lead to undesirable behaviors or errors. To avoid these issues, avoid using distutils directly, ensure that setuptools is installed in the traditional way (e.g. not an editable install), and/or make sure that setuptools is always imported before distutils.\n",
      "  warnings.warn(\n",
      "/kernel/lib/python3.11/site-packages/_distutils_hack/__init__.py:30: UserWarning: Setuptools is replacing distutils. Support for replacing an already imported distutils is deprecated. In the future, this condition will fail. Register concerns at https://github.com/pypa/setuptools/issues/new?template=distutils-deprecation.yml\n",
      "  warnings.warn(\n"
     ]
    }
   ],
   "source": [
    "import json\n",
    "from functools import partial\n",
    "\n",
    "import torch\n",
    "from torch.utils.data import DataLoader\n",
    "\n",
    "from modeling import utils\n",
    "from modeling.dataloader import BatchProcessor\n",
    "from modeling.dataset import Dataset\n",
    "from modeling.loss import IdentityLoss\n",
    "from modeling.metric import NDCGSemanticMetric, RecallSemanticMetric\n",
    "from modeling.models import TigerModel, CorrectItemsLogitsProcessor\n",
    "from modeling.trainer import Trainer\n",
    "from modeling.utils import parse_args, create_logger, fix_random_seed"
   ]
  },
  {
   "cell_type": "code",
   "execution_count": 5,
   "id": "00138dcd-7b7a-4419-bd67-2ff4745b91e0",
   "metadata": {
    "execution": {
     "iopub.execute_input": "2025-10-27T14:01:49.027858Z",
     "iopub.status.busy": "2025-10-27T14:01:49.027528Z",
     "iopub.status.idle": "2025-10-27T14:01:49.039674Z",
     "shell.execute_reply": "2025-10-27T14:01:49.039138Z",
     "shell.execute_reply.started": "2025-10-27T14:01:49.027842Z"
    },
    "tags": []
   },
   "outputs": [],
   "source": [
    "def parse_config(config_path):\n",
    "    with open(config_path) as f:\n",
    "        params = json.load(f)\n",
    "    \n",
    "    return params"
   ]
  },
  {
   "cell_type": "code",
   "execution_count": 6,
   "id": "91a5a3e6-5874-4b8f-8be6-e23d0960f98e",
   "metadata": {
    "execution": {
     "iopub.execute_input": "2025-10-27T14:01:52.926387Z",
     "iopub.status.busy": "2025-10-27T14:01:52.926106Z",
     "iopub.status.idle": "2025-10-27T14:01:52.941588Z",
     "shell.execute_reply": "2025-10-27T14:01:52.941087Z",
     "shell.execute_reply.started": "2025-10-27T14:01:52.926370Z"
    },
    "tags": []
   },
   "outputs": [
    {
     "name": "stdout",
     "output_type": "stream",
     "text": [
      "Training config: \n",
      "{\n",
      "  \"experiment_name\": \"tuned_tiger_beauty_kmeans\",\n",
      "  \"dataset\": {\n",
      "    \"inter_json_path\": \"../data/Beauty/inter.json\",\n",
      "    \"index_json_path\": \"../data/Beauty/tuned_index_rqkmeans.json\",\n",
      "    \"num_codebooks\": 4,\n",
      "    \"max_sequence_length\": 20,\n",
      "    \"sampler_type\": \"tiger\"\n",
      "  },\n",
      "  \"dataloader\": {\n",
      "    \"train_batch_size\": 256,\n",
      "    \"validation_batch_size\": 256\n",
      "  },\n",
      "  \"model\": {\n",
      "    \"embedding_dim\": 128,\n",
      "    \"codebook_size\": 256,\n",
      "    \"num_positions\": 20,\n",
      "    \"user_ids_count\": 2000,\n",
      "    \"num_heads\": 6,\n",
      "    \"num_encoder_layers\": 4,\n",
      "    \"num_decoder_layers\": 4,\n",
      "    \"dim_feedforward\": 1024,\n",
      "    \"d_kv\": 64,\n",
      "    \"dropout\": 0.1,\n",
      "    \"activation\": \"relu\",\n",
      "    \"num_beams\": 100,\n",
      "    \"top_k\": 20,\n",
      "    \"layer_norm_eps\": 1e-06,\n",
      "    \"initializer_range\": 0.02\n",
      "  },\n",
      "  \"optimizer\": {\n",
      "    \"lr\": 0.0003\n",
      "  },\n",
      "  \"train_epochs_num\": 20\n",
      "}\n"
     ]
    }
   ],
   "source": [
    "# config = parse_config('configs/tiger_kmeans_train_config.json')\n",
    "config = parse_config('configs/tiger_tuned_kmeans_train_config.json')\n",
    "print('Training config: \\n{}'.format(json.dumps(config, indent=2)))"
   ]
  },
  {
   "cell_type": "code",
   "execution_count": 7,
   "id": "4aa40b20-9069-46dc-b85c-311c5d47dbe9",
   "metadata": {
    "execution": {
     "iopub.execute_input": "2025-10-27T14:01:57.371560Z",
     "iopub.status.busy": "2025-10-27T14:01:57.371198Z",
     "iopub.status.idle": "2025-10-27T14:01:57.449415Z",
     "shell.execute_reply": "2025-10-27T14:01:57.448959Z",
     "shell.execute_reply.started": "2025-10-27T14:01:57.371545Z"
    },
    "tags": []
   },
   "outputs": [],
   "source": [
    "SEED_VALUE = 42\n",
    "fix_random_seed(SEED_VALUE)"
   ]
  },
  {
   "cell_type": "code",
   "execution_count": 8,
   "id": "89bb7a2a-9001-49d9-a876-31b58cc07bda",
   "metadata": {
    "execution": {
     "iopub.execute_input": "2025-10-27T14:01:58.057468Z",
     "iopub.status.busy": "2025-10-27T14:01:58.057094Z",
     "iopub.status.idle": "2025-10-27T14:01:58.070394Z",
     "shell.execute_reply": "2025-10-27T14:01:58.069936Z",
     "shell.execute_reply.started": "2025-10-27T14:01:58.057452Z"
    },
    "tags": []
   },
   "outputs": [
    {
     "name": "stdout",
     "output_type": "stream",
     "text": [
      "Current DEVICE: cuda\n"
     ]
    }
   ],
   "source": [
    "print('Current DEVICE: {}'.format(utils.DEVICE))"
   ]
  },
  {
   "cell_type": "code",
   "execution_count": 9,
   "id": "d14f549c-ab9f-4a3b-a79a-bed33533d160",
   "metadata": {
    "execution": {
     "iopub.execute_input": "2025-10-27T14:02:14.809651Z",
     "iopub.status.busy": "2025-10-27T14:02:14.809325Z",
     "iopub.status.idle": "2025-10-27T14:02:15.474137Z",
     "shell.execute_reply": "2025-10-27T14:02:15.473657Z",
     "shell.execute_reply.started": "2025-10-27T14:02:14.809635Z"
    },
    "tags": []
   },
   "outputs": [
    {
     "name": "stderr",
     "output_type": "stream",
     "text": [
      "[2025-10-27 14:02:15] [INFO]: Train dataset size: 131413\n",
      "[2025-10-27 14:02:15] [INFO]: Validation dataset size: 22363\n",
      "[2025-10-27 14:02:15] [INFO]: Test dataset size: 22363\n",
      "[2025-10-27 14:02:15] [INFO]: Max item id: 12100\n"
     ]
    }
   ],
   "source": [
    "dataset = Dataset.create(\n",
    "    inter_json_path=config['dataset']['inter_json_path'],\n",
    "    max_sequence_length=config['dataset']['max_sequence_length'],\n",
    "    sampler_type=config['dataset']['sampler_type'],\n",
    "    is_extended=True\n",
    ")\n",
    "train_sampler, validation_sampler, test_sampler = dataset.get_samplers()\n",
    "num_codebooks = config['dataset']['num_codebooks']\n",
    "user_ids_count = config['model']['user_ids_count']"
   ]
  },
  {
   "cell_type": "code",
   "execution_count": 10,
   "id": "e3208c8c-3433-41dd-a639-a245d0772617",
   "metadata": {
    "execution": {
     "iopub.execute_input": "2025-10-27T14:02:18.797026Z",
     "iopub.status.busy": "2025-10-27T14:02:18.796759Z",
     "iopub.status.idle": "2025-10-27T14:02:19.232239Z",
     "shell.execute_reply": "2025-10-27T14:02:19.231674Z",
     "shell.execute_reply.started": "2025-10-27T14:02:18.797010Z"
    },
    "tags": []
   },
   "outputs": [],
   "source": [
    "batch_processor = BatchProcessor.create(\n",
    "    config['dataset']['index_json_path'], num_codebooks, user_ids_count\n",
    ")\n",
    "\n",
    "train_dataloader = DataLoader(\n",
    "    dataset=train_sampler,\n",
    "    batch_size=config['dataloader']['train_batch_size'],\n",
    "    drop_last=True,\n",
    "    shuffle=True,\n",
    "    collate_fn=batch_processor\n",
    ")\n",
    "\n",
    "validation_dataloader = DataLoader(\n",
    "    dataset=validation_sampler,\n",
    "    batch_size=config['dataloader']['validation_batch_size'],\n",
    "    drop_last=False,\n",
    "    shuffle=False,\n",
    "    collate_fn=batch_processor\n",
    ")\n",
    "\n",
    "eval_dataloader = DataLoader(\n",
    "    dataset=test_sampler,\n",
    "    batch_size=config['dataloader']['validation_batch_size'],\n",
    "    drop_last=False,\n",
    "    shuffle=False,\n",
    "    collate_fn=batch_processor\n",
    ")\n",
    "\n",
    "model = TigerModel(\n",
    "    embedding_dim=config['model']['embedding_dim'],\n",
    "    codebook_size=config['model']['codebook_size'],\n",
    "    sem_id_len=num_codebooks,\n",
    "    user_ids_count=user_ids_count,\n",
    "    num_positions=config['model']['num_positions'],\n",
    "    num_heads=config['model']['num_heads'],\n",
    "    num_encoder_layers=config['model']['num_encoder_layers'],\n",
    "    num_decoder_layers=config['model']['num_decoder_layers'],\n",
    "    dim_feedforward=config['model']['dim_feedforward'],\n",
    "    num_beams=config['model']['num_beams'],\n",
    "    num_return_sequences=config['model']['top_k'],\n",
    "    activation=config['model']['activation'],\n",
    "    d_kv=config['model']['d_kv'],\n",
    "    dropout=config['model']['dropout'],\n",
    "    layer_norm_eps=config['model']['layer_norm_eps'],\n",
    "    initializer_range=config['model']['initializer_range'],\n",
    "    logits_processor=partial(\n",
    "        CorrectItemsLogitsProcessor,\n",
    "        config['dataset']['num_codebooks'],\n",
    "        config['model']['codebook_size'],\n",
    "        config['dataset']['index_json_path'],\n",
    "        config['model']['num_beams']\n",
    "    )\n",
    ").to(utils.DEVICE)"
   ]
  },
  {
   "cell_type": "code",
   "execution_count": 11,
   "id": "03a99818-c192-4fa3-8442-06c90e6af859",
   "metadata": {
    "execution": {
     "iopub.execute_input": "2025-10-27T14:02:22.373408Z",
     "iopub.status.busy": "2025-10-27T14:02:22.373147Z",
     "iopub.status.idle": "2025-10-27T14:02:22.403159Z",
     "shell.execute_reply": "2025-10-27T14:02:22.402646Z",
     "shell.execute_reply.started": "2025-10-27T14:02:22.373392Z"
    },
    "tags": []
   },
   "outputs": [
    {
     "name": "stdout",
     "output_type": "stream",
     "text": [
      "Overall parameters: 5,236,352\n",
      "Trainable parameters: 5,236,352\n"
     ]
    }
   ],
   "source": [
    "total_params = sum(p.numel() for p in model.parameters())\n",
    "trainable_params = sum(p.numel() for p in model.parameters() if p.requires_grad)\n",
    "\n",
    "print(f'Overall parameters: {total_params:,}')\n",
    "print(f'Trainable parameters: {trainable_params:,}')"
   ]
  },
  {
   "cell_type": "code",
   "execution_count": 12,
   "id": "826980a0-94ff-4a83-9924-126978fd8b6e",
   "metadata": {
    "execution": {
     "iopub.execute_input": "2025-10-27T14:02:25.587095Z",
     "iopub.status.busy": "2025-10-27T14:02:25.586409Z",
     "iopub.status.idle": "2025-10-27T14:02:25.602557Z",
     "shell.execute_reply": "2025-10-27T14:02:25.602087Z",
     "shell.execute_reply.started": "2025-10-27T14:02:25.587076Z"
    },
    "tags": []
   },
   "outputs": [
    {
     "name": "stdout",
     "output_type": "stream",
     "text": [
      "Everything is ready for training process!\n"
     ]
    }
   ],
   "source": [
    "loss_function = IdentityLoss(\n",
    "    predictions_prefix='loss',\n",
    "    output_prefix='loss'\n",
    ")  # Passes through the loss computed inside the model without modification\n",
    "\n",
    "optimizer = torch.optim.AdamW(\n",
    "    model.parameters(),\n",
    "    lr=config['optimizer']['lr'],\n",
    ")\n",
    "\n",
    "codebook_size = config['model']['codebook_size']\n",
    "ranking_metrics = {\n",
    "    'ndcg@5': NDCGSemanticMetric(5, codebook_size, num_codebooks),\n",
    "    'ndcg@10': NDCGSemanticMetric(10, codebook_size, num_codebooks),\n",
    "    'ndcg@20': NDCGSemanticMetric(20, codebook_size, num_codebooks),\n",
    "    'recall@5': RecallSemanticMetric(5, codebook_size, num_codebooks),\n",
    "    'recall@10': RecallSemanticMetric(10, codebook_size, num_codebooks),\n",
    "    'recall@20': RecallSemanticMetric(20, codebook_size, num_codebooks)\n",
    "}\n",
    "\n",
    "print('Everything is ready for training process!')"
   ]
  },
  {
   "cell_type": "code",
   "execution_count": 13,
   "id": "26466a50-6e5d-4137-b6a2-2ff5a37163c5",
   "metadata": {
    "execution": {
     "iopub.execute_input": "2025-10-27T14:02:28.060289Z",
     "iopub.status.busy": "2025-10-27T14:02:28.060010Z",
     "iopub.status.idle": "2025-10-27T14:02:28.072590Z",
     "shell.execute_reply": "2025-10-27T14:02:28.072144Z",
     "shell.execute_reply.started": "2025-10-27T14:02:28.060274Z"
    },
    "tags": []
   },
   "outputs": [
    {
     "data": {
      "text/plain": [
       "20"
      ]
     },
     "execution_count": 13,
     "metadata": {},
     "output_type": "execute_result"
    }
   ],
   "source": [
    "config.get('train_epochs_num')"
   ]
  },
  {
   "cell_type": "code",
   "execution_count": null,
   "id": "1a987e64-c7db-4a3c-8636-a9b2cb1921c3",
   "metadata": {
    "execution": {
     "iopub.execute_input": "2025-10-27T14:02:31.093355Z",
     "iopub.status.busy": "2025-10-27T14:02:31.093096Z"
    },
    "tags": []
   },
   "outputs": [
    {
     "name": "stderr",
     "output_type": "stream",
     "text": [
      "[2025-10-27 14:02:31] [DEBUG]: Start training...\n",
      "[2025-10-27 14:02:31] [DEBUG]: Start epoch 0\n",
      "[2025-10-27 14:02:34] [DEBUG]: Running validation on step 0...\n",
      "[2025-10-27 14:04:01] [DEBUG]: Running validation on step 0 is done!\n",
      "[2025-10-27 14:04:01] [DEBUG]: Running eval on step 0...\n",
      "[2025-10-27 14:05:27] [DEBUG]: Running eval on step 0 is done!\n"
     ]
    },
    {
     "name": "stdout",
     "output_type": "stream",
     "text": [
      "0 0.0010496710470791757 0 0.0008125865693457602\n"
     ]
    },
    {
     "name": "stderr",
     "output_type": "stream",
     "text": [
      "[2025-10-27 14:05:44] [DEBUG]: Running validation on step 256...\n",
      "[2025-10-27 14:07:11] [DEBUG]: Running validation on step 256 is done!\n",
      "[2025-10-27 14:07:11] [DEBUG]: Running eval on step 256...\n",
      "[2025-10-27 14:08:36] [DEBUG]: Running eval on step 256 is done!\n"
     ]
    },
    {
     "name": "stdout",
     "output_type": "stream",
     "text": [
      "256 0.004906057839033691 0.0010496710470791757 0.004069395047823091\n"
     ]
    },
    {
     "name": "stderr",
     "output_type": "stream",
     "text": [
      "[2025-10-27 14:08:53] [DEBUG]: Running validation on step 512...\n",
      "[2025-10-27 14:10:19] [DEBUG]: Running validation on step 512 is done!\n",
      "[2025-10-27 14:10:19] [DEBUG]: Running eval on step 512...\n",
      "[2025-10-27 14:11:45] [DEBUG]: Running eval on step 512 is done!\n",
      "[2025-10-27 14:11:45] [DEBUG]: Start epoch 1\n"
     ]
    },
    {
     "name": "stdout",
     "output_type": "stream",
     "text": [
      "512 0.02244365144803689 0.004906057839033691 0.01850882569584571\n"
     ]
    },
    {
     "name": "stderr",
     "output_type": "stream",
     "text": [
      "[2025-10-27 14:12:02] [DEBUG]: Running validation on step 768...\n",
      "[2025-10-27 14:13:29] [DEBUG]: Running validation on step 768 is done!\n",
      "[2025-10-27 14:13:29] [DEBUG]: Running eval on step 768...\n",
      "[2025-10-27 14:14:56] [DEBUG]: Running eval on step 768 is done!\n"
     ]
    },
    {
     "name": "stdout",
     "output_type": "stream",
     "text": [
      "768 0.0281254130343613 0.02244365144803689 0.023229888248666425\n"
     ]
    },
    {
     "name": "stderr",
     "output_type": "stream",
     "text": [
      "[2025-10-27 14:15:13] [DEBUG]: Running validation on step 1024...\n",
      "[2025-10-27 14:16:40] [DEBUG]: Running validation on step 1024 is done!\n",
      "[2025-10-27 14:16:40] [DEBUG]: Running eval on step 1024...\n",
      "[2025-10-27 14:18:07] [DEBUG]: Running eval on step 1024 is done!\n"
     ]
    },
    {
     "name": "stdout",
     "output_type": "stream",
     "text": [
      "1024 0.03278981841514582 0.0281254130343613 0.027272319416424533\n"
     ]
    },
    {
     "name": "stderr",
     "output_type": "stream",
     "text": [
      "[2025-10-27 14:18:08] [DEBUG]: Start epoch 2\n",
      "[2025-10-27 14:18:24] [DEBUG]: Running validation on step 1280...\n",
      "[2025-10-27 14:19:51] [DEBUG]: Running validation on step 1280 is done!\n",
      "[2025-10-27 14:19:51] [DEBUG]: Running eval on step 1280...\n",
      "[2025-10-27 14:21:18] [DEBUG]: Running eval on step 1280 is done!\n"
     ]
    },
    {
     "name": "stdout",
     "output_type": "stream",
     "text": [
      "1280 0.03634340816038706 0.03278981841514582 0.030893286291566673\n"
     ]
    },
    {
     "name": "stderr",
     "output_type": "stream",
     "text": [
      "[2025-10-27 14:21:35] [DEBUG]: Running validation on step 1536...\n",
      "[2025-10-27 14:23:02] [DEBUG]: Running validation on step 1536 is done!\n",
      "[2025-10-27 14:23:02] [DEBUG]: Running eval on step 1536...\n",
      "[2025-10-27 14:24:30] [DEBUG]: Running eval on step 1536 is done!\n"
     ]
    },
    {
     "name": "stdout",
     "output_type": "stream",
     "text": [
      "1536 0.037301556051526394 0.03634340816038706 0.03162639236861188\n"
     ]
    },
    {
     "name": "stderr",
     "output_type": "stream",
     "text": [
      "[2025-10-27 14:24:30] [DEBUG]: Start epoch 3\n",
      "[2025-10-27 14:24:47] [DEBUG]: Running validation on step 1792...\n",
      "[2025-10-27 14:26:13] [DEBUG]: Running validation on step 1792 is done!\n",
      "[2025-10-27 14:26:13] [DEBUG]: Running eval on step 1792...\n",
      "[2025-10-27 14:27:40] [DEBUG]: Running eval on step 1792 is done!\n"
     ]
    },
    {
     "name": "stdout",
     "output_type": "stream",
     "text": [
      "1792 0.038786380193727425 0.037301556051526394 0.03279020944485717\n"
     ]
    },
    {
     "name": "stderr",
     "output_type": "stream",
     "text": [
      "[2025-10-27 14:27:57] [DEBUG]: Running validation on step 2048...\n",
      "[2025-10-27 14:29:24] [DEBUG]: Running validation on step 2048 is done!\n",
      "[2025-10-27 14:29:24] [DEBUG]: Running eval on step 2048...\n",
      "[2025-10-27 14:30:51] [DEBUG]: Running eval on step 2048 is done!\n",
      "[2025-10-27 14:30:51] [DEBUG]: Start epoch 4\n",
      "[2025-10-27 14:31:08] [DEBUG]: Running validation on step 2304...\n",
      "[2025-10-27 14:32:34] [DEBUG]: Running validation on step 2304 is done!\n",
      "[2025-10-27 14:32:34] [DEBUG]: Running eval on step 2304...\n",
      "[2025-10-27 14:34:01] [DEBUG]: Running eval on step 2304 is done!\n"
     ]
    },
    {
     "name": "stdout",
     "output_type": "stream",
     "text": [
      "2304 0.040095501425963194 0.038786380193727425 0.03572554592089305\n"
     ]
    },
    {
     "name": "stderr",
     "output_type": "stream",
     "text": [
      "[2025-10-27 14:34:18] [DEBUG]: Running validation on step 2560...\n",
      "[2025-10-27 14:35:45] [DEBUG]: Running validation on step 2560 is done!\n",
      "[2025-10-27 14:35:45] [DEBUG]: Running eval on step 2560...\n",
      "[2025-10-27 14:37:12] [DEBUG]: Running eval on step 2560 is done!\n"
     ]
    },
    {
     "name": "stdout",
     "output_type": "stream",
     "text": [
      "2560 0.04054108637406351 0.040095501425963194 0.03483867499870238\n"
     ]
    },
    {
     "name": "stderr",
     "output_type": "stream",
     "text": [
      "[2025-10-27 14:37:12] [DEBUG]: Start epoch 5\n",
      "[2025-10-27 14:37:28] [DEBUG]: Running validation on step 2816...\n",
      "[2025-10-27 14:38:56] [DEBUG]: Running validation on step 2816 is done!\n",
      "[2025-10-27 14:38:56] [DEBUG]: Running eval on step 2816...\n",
      "[2025-10-27 14:40:22] [DEBUG]: Running eval on step 2816 is done!\n"
     ]
    },
    {
     "name": "stdout",
     "output_type": "stream",
     "text": [
      "2816 0.041729748115121416 0.04054108637406351 0.03611154504407205\n"
     ]
    },
    {
     "name": "stderr",
     "output_type": "stream",
     "text": [
      "[2025-10-27 14:40:39] [DEBUG]: Running validation on step 3072...\n",
      "[2025-10-27 14:42:06] [DEBUG]: Running validation on step 3072 is done!\n",
      "[2025-10-27 14:42:06] [DEBUG]: Running eval on step 3072...\n",
      "[2025-10-27 14:43:34] [DEBUG]: Running eval on step 3072 is done!\n"
     ]
    },
    {
     "name": "stdout",
     "output_type": "stream",
     "text": [
      "3072 0.042905849957063126 0.041729748115121416 0.03621697930054988\n"
     ]
    },
    {
     "name": "stderr",
     "output_type": "stream",
     "text": [
      "[2025-10-27 14:43:34] [DEBUG]: Start epoch 6\n",
      "[2025-10-27 14:43:50] [DEBUG]: Running validation on step 3328...\n",
      "[2025-10-27 14:45:17] [DEBUG]: Running validation on step 3328 is done!\n",
      "[2025-10-27 14:45:17] [DEBUG]: Running eval on step 3328...\n",
      "[2025-10-27 14:46:44] [DEBUG]: Running eval on step 3328 is done!\n"
     ]
    },
    {
     "name": "stdout",
     "output_type": "stream",
     "text": [
      "3328 0.04372398984129439 0.042905849957063126 0.03827312872282205\n"
     ]
    },
    {
     "name": "stderr",
     "output_type": "stream",
     "text": [
      "[2025-10-27 14:47:01] [DEBUG]: Running validation on step 3584...\n",
      "[2025-10-27 14:48:28] [DEBUG]: Running validation on step 3584 is done!\n",
      "[2025-10-27 14:48:28] [DEBUG]: Running eval on step 3584...\n",
      "[2025-10-27 14:49:55] [DEBUG]: Running eval on step 3584 is done!\n",
      "[2025-10-27 14:49:56] [DEBUG]: Start epoch 7\n",
      "[2025-10-27 14:50:13] [DEBUG]: Running validation on step 3840...\n",
      "[2025-10-27 14:51:39] [DEBUG]: Running validation on step 3840 is done!\n",
      "[2025-10-27 14:51:39] [DEBUG]: Running eval on step 3840...\n",
      "[2025-10-27 14:53:06] [DEBUG]: Running eval on step 3840 is done!\n"
     ]
    },
    {
     "name": "stdout",
     "output_type": "stream",
     "text": [
      "3840 0.04449970371148638 0.04372398984129439 0.03899691105275388\n"
     ]
    }
   ],
   "source": [
    "trainer = Trainer(\n",
    "    experiment_name=config['experiment_name'],\n",
    "    train_dataloader=train_dataloader,\n",
    "    validation_dataloader=validation_dataloader,\n",
    "    eval_dataloader=eval_dataloader,\n",
    "    model=model,\n",
    "    optimizer=optimizer,\n",
    "    loss_function=loss_function,\n",
    "    ranking_metrics=ranking_metrics,\n",
    "    epoch_cnt=config.get('train_epochs_num'),\n",
    "    step_cnt=config.get('train_steps_num'),\n",
    "    best_metric='ndcg@20',\n",
    "    epochs_threshold=config.get('early_stopping_threshold', 40),\n",
    "    valid_step=256,\n",
    "    eval_step=256\n",
    ")\n",
    "\n",
    "best_checkpoint = trainer.train()\n",
    "trainer.save()\n",
    "\n",
    "print('Training finished!')"
   ]
  },
  {
   "cell_type": "code",
   "execution_count": null,
   "id": "9561ecfe-e7fe-4995-b190-46ca2f916a49",
   "metadata": {
    "tags": []
   },
   "outputs": [],
   "source": [
    "print('Final evaluation is being performed...')\n",
    "\n",
    "trainer.load(best_checkpoint)\n",
    "trainer.eval()"
   ]
  },
  {
   "cell_type": "markdown",
   "id": "ac5cb951-345d-4a67-9046-1d5bfeae0d34",
   "metadata": {},
   "source": [
    "Eval from file checkpoint"
   ]
  },
  {
   "cell_type": "code",
   "execution_count": 15,
   "id": "34d12dce-30fd-4538-8a14-f418ca67a177",
   "metadata": {
    "execution": {
     "iopub.execute_input": "2025-10-25T09:51:13.020305Z",
     "iopub.status.busy": "2025-10-25T09:51:13.019861Z",
     "iopub.status.idle": "2025-10-25T09:52:38.640917Z",
     "shell.execute_reply": "2025-10-25T09:52:38.640111Z",
     "shell.execute_reply.started": "2025-10-25T09:51:13.020280Z"
    },
    "tags": []
   },
   "outputs": [
    {
     "name": "stderr",
     "output_type": "stream",
     "text": [
      "/tmp/ipykernel_23294/3603050627.py:4: FutureWarning: You are using `torch.load` with `weights_only=False` (the current default value), which uses the default pickle module implicitly. It is possible to construct malicious pickle data which will execute arbitrary code during unpickling (See https://github.com/pytorch/pytorch/blob/main/SECURITY.md#untrusted-models for more details). In a future release, the default value for `weights_only` will be flipped to `True`. This limits the functions that could be executed during unpickling. Arbitrary objects will no longer be allowed to be loaded via this mode unless they are explicitly allowlisted by the user via `torch.serialization.add_safe_globals`. We recommend you start setting `weights_only=True` for any use case where you don't have full control of the loaded file. Please open an issue on GitHub for any issues related to this experimental feature.\n",
      "  state_dict = torch.load(checkpoint_path, map_location=utils.DEVICE)\n",
      "[2025-10-25 09:51:13] [DEBUG]: Running eval on step 0...\n",
      "[2025-10-25 09:52:38] [DEBUG]: Running eval on step 0 is done!\n"
     ]
    },
    {
     "name": "stdout",
     "output_type": "stream",
     "text": [
      "ndcg@5 0.022584518243720333\n",
      "ndcg@10 0.028540282975111846\n",
      "ndcg@20 0.03560548419336809\n",
      "recall@5 0.035147341591020884\n",
      "recall@10 0.05374949693690471\n",
      "recall@20 0.08187631355363771\n"
     ]
    }
   ],
   "source": [
    "from pathlib import Path\n",
    "\n",
    "checkpoint_path = Path(f\"../checkpoints/{config['experiment_name']}_final_state.pth\")\n",
    "state_dict = torch.load(checkpoint_path, map_location=utils.DEVICE)\n",
    "\n",
    "trainer.load(state_dict)\n",
    "trainer.eval()"
   ]
  },
  {
   "cell_type": "code",
   "execution_count": null,
   "id": "50958f2f-67e9-40ac-adeb-f1391de1943c",
   "metadata": {},
   "outputs": [],
   "source": []
  }
 ],
 "metadata": {
  "kernelspec": {
   "display_name": "DataSphere Kernel",
   "language": "python",
   "name": "python3"
  },
  "language_info": {
   "codemirror_mode": {
    "name": "ipython",
    "version": 3
   },
   "file_extension": ".py",
   "mimetype": "text/x-python",
   "name": "python",
   "nbconvert_exporter": "python",
   "pygments_lexer": "ipython3",
   "version": "3.10.12"
  }
 },
 "nbformat": 4,
 "nbformat_minor": 5
}
