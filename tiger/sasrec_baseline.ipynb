{
 "cells": [
  {
   "cell_type": "markdown",
   "id": "a3cc42a8-8ecf-49fa-aee3-f4b8b549c229",
   "metadata": {},
   "source": [
    "Docker pure python 3.11 build (DataSphere 1 GPU A100 • 28 vCPUs • 119 ГБ RAM1 GPU A100 • 28 vCPUs • 119 ГБ RAM)\n",
    "```\n",
    "FROM ubuntu:22.04\n",
    "ENV DEBIAN_FRONTEND=noninteractive\n",
    "\n",
    "RUN apt-get update && apt-get install -y --no-install-recommends \\\n",
    "      ca-certificates \\\n",
    "      python3.11 python3.11-venv python3.11-distutils \\\n",
    "      python3-pip \\\n",
    "    && ln -sf /usr/bin/python3.11 /usr/bin/python3 \\\n",
    "    && ln -sf /usr/bin/pip3 /usr/bin/pip \\\n",
    "    && python3 -m pip install -U pip \\\n",
    "    && rm -rf /var/lib/apt/lists/*\n",
    "\n",
    "RUN useradd -ms /bin/bash --uid 1000 jupyter\n",
    "USER jupyter\n",
    "WORKDIR /home/jupyter\n",
    "```"
   ]
  },
  {
   "cell_type": "code",
   "execution_count": 3,
   "id": "5b41c2f5-e0ea-4cca-8ac6-8ec9d75bdec8",
   "metadata": {
    "execution": {
     "iopub.execute_input": "2025-10-20T18:48:00.135181Z",
     "iopub.status.busy": "2025-10-20T18:48:00.134869Z",
     "iopub.status.idle": "2025-10-20T18:48:00.184200Z",
     "shell.execute_reply": "2025-10-20T18:48:00.183717Z",
     "shell.execute_reply.started": "2025-10-20T18:48:00.135166Z"
    },
    "tags": []
   },
   "outputs": [
    {
     "name": "stdout",
     "output_type": "stream",
     "text": [
      "Python 3.11.0rc1\n"
     ]
    }
   ],
   "source": [
    "!python3 --version"
   ]
  },
  {
   "cell_type": "code",
   "execution_count": 4,
   "id": "9d7f8b57-74a7-4d89-9945-c8c87c1f686a",
   "metadata": {
    "execution": {
     "iopub.execute_input": "2025-10-20T18:48:01.779480Z",
     "iopub.status.busy": "2025-10-20T18:48:01.779214Z",
     "iopub.status.idle": "2025-10-20T18:48:08.373263Z",
     "shell.execute_reply": "2025-10-20T18:48:08.372723Z",
     "shell.execute_reply.started": "2025-10-20T18:48:01.779464Z"
    },
    "tags": []
   },
   "outputs": [
    {
     "name": "stdout",
     "output_type": "stream",
     "text": [
      "Defaulting to user installation because normal site-packages is not writeable\n",
      "Requirement already satisfied: murmurhash==1.0.13 in /home/jupyter/.local/lib/python3.11/site-packages (1.0.13)\n",
      "\n",
      "\u001b[1m[\u001b[0m\u001b[34;49mnotice\u001b[0m\u001b[1;39;49m]\u001b[0m\u001b[39;49m A new release of pip is available: \u001b[0m\u001b[31;49m24.0\u001b[0m\u001b[39;49m -> \u001b[0m\u001b[32;49m25.2\u001b[0m\n",
      "\u001b[1m[\u001b[0m\u001b[34;49mnotice\u001b[0m\u001b[1;39;49m]\u001b[0m\u001b[39;49m To update, run: \u001b[0m\u001b[32;49mpython3 -m pip install --upgrade pip\u001b[0m\n",
      "Defaulting to user installation because normal site-packages is not writeable\n",
      "Requirement already satisfied: numpy==2.1.2 in /home/jupyter/.local/lib/python3.11/site-packages (2.1.2)\n",
      "\n",
      "\u001b[1m[\u001b[0m\u001b[34;49mnotice\u001b[0m\u001b[1;39;49m]\u001b[0m\u001b[39;49m A new release of pip is available: \u001b[0m\u001b[31;49m24.0\u001b[0m\u001b[39;49m -> \u001b[0m\u001b[32;49m25.2\u001b[0m\n",
      "\u001b[1m[\u001b[0m\u001b[34;49mnotice\u001b[0m\u001b[1;39;49m]\u001b[0m\u001b[39;49m To update, run: \u001b[0m\u001b[32;49mpython3 -m pip install --upgrade pip\u001b[0m\n",
      "Defaulting to user installation because normal site-packages is not writeable\n",
      "Requirement already satisfied: tensorboard==2.20.0 in /home/jupyter/.local/lib/python3.11/site-packages (2.20.0)\n",
      "Requirement already satisfied: absl-py>=0.4 in /home/jupyter/.local/lib/python3.11/site-packages (from tensorboard==2.20.0) (2.3.1)\n",
      "Requirement already satisfied: grpcio>=1.48.2 in /home/jupyter/.local/lib/python3.11/site-packages (from tensorboard==2.20.0) (1.75.1)\n",
      "Requirement already satisfied: markdown>=2.6.8 in /home/jupyter/.local/lib/python3.11/site-packages (from tensorboard==2.20.0) (3.9)\n",
      "Requirement already satisfied: numpy>=1.12.0 in /home/jupyter/.local/lib/python3.11/site-packages (from tensorboard==2.20.0) (2.1.2)\n",
      "Requirement already satisfied: packaging in /home/jupyter/.local/lib/python3.11/site-packages (from tensorboard==2.20.0) (25.0)\n",
      "Requirement already satisfied: pillow in /home/jupyter/.local/lib/python3.11/site-packages (from tensorboard==2.20.0) (12.0.0)\n",
      "Requirement already satisfied: protobuf!=4.24.0,>=3.19.6 in /home/jupyter/.local/lib/python3.11/site-packages (from tensorboard==2.20.0) (6.33.0)\n",
      "Requirement already satisfied: setuptools>=41.0.0 in /kernel/lib/python3.11/site-packages (from tensorboard==2.20.0) (65.5.0)\n",
      "Requirement already satisfied: tensorboard-data-server<0.8.0,>=0.7.0 in /home/jupyter/.local/lib/python3.11/site-packages (from tensorboard==2.20.0) (0.7.2)\n",
      "Requirement already satisfied: werkzeug>=1.0.1 in /home/jupyter/.local/lib/python3.11/site-packages (from tensorboard==2.20.0) (3.1.3)\n",
      "Requirement already satisfied: typing-extensions~=4.12 in /home/jupyter/.local/lib/python3.11/site-packages (from grpcio>=1.48.2->tensorboard==2.20.0) (4.15.0)\n",
      "Requirement already satisfied: MarkupSafe>=2.1.1 in /home/jupyter/.local/lib/python3.11/site-packages (from werkzeug>=1.0.1->tensorboard==2.20.0) (3.0.3)\n",
      "\n",
      "\u001b[1m[\u001b[0m\u001b[34;49mnotice\u001b[0m\u001b[1;39;49m]\u001b[0m\u001b[39;49m A new release of pip is available: \u001b[0m\u001b[31;49m24.0\u001b[0m\u001b[39;49m -> \u001b[0m\u001b[32;49m25.2\u001b[0m\n",
      "\u001b[1m[\u001b[0m\u001b[34;49mnotice\u001b[0m\u001b[1;39;49m]\u001b[0m\u001b[39;49m To update, run: \u001b[0m\u001b[32;49mpython3 -m pip install --upgrade pip\u001b[0m\n",
      "Defaulting to user installation because normal site-packages is not writeable\n",
      "Requirement already satisfied: transformers==4.50.3 in /home/jupyter/.local/lib/python3.11/site-packages (4.50.3)\n",
      "Requirement already satisfied: filelock in /home/jupyter/.local/lib/python3.11/site-packages (from transformers==4.50.3) (3.20.0)\n",
      "Requirement already satisfied: huggingface-hub<1.0,>=0.26.0 in /home/jupyter/.local/lib/python3.11/site-packages (from transformers==4.50.3) (0.35.3)\n",
      "Requirement already satisfied: numpy>=1.17 in /home/jupyter/.local/lib/python3.11/site-packages (from transformers==4.50.3) (2.1.2)\n",
      "Requirement already satisfied: packaging>=20.0 in /home/jupyter/.local/lib/python3.11/site-packages (from transformers==4.50.3) (25.0)\n",
      "Requirement already satisfied: pyyaml>=5.1 in /home/jupyter/.local/lib/python3.11/site-packages (from transformers==4.50.3) (6.0.3)\n",
      "Requirement already satisfied: regex!=2019.12.17 in /home/jupyter/.local/lib/python3.11/site-packages (from transformers==4.50.3) (2025.9.18)\n",
      "Requirement already satisfied: requests in /kernel/fallback/lib/python3.11/site-packages (from transformers==4.50.3) (2.31.0)\n",
      "Requirement already satisfied: tokenizers<0.22,>=0.21 in /home/jupyter/.local/lib/python3.11/site-packages (from transformers==4.50.3) (0.21.4)\n",
      "Requirement already satisfied: safetensors>=0.4.3 in /home/jupyter/.local/lib/python3.11/site-packages (from transformers==4.50.3) (0.6.2)\n",
      "Requirement already satisfied: tqdm>=4.27 in /home/jupyter/.local/lib/python3.11/site-packages (from transformers==4.50.3) (4.67.1)\n",
      "Requirement already satisfied: fsspec>=2023.5.0 in /home/jupyter/.local/lib/python3.11/site-packages (from huggingface-hub<1.0,>=0.26.0->transformers==4.50.3) (2025.9.0)\n",
      "Requirement already satisfied: typing-extensions>=3.7.4.3 in /home/jupyter/.local/lib/python3.11/site-packages (from huggingface-hub<1.0,>=0.26.0->transformers==4.50.3) (4.15.0)\n",
      "Requirement already satisfied: hf-xet<2.0.0,>=1.1.3 in /home/jupyter/.local/lib/python3.11/site-packages (from huggingface-hub<1.0,>=0.26.0->transformers==4.50.3) (1.1.10)\n",
      "Requirement already satisfied: charset-normalizer<4,>=2 in /kernel/fallback/lib/python3.11/site-packages (from requests->transformers==4.50.3) (3.4.3)\n",
      "Requirement already satisfied: idna<4,>=2.5 in /kernel/fallback/lib/python3.11/site-packages (from requests->transformers==4.50.3) (3.10)\n",
      "Requirement already satisfied: urllib3<3,>=1.21.1 in /kernel/fallback/lib/python3.11/site-packages (from requests->transformers==4.50.3) (1.25.11)\n",
      "Requirement already satisfied: certifi>=2017.4.17 in /kernel/fallback/lib/python3.11/site-packages (from requests->transformers==4.50.3) (2025.8.3)\n",
      "\n",
      "\u001b[1m[\u001b[0m\u001b[34;49mnotice\u001b[0m\u001b[1;39;49m]\u001b[0m\u001b[39;49m A new release of pip is available: \u001b[0m\u001b[31;49m24.0\u001b[0m\u001b[39;49m -> \u001b[0m\u001b[32;49m25.2\u001b[0m\n",
      "\u001b[1m[\u001b[0m\u001b[34;49mnotice\u001b[0m\u001b[1;39;49m]\u001b[0m\u001b[39;49m To update, run: \u001b[0m\u001b[32;49mpython3 -m pip install --upgrade pip\u001b[0m\n"
     ]
    }
   ],
   "source": [
    "%pip install murmurhash==1.0.13\n",
    "%pip install numpy==2.1.2\n",
    "%pip install tensorboard==2.20.0\n",
    "%pip install transformers==4.50.3"
   ]
  },
  {
   "cell_type": "code",
   "execution_count": 5,
   "id": "1cb7ef65-151d-4125-ac26-7aec66da389d",
   "metadata": {
    "execution": {
     "iopub.execute_input": "2025-10-20T18:48:11.462303Z",
     "iopub.status.busy": "2025-10-20T18:48:11.461847Z",
     "iopub.status.idle": "2025-10-20T18:48:12.740167Z",
     "shell.execute_reply": "2025-10-20T18:48:12.739664Z",
     "shell.execute_reply.started": "2025-10-20T18:48:11.462282Z"
    },
    "tags": []
   },
   "outputs": [
    {
     "name": "stdout",
     "output_type": "stream",
     "text": [
      "Defaulting to user installation because normal site-packages is not writeable\n",
      "Looking in indexes: https://download.pytorch.org/whl/cu121\n",
      "Requirement already satisfied: torch==2.5.1+cu121 in /home/jupyter/.local/lib/python3.11/site-packages (2.5.1+cu121)\n",
      "Requirement already satisfied: filelock in /home/jupyter/.local/lib/python3.11/site-packages (from torch==2.5.1+cu121) (3.20.0)\n",
      "Requirement already satisfied: typing-extensions>=4.8.0 in /home/jupyter/.local/lib/python3.11/site-packages (from torch==2.5.1+cu121) (4.15.0)\n",
      "Requirement already satisfied: networkx in /home/jupyter/.local/lib/python3.11/site-packages (from torch==2.5.1+cu121) (3.5)\n",
      "Requirement already satisfied: jinja2 in /home/jupyter/.local/lib/python3.11/site-packages (from torch==2.5.1+cu121) (3.1.6)\n",
      "Requirement already satisfied: fsspec in /home/jupyter/.local/lib/python3.11/site-packages (from torch==2.5.1+cu121) (2025.9.0)\n",
      "Requirement already satisfied: nvidia-cuda-nvrtc-cu12==12.1.105 in /home/jupyter/.local/lib/python3.11/site-packages (from torch==2.5.1+cu121) (12.1.105)\n",
      "Requirement already satisfied: nvidia-cuda-runtime-cu12==12.1.105 in /home/jupyter/.local/lib/python3.11/site-packages (from torch==2.5.1+cu121) (12.1.105)\n",
      "Requirement already satisfied: nvidia-cuda-cupti-cu12==12.1.105 in /home/jupyter/.local/lib/python3.11/site-packages (from torch==2.5.1+cu121) (12.1.105)\n",
      "Requirement already satisfied: nvidia-cudnn-cu12==9.1.0.70 in /home/jupyter/.local/lib/python3.11/site-packages (from torch==2.5.1+cu121) (9.1.0.70)\n",
      "Requirement already satisfied: nvidia-cublas-cu12==12.1.3.1 in /home/jupyter/.local/lib/python3.11/site-packages (from torch==2.5.1+cu121) (12.1.3.1)\n",
      "Requirement already satisfied: nvidia-cufft-cu12==11.0.2.54 in /home/jupyter/.local/lib/python3.11/site-packages (from torch==2.5.1+cu121) (11.0.2.54)\n",
      "Requirement already satisfied: nvidia-curand-cu12==10.3.2.106 in /home/jupyter/.local/lib/python3.11/site-packages (from torch==2.5.1+cu121) (10.3.2.106)\n",
      "Requirement already satisfied: nvidia-cusolver-cu12==11.4.5.107 in /home/jupyter/.local/lib/python3.11/site-packages (from torch==2.5.1+cu121) (11.4.5.107)\n",
      "Requirement already satisfied: nvidia-cusparse-cu12==12.1.0.106 in /home/jupyter/.local/lib/python3.11/site-packages (from torch==2.5.1+cu121) (12.1.0.106)\n",
      "Requirement already satisfied: nvidia-nccl-cu12==2.21.5 in /home/jupyter/.local/lib/python3.11/site-packages (from torch==2.5.1+cu121) (2.21.5)\n",
      "Requirement already satisfied: nvidia-nvtx-cu12==12.1.105 in /home/jupyter/.local/lib/python3.11/site-packages (from torch==2.5.1+cu121) (12.1.105)\n",
      "Requirement already satisfied: triton==3.1.0 in /home/jupyter/.local/lib/python3.11/site-packages (from torch==2.5.1+cu121) (3.1.0)\n",
      "Requirement already satisfied: sympy==1.13.1 in /home/jupyter/.local/lib/python3.11/site-packages (from torch==2.5.1+cu121) (1.13.1)\n",
      "Requirement already satisfied: nvidia-nvjitlink-cu12 in /home/jupyter/.local/lib/python3.11/site-packages (from nvidia-cusolver-cu12==11.4.5.107->torch==2.5.1+cu121) (12.9.86)\n",
      "Requirement already satisfied: mpmath<1.4,>=1.1.0 in /home/jupyter/.local/lib/python3.11/site-packages (from sympy==1.13.1->torch==2.5.1+cu121) (1.3.0)\n",
      "Requirement already satisfied: MarkupSafe>=2.0 in /home/jupyter/.local/lib/python3.11/site-packages (from jinja2->torch==2.5.1+cu121) (3.0.3)\n",
      "\n",
      "\u001b[1m[\u001b[0m\u001b[34;49mnotice\u001b[0m\u001b[1;39;49m]\u001b[0m\u001b[39;49m A new release of pip is available: \u001b[0m\u001b[31;49m24.0\u001b[0m\u001b[39;49m -> \u001b[0m\u001b[32;49m25.2\u001b[0m\n",
      "\u001b[1m[\u001b[0m\u001b[34;49mnotice\u001b[0m\u001b[1;39;49m]\u001b[0m\u001b[39;49m To update, run: \u001b[0m\u001b[32;49mpython3 -m pip install --upgrade pip\u001b[0m\n"
     ]
    }
   ],
   "source": [
    "%pip install torch==2.5.1+cu121 --index-url https://download.pytorch.org/whl/cu121"
   ]
  },
  {
   "cell_type": "code",
   "execution_count": 6,
   "id": "e4937a5c-a855-4866-85df-956f18322c9b",
   "metadata": {
    "execution": {
     "iopub.execute_input": "2025-10-20T18:48:15.000386Z",
     "iopub.status.busy": "2025-10-20T18:48:15.000077Z",
     "iopub.status.idle": "2025-10-20T18:48:51.509188Z",
     "shell.execute_reply": "2025-10-20T18:48:51.508514Z",
     "shell.execute_reply.started": "2025-10-20T18:48:15.000366Z"
    },
    "tags": []
   },
   "outputs": [
    {
     "name": "stderr",
     "output_type": "stream",
     "text": [
      "/home/jupyter/.local/lib/python3.11/site-packages/transformers/utils/hub.py:105: FutureWarning: Using `TRANSFORMERS_CACHE` is deprecated and will be removed in v5 of Transformers. Use `HF_HOME` instead.\n",
      "  warnings.warn(\n",
      "/kernel/lib/python3.11/site-packages/_distutils_hack/__init__.py:18: UserWarning: Distutils was imported before Setuptools, but importing Setuptools also replaces the `distutils` module in `sys.modules`. This may lead to undesirable behaviors or errors. To avoid these issues, avoid using distutils directly, ensure that setuptools is installed in the traditional way (e.g. not an editable install), and/or make sure that setuptools is always imported before distutils.\n",
      "  warnings.warn(\n",
      "/kernel/lib/python3.11/site-packages/_distutils_hack/__init__.py:33: UserWarning: Setuptools is replacing distutils.\n",
      "  warnings.warn(\"Setuptools is replacing distutils.\")\n"
     ]
    }
   ],
   "source": [
    "import json\n",
    "\n",
    "import torch\n",
    "from torch.utils.data import DataLoader\n",
    "\n",
    "from modeling import utils\n",
    "from modeling.dataloader import BatchProcessor\n",
    "from modeling.dataset import Dataset\n",
    "from modeling.loss import BCELoss\n",
    "from modeling.metric import NDCGMetric, RecallMetric\n",
    "from modeling.models import SasRecModel\n",
    "from modeling.trainer import Trainer\n",
    "from modeling.utils import parse_args, create_logger, fix_random_seed"
   ]
  },
  {
   "cell_type": "code",
   "execution_count": 7,
   "id": "050afddf-89d7-4b68-bb48-b25d099f58cf",
   "metadata": {
    "execution": {
     "iopub.execute_input": "2025-10-20T18:48:51.510468Z",
     "iopub.status.busy": "2025-10-20T18:48:51.510138Z",
     "iopub.status.idle": "2025-10-20T18:48:51.518469Z",
     "shell.execute_reply": "2025-10-20T18:48:51.517938Z",
     "shell.execute_reply.started": "2025-10-20T18:48:51.510452Z"
    },
    "tags": []
   },
   "outputs": [],
   "source": [
    "def parse_config(config_path):\n",
    "    with open(config_path) as f:\n",
    "        params = json.load(f)\n",
    "    \n",
    "    return params"
   ]
  },
  {
   "cell_type": "code",
   "execution_count": 9,
   "id": "a259dba2-2dd9-457a-a988-3292bf7df870",
   "metadata": {
    "execution": {
     "iopub.execute_input": "2025-10-20T18:49:04.611307Z",
     "iopub.status.busy": "2025-10-20T18:49:04.610872Z",
     "iopub.status.idle": "2025-10-20T18:49:04.631672Z",
     "shell.execute_reply": "2025-10-20T18:49:04.631216Z",
     "shell.execute_reply.started": "2025-10-20T18:49:04.611279Z"
    },
    "tags": []
   },
   "outputs": [
    {
     "name": "stdout",
     "output_type": "stream",
     "text": [
      "Training config: \n",
      "{\n",
      "  \"experiment_name\": \"sasrec_beauty\",\n",
      "  \"dataset\": {\n",
      "    \"inter_json_path\": \"../data/Beauty/inter.json\",\n",
      "    \"max_sequence_length\": 20,\n",
      "    \"sampler_type\": \"sasrec\"\n",
      "  },\n",
      "  \"dataloader\": {\n",
      "    \"train_batch_size\": 256,\n",
      "    \"validation_batch_size\": 256\n",
      "  },\n",
      "  \"model\": {\n",
      "    \"embedding_dim\": 64,\n",
      "    \"num_heads\": 2,\n",
      "    \"num_layers\": 2,\n",
      "    \"dim_feedforward\": 256,\n",
      "    \"dropout\": 0.3,\n",
      "    \"activation\": \"relu\",\n",
      "    \"top_k\": 20,\n",
      "    \"layer_norm_eps\": 1e-08,\n",
      "    \"initializer_range\": 0.02\n",
      "  },\n",
      "  \"optimizer\": {\n",
      "    \"lr\": 0.001\n",
      "  }\n",
      "}\n"
     ]
    }
   ],
   "source": [
    "config = parse_config('configs/sasrec_train_config.json')\n",
    "print('Training config: \\n{}'.format(json.dumps(config, indent=2)))"
   ]
  },
  {
   "cell_type": "code",
   "execution_count": 10,
   "id": "4ee6b8ff-6667-42fe-9418-8e723fcee212",
   "metadata": {
    "execution": {
     "iopub.execute_input": "2025-10-20T18:49:08.298931Z",
     "iopub.status.busy": "2025-10-20T18:49:08.298709Z",
     "iopub.status.idle": "2025-10-20T18:49:08.361159Z",
     "shell.execute_reply": "2025-10-20T18:49:08.360733Z",
     "shell.execute_reply.started": "2025-10-20T18:49:08.298917Z"
    },
    "tags": []
   },
   "outputs": [],
   "source": [
    "SEED_VALUE = 42\n",
    "fix_random_seed(SEED_VALUE)"
   ]
  },
  {
   "cell_type": "code",
   "execution_count": 11,
   "id": "c86de9c4-cc03-490e-ad83-60fbac121f3d",
   "metadata": {
    "execution": {
     "iopub.execute_input": "2025-10-20T18:49:14.021703Z",
     "iopub.status.busy": "2025-10-20T18:49:14.021175Z",
     "iopub.status.idle": "2025-10-20T18:49:14.038261Z",
     "shell.execute_reply": "2025-10-20T18:49:14.037351Z",
     "shell.execute_reply.started": "2025-10-20T18:49:14.021687Z"
    },
    "tags": []
   },
   "outputs": [
    {
     "name": "stdout",
     "output_type": "stream",
     "text": [
      "Current DEVICE: cuda\n"
     ]
    }
   ],
   "source": [
    "print('Current DEVICE: {}'.format(utils.DEVICE))"
   ]
  },
  {
   "cell_type": "code",
   "execution_count": 12,
   "id": "b55e34e4-be74-44c1-b1f9-44678035148e",
   "metadata": {
    "execution": {
     "iopub.execute_input": "2025-10-20T18:49:17.121997Z",
     "iopub.status.busy": "2025-10-20T18:49:17.121771Z",
     "iopub.status.idle": "2025-10-20T18:49:17.207047Z",
     "shell.execute_reply": "2025-10-20T18:49:17.206595Z",
     "shell.execute_reply.started": "2025-10-20T18:49:17.121984Z"
    },
    "tags": []
   },
   "outputs": [
    {
     "name": "stderr",
     "output_type": "stream",
     "text": [
      "[2025-10-20 18:49:17] [INFO]: Train dataset size: 22363\n",
      "[2025-10-20 18:49:17] [INFO]: Validation dataset size: 22363\n",
      "[2025-10-20 18:49:17] [INFO]: Test dataset size: 22363\n",
      "[2025-10-20 18:49:17] [INFO]: Max item id: 12100\n"
     ]
    }
   ],
   "source": [
    "dataset = Dataset.create(\n",
    "    inter_json_path=config['dataset']['inter_json_path'],\n",
    "    max_sequence_length=config['dataset']['max_sequence_length'],\n",
    "    sampler_type=config['dataset']['sampler_type'],\n",
    "    is_extended=False\n",
    ")\n",
    "dataset_num_items = dataset.num_items\n",
    "dataset_max_sequence_length = dataset.max_sequence_length\n",
    "\n",
    "train_sampler, validation_sampler, test_sampler = dataset.get_samplers()"
   ]
  },
  {
   "cell_type": "code",
   "execution_count": 13,
   "id": "877c86c0-cd8b-48b9-80c2-f00db630c465",
   "metadata": {
    "execution": {
     "iopub.execute_input": "2025-10-20T18:49:19.828375Z",
     "iopub.status.busy": "2025-10-20T18:49:19.827580Z",
     "iopub.status.idle": "2025-10-20T18:49:20.160116Z",
     "shell.execute_reply": "2025-10-20T18:49:20.159485Z",
     "shell.execute_reply.started": "2025-10-20T18:49:19.828357Z"
    },
    "tags": []
   },
   "outputs": [],
   "source": [
    "batch_processor = BatchProcessor()\n",
    "\n",
    "train_dataloader = DataLoader(\n",
    "    dataset=train_sampler,\n",
    "    batch_size=config['dataloader']['train_batch_size'],\n",
    "    drop_last=True,\n",
    "    shuffle=True,\n",
    "    collate_fn=batch_processor\n",
    ")\n",
    "\n",
    "validation_dataloader = DataLoader(\n",
    "    dataset=validation_sampler,\n",
    "    batch_size=config['dataloader']['validation_batch_size'],\n",
    "    drop_last=False,\n",
    "    shuffle=False,\n",
    "    collate_fn=batch_processor\n",
    ")\n",
    "\n",
    "eval_dataloader = DataLoader(\n",
    "    dataset=test_sampler,\n",
    "    batch_size=config['dataloader']['validation_batch_size'],\n",
    "    drop_last=False,\n",
    "    shuffle=False,\n",
    "    collate_fn=batch_processor\n",
    ")\n",
    "\n",
    "model = SasRecModel(\n",
    "    num_items=dataset_num_items,\n",
    "    max_sequence_length=dataset_max_sequence_length,\n",
    "    embedding_dim=config['model']['embedding_dim'],\n",
    "    num_heads=config['model']['num_heads'],\n",
    "    num_layers=config['model']['num_layers'],\n",
    "    dim_feedforward=config['model']['dim_feedforward'],\n",
    "    activation=utils.get_activation_function(config['model']['activation']),\n",
    "    topk_k=config['model']['top_k'],\n",
    "    dropout=config['model']['dropout'],\n",
    "    layer_norm_eps=config['model']['layer_norm_eps'],\n",
    "    initializer_range=config['model']['initializer_range']\n",
    ").to(utils.DEVICE)"
   ]
  },
  {
   "cell_type": "code",
   "execution_count": 14,
   "id": "3a860255-6658-4b9e-875d-b846a33b3d43",
   "metadata": {
    "execution": {
     "iopub.execute_input": "2025-10-20T18:49:23.444509Z",
     "iopub.status.busy": "2025-10-20T18:49:23.444099Z",
     "iopub.status.idle": "2025-10-20T18:49:23.457752Z",
     "shell.execute_reply": "2025-10-20T18:49:23.457188Z",
     "shell.execute_reply.started": "2025-10-20T18:49:23.444484Z"
    },
    "tags": []
   },
   "outputs": [
    {
     "name": "stdout",
     "output_type": "stream",
     "text": [
      "Overall parameters: 875,712\n",
      "Trainable parameters: 875,712\n"
     ]
    }
   ],
   "source": [
    "total_params = sum(p.numel() for p in model.parameters())\n",
    "trainable_params = sum(p.numel() for p in model.parameters() if p.requires_grad)\n",
    "\n",
    "print(f'Overall parameters: {total_params:,}')\n",
    "print(f'Trainable parameters: {trainable_params:,}')"
   ]
  },
  {
   "cell_type": "code",
   "execution_count": 15,
   "id": "e8c6a533-5961-4e5d-a3d8-54153b3bfec4",
   "metadata": {
    "execution": {
     "iopub.execute_input": "2025-10-20T18:49:28.716647Z",
     "iopub.status.busy": "2025-10-20T18:49:28.716225Z",
     "iopub.status.idle": "2025-10-20T18:49:28.727972Z",
     "shell.execute_reply": "2025-10-20T18:49:28.727407Z",
     "shell.execute_reply.started": "2025-10-20T18:49:28.716622Z"
    },
    "tags": []
   },
   "outputs": [
    {
     "name": "stdout",
     "output_type": "stream",
     "text": [
      "Everything is ready for training process!\n"
     ]
    }
   ],
   "source": [
    "loss_function = BCELoss(\n",
    "    positive_prefix='positive_scores',\n",
    "    negative_prefix='negative_scores',\n",
    "    output_prefix='loss'\n",
    ")\n",
    "\n",
    "optimizer = torch.optim.AdamW(\n",
    "    model.parameters(),\n",
    "    lr=config['optimizer']['lr'],\n",
    ")\n",
    "\n",
    "ranking_metrics = {\n",
    "    'ndcg@5': NDCGMetric(5),\n",
    "    'ndcg@10': NDCGMetric(10),\n",
    "    'ndcg@20': NDCGMetric(20),\n",
    "    'recall@5': RecallMetric(5),\n",
    "    'recall@10': RecallMetric(10),\n",
    "    'recall@20': RecallMetric(20)\n",
    "}\n",
    "\n",
    "print('Everything is ready for training process!')"
   ]
  },
  {
   "cell_type": "code",
   "execution_count": 16,
   "id": "9c9468e2-079b-474e-ae4d-4dcdd3021dce",
   "metadata": {
    "execution": {
     "iopub.execute_input": "2025-10-20T18:49:33.443533Z",
     "iopub.status.busy": "2025-10-20T18:49:33.443107Z",
     "iopub.status.idle": "2025-10-20T18:51:54.381241Z",
     "shell.execute_reply": "2025-10-20T18:51:54.380601Z",
     "shell.execute_reply.started": "2025-10-20T18:49:33.443507Z"
    },
    "tags": []
   },
   "outputs": [
    {
     "name": "stderr",
     "output_type": "stream",
     "text": [
      "[2025-10-20 18:49:33] [DEBUG]: Start training...\n",
      "[2025-10-20 18:49:33] [DEBUG]: Start epoch 0\n",
      "[2025-10-20 18:49:35] [DEBUG]: Running validation on step 0...\n",
      "[2025-10-20 18:49:36] [DEBUG]: Running validation on step 0 is done!\n",
      "[2025-10-20 18:49:36] [DEBUG]: Running eval on step 0...\n",
      "[2025-10-20 18:49:37] [DEBUG]: Running eval on step 0 is done!\n"
     ]
    },
    {
     "name": "stdout",
     "output_type": "stream",
     "text": [
      "0 0.0005317691558482997 0 0.0003777147512159146\n"
     ]
    },
    {
     "name": "stderr",
     "output_type": "stream",
     "text": [
      "[2025-10-20 18:49:39] [DEBUG]: Start epoch 1\n",
      "[2025-10-20 18:49:40] [DEBUG]: Start epoch 2\n",
      "[2025-10-20 18:49:42] [DEBUG]: Running validation on step 256...\n",
      "[2025-10-20 18:49:42] [DEBUG]: Running validation on step 256 is done!\n",
      "[2025-10-20 18:49:42] [DEBUG]: Running eval on step 256...\n",
      "[2025-10-20 18:49:43] [DEBUG]: Running eval on step 256 is done!\n",
      "[2025-10-20 18:49:43] [DEBUG]: Start epoch 3\n"
     ]
    },
    {
     "name": "stdout",
     "output_type": "stream",
     "text": [
      "256 0.01679523827932295 0.0005317691558482997 0.014035641170889226\n"
     ]
    },
    {
     "name": "stderr",
     "output_type": "stream",
     "text": [
      "[2025-10-20 18:49:45] [DEBUG]: Start epoch 4\n",
      "[2025-10-20 18:49:47] [DEBUG]: Start epoch 5\n",
      "[2025-10-20 18:49:48] [DEBUG]: Running validation on step 512...\n",
      "[2025-10-20 18:49:49] [DEBUG]: Running validation on step 512 is done!\n",
      "[2025-10-20 18:49:49] [DEBUG]: Running eval on step 512...\n",
      "[2025-10-20 18:49:49] [DEBUG]: Running eval on step 512 is done!\n"
     ]
    },
    {
     "name": "stdout",
     "output_type": "stream",
     "text": [
      "512 0.02847344439661802 0.01679523827932295 0.022913595826021434\n"
     ]
    },
    {
     "name": "stderr",
     "output_type": "stream",
     "text": [
      "[2025-10-20 18:49:49] [DEBUG]: Start epoch 6\n",
      "[2025-10-20 18:49:51] [DEBUG]: Start epoch 7\n",
      "[2025-10-20 18:49:53] [DEBUG]: Start epoch 8\n",
      "[2025-10-20 18:49:54] [DEBUG]: Running validation on step 768...\n",
      "[2025-10-20 18:49:55] [DEBUG]: Running validation on step 768 is done!\n",
      "[2025-10-20 18:49:55] [DEBUG]: Running eval on step 768...\n",
      "[2025-10-20 18:49:55] [DEBUG]: Running eval on step 768 is done!\n"
     ]
    },
    {
     "name": "stdout",
     "output_type": "stream",
     "text": [
      "768 0.032327044194336255 0.02847344439661802 0.02650429044613998\n"
     ]
    },
    {
     "name": "stderr",
     "output_type": "stream",
     "text": [
      "[2025-10-20 18:49:56] [DEBUG]: Start epoch 9\n",
      "[2025-10-20 18:49:57] [DEBUG]: Start epoch 10\n",
      "[2025-10-20 18:49:59] [DEBUG]: Start epoch 11\n",
      "[2025-10-20 18:50:01] [DEBUG]: Running validation on step 1024...\n",
      "[2025-10-20 18:50:01] [DEBUG]: Running validation on step 1024 is done!\n",
      "[2025-10-20 18:50:01] [DEBUG]: Running eval on step 1024...\n",
      "[2025-10-20 18:50:02] [DEBUG]: Running eval on step 1024 is done!\n"
     ]
    },
    {
     "name": "stdout",
     "output_type": "stream",
     "text": [
      "1024 0.037439426035988294 0.032327044194336255 0.030916181165124127\n"
     ]
    },
    {
     "name": "stderr",
     "output_type": "stream",
     "text": [
      "[2025-10-20 18:50:02] [DEBUG]: Start epoch 12\n",
      "[2025-10-20 18:50:04] [DEBUG]: Start epoch 13\n",
      "[2025-10-20 18:50:06] [DEBUG]: Start epoch 14\n",
      "[2025-10-20 18:50:07] [DEBUG]: Running validation on step 1280...\n",
      "[2025-10-20 18:50:08] [DEBUG]: Running validation on step 1280 is done!\n",
      "[2025-10-20 18:50:08] [DEBUG]: Running eval on step 1280...\n",
      "[2025-10-20 18:50:08] [DEBUG]: Running eval on step 1280 is done!\n"
     ]
    },
    {
     "name": "stdout",
     "output_type": "stream",
     "text": [
      "1280 0.03883983661193133 0.037439426035988294 0.03252674568793815\n"
     ]
    },
    {
     "name": "stderr",
     "output_type": "stream",
     "text": [
      "[2025-10-20 18:50:09] [DEBUG]: Start epoch 15\n",
      "[2025-10-20 18:50:11] [DEBUG]: Start epoch 16\n",
      "[2025-10-20 18:50:12] [DEBUG]: Start epoch 17\n",
      "[2025-10-20 18:50:13] [DEBUG]: Running validation on step 1536...\n",
      "[2025-10-20 18:50:14] [DEBUG]: Running validation on step 1536 is done!\n",
      "[2025-10-20 18:50:14] [DEBUG]: Running eval on step 1536...\n",
      "[2025-10-20 18:50:14] [DEBUG]: Running eval on step 1536 is done!\n"
     ]
    },
    {
     "name": "stdout",
     "output_type": "stream",
     "text": [
      "1536 0.04002031452171876 0.03883983661193133 0.03312094564840437\n"
     ]
    },
    {
     "name": "stderr",
     "output_type": "stream",
     "text": [
      "[2025-10-20 18:50:15] [DEBUG]: Start epoch 18\n",
      "[2025-10-20 18:50:17] [DEBUG]: Start epoch 19\n",
      "[2025-10-20 18:50:18] [DEBUG]: Start epoch 20\n",
      "[2025-10-20 18:50:19] [DEBUG]: Running validation on step 1792...\n",
      "[2025-10-20 18:50:20] [DEBUG]: Running validation on step 1792 is done!\n",
      "[2025-10-20 18:50:20] [DEBUG]: Running eval on step 1792...\n",
      "[2025-10-20 18:50:20] [DEBUG]: Running eval on step 1792 is done!\n"
     ]
    },
    {
     "name": "stdout",
     "output_type": "stream",
     "text": [
      "1792 0.04023630190704822 0.04002031452171876 0.034384775904968815\n"
     ]
    },
    {
     "name": "stderr",
     "output_type": "stream",
     "text": [
      "[2025-10-20 18:50:21] [DEBUG]: Start epoch 21\n",
      "[2025-10-20 18:50:23] [DEBUG]: Start epoch 22\n",
      "[2025-10-20 18:50:24] [DEBUG]: Start epoch 23\n",
      "[2025-10-20 18:50:25] [DEBUG]: Running validation on step 2048...\n",
      "[2025-10-20 18:50:26] [DEBUG]: Running validation on step 2048 is done!\n",
      "[2025-10-20 18:50:26] [DEBUG]: Running eval on step 2048...\n",
      "[2025-10-20 18:50:26] [DEBUG]: Running eval on step 2048 is done!\n",
      "[2025-10-20 18:50:27] [DEBUG]: Start epoch 24\n",
      "[2025-10-20 18:50:29] [DEBUG]: Start epoch 25\n",
      "[2025-10-20 18:50:31] [DEBUG]: Start epoch 26\n",
      "[2025-10-20 18:50:31] [DEBUG]: Running validation on step 2304...\n",
      "[2025-10-20 18:50:32] [DEBUG]: Running validation on step 2304 is done!\n",
      "[2025-10-20 18:50:32] [DEBUG]: Running eval on step 2304...\n",
      "[2025-10-20 18:50:32] [DEBUG]: Running eval on step 2304 is done!\n"
     ]
    },
    {
     "name": "stdout",
     "output_type": "stream",
     "text": [
      "2304 0.04053881879220766 0.04023630190704822 0.034471569483120156\n"
     ]
    },
    {
     "name": "stderr",
     "output_type": "stream",
     "text": [
      "[2025-10-20 18:50:33] [DEBUG]: Start epoch 27\n",
      "[2025-10-20 18:50:35] [DEBUG]: Start epoch 28\n",
      "[2025-10-20 18:50:37] [DEBUG]: Start epoch 29\n",
      "[2025-10-20 18:50:38] [DEBUG]: Running validation on step 2560...\n",
      "[2025-10-20 18:50:38] [DEBUG]: Running validation on step 2560 is done!\n",
      "[2025-10-20 18:50:38] [DEBUG]: Running eval on step 2560...\n",
      "[2025-10-20 18:50:39] [DEBUG]: Running eval on step 2560 is done!\n",
      "[2025-10-20 18:50:40] [DEBUG]: Start epoch 30\n",
      "[2025-10-20 18:50:41] [DEBUG]: Start epoch 31\n",
      "[2025-10-20 18:50:43] [DEBUG]: Start epoch 32\n",
      "[2025-10-20 18:50:44] [DEBUG]: Running validation on step 2816...\n",
      "[2025-10-20 18:50:44] [DEBUG]: Running validation on step 2816 is done!\n",
      "[2025-10-20 18:50:44] [DEBUG]: Running eval on step 2816...\n",
      "[2025-10-20 18:50:45] [DEBUG]: Running eval on step 2816 is done!\n",
      "[2025-10-20 18:50:46] [DEBUG]: Start epoch 33\n",
      "[2025-10-20 18:50:47] [DEBUG]: Start epoch 34\n",
      "[2025-10-20 18:50:49] [DEBUG]: Start epoch 35\n",
      "[2025-10-20 18:50:49] [DEBUG]: Running validation on step 3072...\n",
      "[2025-10-20 18:50:50] [DEBUG]: Running validation on step 3072 is done!\n",
      "[2025-10-20 18:50:50] [DEBUG]: Running eval on step 3072...\n",
      "[2025-10-20 18:50:50] [DEBUG]: Running eval on step 3072 is done!\n",
      "[2025-10-20 18:50:52] [DEBUG]: Start epoch 36\n",
      "[2025-10-20 18:50:53] [DEBUG]: Start epoch 37\n",
      "[2025-10-20 18:50:55] [DEBUG]: Start epoch 38\n",
      "[2025-10-20 18:50:55] [DEBUG]: Running validation on step 3328...\n",
      "[2025-10-20 18:50:56] [DEBUG]: Running validation on step 3328 is done!\n",
      "[2025-10-20 18:50:56] [DEBUG]: Running eval on step 3328...\n",
      "[2025-10-20 18:50:56] [DEBUG]: Running eval on step 3328 is done!\n",
      "[2025-10-20 18:50:57] [DEBUG]: Start epoch 39\n",
      "[2025-10-20 18:50:59] [DEBUG]: Start epoch 40\n",
      "[2025-10-20 18:51:01] [DEBUG]: Start epoch 41\n",
      "[2025-10-20 18:51:01] [DEBUG]: Running validation on step 3584...\n",
      "[2025-10-20 18:51:01] [DEBUG]: Running validation on step 3584 is done!\n",
      "[2025-10-20 18:51:01] [DEBUG]: Running eval on step 3584...\n",
      "[2025-10-20 18:51:02] [DEBUG]: Running eval on step 3584 is done!\n",
      "[2025-10-20 18:51:03] [DEBUG]: Start epoch 42\n",
      "[2025-10-20 18:51:05] [DEBUG]: Start epoch 43\n",
      "[2025-10-20 18:51:07] [DEBUG]: Start epoch 44\n",
      "[2025-10-20 18:51:07] [DEBUG]: Running validation on step 3840...\n",
      "[2025-10-20 18:51:08] [DEBUG]: Running validation on step 3840 is done!\n",
      "[2025-10-20 18:51:08] [DEBUG]: Running eval on step 3840...\n",
      "[2025-10-20 18:51:08] [DEBUG]: Running eval on step 3840 is done!\n",
      "[2025-10-20 18:51:09] [DEBUG]: Start epoch 45\n",
      "[2025-10-20 18:51:11] [DEBUG]: Start epoch 46\n",
      "[2025-10-20 18:51:13] [DEBUG]: Start epoch 47\n",
      "[2025-10-20 18:51:13] [DEBUG]: Running validation on step 4096...\n",
      "[2025-10-20 18:51:13] [DEBUG]: Running validation on step 4096 is done!\n",
      "[2025-10-20 18:51:13] [DEBUG]: Running eval on step 4096...\n",
      "[2025-10-20 18:51:14] [DEBUG]: Running eval on step 4096 is done!\n",
      "[2025-10-20 18:51:15] [DEBUG]: Start epoch 48\n",
      "[2025-10-20 18:51:17] [DEBUG]: Start epoch 49\n",
      "[2025-10-20 18:51:19] [DEBUG]: Start epoch 50\n",
      "[2025-10-20 18:51:19] [DEBUG]: Running validation on step 4352...\n",
      "[2025-10-20 18:51:19] [DEBUG]: Running validation on step 4352 is done!\n",
      "[2025-10-20 18:51:19] [DEBUG]: Running eval on step 4352...\n",
      "[2025-10-20 18:51:20] [DEBUG]: Running eval on step 4352 is done!\n",
      "[2025-10-20 18:51:21] [DEBUG]: Start epoch 51\n",
      "[2025-10-20 18:51:23] [DEBUG]: Start epoch 52\n",
      "[2025-10-20 18:51:25] [DEBUG]: Running validation on step 4608...\n",
      "[2025-10-20 18:51:25] [DEBUG]: Running validation on step 4608 is done!\n",
      "[2025-10-20 18:51:25] [DEBUG]: Running eval on step 4608...\n",
      "[2025-10-20 18:51:26] [DEBUG]: Running eval on step 4608 is done!\n",
      "[2025-10-20 18:51:26] [DEBUG]: Start epoch 53\n",
      "[2025-10-20 18:51:27] [DEBUG]: Start epoch 54\n",
      "[2025-10-20 18:51:29] [DEBUG]: Start epoch 55\n",
      "[2025-10-20 18:51:31] [DEBUG]: Running validation on step 4864...\n",
      "[2025-10-20 18:51:31] [DEBUG]: Running validation on step 4864 is done!\n",
      "[2025-10-20 18:51:31] [DEBUG]: Running eval on step 4864...\n",
      "[2025-10-20 18:51:32] [DEBUG]: Running eval on step 4864 is done!\n",
      "[2025-10-20 18:51:32] [DEBUG]: Start epoch 56\n",
      "[2025-10-20 18:51:34] [DEBUG]: Start epoch 57\n",
      "[2025-10-20 18:51:35] [DEBUG]: Start epoch 58\n",
      "[2025-10-20 18:51:37] [DEBUG]: Running validation on step 5120...\n",
      "[2025-10-20 18:51:37] [DEBUG]: Running validation on step 5120 is done!\n",
      "[2025-10-20 18:51:37] [DEBUG]: Running eval on step 5120...\n",
      "[2025-10-20 18:51:38] [DEBUG]: Running eval on step 5120 is done!\n",
      "[2025-10-20 18:51:38] [DEBUG]: Start epoch 59\n",
      "[2025-10-20 18:51:40] [DEBUG]: Start epoch 60\n",
      "[2025-10-20 18:51:41] [DEBUG]: Start epoch 61\n",
      "[2025-10-20 18:51:43] [DEBUG]: Running validation on step 5376...\n",
      "[2025-10-20 18:51:43] [DEBUG]: Running validation on step 5376 is done!\n",
      "[2025-10-20 18:51:43] [DEBUG]: Running eval on step 5376...\n",
      "[2025-10-20 18:51:44] [DEBUG]: Running eval on step 5376 is done!\n",
      "[2025-10-20 18:51:44] [DEBUG]: Start epoch 62\n",
      "[2025-10-20 18:51:46] [DEBUG]: Start epoch 63\n",
      "[2025-10-20 18:51:48] [DEBUG]: Start epoch 64\n",
      "[2025-10-20 18:51:49] [DEBUG]: Running validation on step 5632...\n",
      "[2025-10-20 18:51:49] [DEBUG]: Running validation on step 5632 is done!\n",
      "[2025-10-20 18:51:49] [DEBUG]: Running eval on step 5632...\n",
      "[2025-10-20 18:51:50] [DEBUG]: Running eval on step 5632 is done!\n",
      "[2025-10-20 18:51:51] [DEBUG]: Start epoch 65\n",
      "[2025-10-20 18:51:52] [DEBUG]: Start epoch 66\n",
      "[2025-10-20 18:51:54] [DEBUG]: There is no progress during 40 epochs. Finish training\n",
      "[2025-10-20 18:51:54] [DEBUG]: Training procedure has been finished!\n",
      "[2025-10-20 18:51:54] [DEBUG]: Saving model...\n",
      "[2025-10-20 18:51:54] [DEBUG]: Saved model as ../checkpoints/sasrec_beauty_final_state.pth\n"
     ]
    },
    {
     "name": "stdout",
     "output_type": "stream",
     "text": [
      "Training finished!\n"
     ]
    }
   ],
   "source": [
    "trainer = Trainer(\n",
    "    experiment_name=config['experiment_name'],\n",
    "    train_dataloader=train_dataloader,\n",
    "    validation_dataloader=validation_dataloader,\n",
    "    eval_dataloader=eval_dataloader,\n",
    "    model=model,\n",
    "    optimizer=optimizer,\n",
    "    loss_function=loss_function,\n",
    "    ranking_metrics=ranking_metrics,\n",
    "    epoch_cnt=config.get('train_epochs_num'),\n",
    "    step_cnt=config.get('train_steps_num'),\n",
    "    best_metric='ndcg@20',\n",
    "    epochs_threshold=config.get('early_stopping_threshold', 40),\n",
    "    valid_step=256,\n",
    "    eval_step=256\n",
    ")\n",
    "\n",
    "best_checkpoint = trainer.train()\n",
    "trainer.save()\n",
    "\n",
    "print('Training finished!')"
   ]
  },
  {
   "cell_type": "code",
   "execution_count": 17,
   "id": "240cd46e-e44a-4eda-8abf-5804c8689a17",
   "metadata": {
    "execution": {
     "iopub.execute_input": "2025-10-20T18:52:39.265520Z",
     "iopub.status.busy": "2025-10-20T18:52:39.265192Z",
     "iopub.status.idle": "2025-10-20T18:52:39.793890Z",
     "shell.execute_reply": "2025-10-20T18:52:39.793379Z",
     "shell.execute_reply.started": "2025-10-20T18:52:39.265504Z"
    }
   },
   "outputs": [
    {
     "name": "stderr",
     "output_type": "stream",
     "text": [
      "[2025-10-20 18:52:39] [DEBUG]: Running eval on step 0...\n",
      "[2025-10-20 18:52:39] [DEBUG]: Running eval on step 0 is done!\n"
     ]
    },
    {
     "name": "stdout",
     "output_type": "stream",
     "text": [
      "ndcg@5 0.020869553694170435\n",
      "ndcg@10 0.0271735891299326\n",
      "ndcg@20 0.034471569483120156\n",
      "recall@5 0.031972454500737824\n",
      "recall@10 0.051647811116576486\n",
      "recall@20 0.08071367884451996\n"
     ]
    }
   ],
   "source": [
    "trainer.load(best_checkpoint)\n",
    "trainer.eval()"
   ]
  },
  {
   "cell_type": "code",
   "execution_count": null,
   "id": "3efa5844-a692-455d-82d5-96c98d8b77d6",
   "metadata": {},
   "outputs": [],
   "source": []
  }
 ],
 "metadata": {
  "kernelspec": {
   "display_name": "DataSphere Kernel",
   "language": "python",
   "name": "python3"
  },
  "language_info": {
   "codemirror_mode": {
    "name": "ipython",
    "version": 3
   },
   "file_extension": ".py",
   "mimetype": "text/x-python",
   "name": "python",
   "nbconvert_exporter": "python",
   "pygments_lexer": "ipython3",
   "version": "3.10.12"
  }
 },
 "nbformat": 4,
 "nbformat_minor": 5
}
